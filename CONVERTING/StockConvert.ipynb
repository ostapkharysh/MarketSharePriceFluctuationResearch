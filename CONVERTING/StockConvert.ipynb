{
 "cells": [
  {
   "cell_type": "code",
   "execution_count": 13,
   "metadata": {},
   "outputs": [],
   "source": [
    "import datetime\n",
    "import pandas as pd\n",
    "import numpy as np"
   ]
  },
  {
   "cell_type": "code",
   "execution_count": 14,
   "metadata": {},
   "outputs": [],
   "source": [
    "intraday = pd.DataFrame(columns=['date', 'price'])\n",
    "\n",
    "with open(\"//home/ostapkharysh/Documents/bachelor_thesis/additional_data/202_googl.txt\", \"r\") as stock:\n",
    "    for line in stock:\n",
    "        el = line.split(\" \")[0]+\" \"+ line.split(\" \")[1]\n",
    "        data = datetime.datetime.strptime(line.split(\" \")[0]+\" \"+ line.split(\" \")[1], '%Y-%m-%d %H:%M:%S')\n",
    "        intraday = intraday.append({'date': data, 'price': float(line.split(\" \")[-1].strip())}, ignore_index = True)\n"
   ]
  },
  {
   "cell_type": "code",
   "execution_count": 15,
   "metadata": {},
   "outputs": [
    {
     "data": {
      "text/html": [
       "<div>\n",
       "<style scoped>\n",
       "    .dataframe tbody tr th:only-of-type {\n",
       "        vertical-align: middle;\n",
       "    }\n",
       "\n",
       "    .dataframe tbody tr th {\n",
       "        vertical-align: top;\n",
       "    }\n",
       "\n",
       "    .dataframe thead th {\n",
       "        text-align: right;\n",
       "    }\n",
       "</style>\n",
       "<table border=\"1\" class=\"dataframe\">\n",
       "  <thead>\n",
       "    <tr style=\"text-align: right;\">\n",
       "      <th></th>\n",
       "      <th>date</th>\n",
       "      <th>price</th>\n",
       "    </tr>\n",
       "  </thead>\n",
       "  <tbody>\n",
       "    <tr>\n",
       "      <th>90103</th>\n",
       "      <td>2016-12-30 15:41:00</td>\n",
       "      <td>793.627</td>\n",
       "    </tr>\n",
       "    <tr>\n",
       "      <th>90104</th>\n",
       "      <td>2016-12-30 15:42:00</td>\n",
       "      <td>793.040</td>\n",
       "    </tr>\n",
       "    <tr>\n",
       "      <th>90105</th>\n",
       "      <td>2016-12-30 15:43:00</td>\n",
       "      <td>792.880</td>\n",
       "    </tr>\n",
       "    <tr>\n",
       "      <th>90106</th>\n",
       "      <td>2016-12-30 15:44:00</td>\n",
       "      <td>792.680</td>\n",
       "    </tr>\n",
       "    <tr>\n",
       "      <th>90107</th>\n",
       "      <td>2016-12-30 15:45:00</td>\n",
       "      <td>792.775</td>\n",
       "    </tr>\n",
       "  </tbody>\n",
       "</table>\n",
       "</div>"
      ],
      "text/plain": [
       "                     date    price\n",
       "90103 2016-12-30 15:41:00  793.627\n",
       "90104 2016-12-30 15:42:00  793.040\n",
       "90105 2016-12-30 15:43:00  792.880\n",
       "90106 2016-12-30 15:44:00  792.680\n",
       "90107 2016-12-30 15:45:00  792.775"
      ]
     },
     "execution_count": 15,
     "metadata": {},
     "output_type": "execute_result"
    }
   ],
   "source": [
    "intraday.tail()"
   ]
  },
  {
   "cell_type": "code",
   "execution_count": 16,
   "metadata": {},
   "outputs": [],
   "source": [
    "res = [np.log(intraday.price[idx]/intraday.price[idx+1]) for idx in range(0, len(intraday.price)-1)]"
   ]
  },
  {
   "cell_type": "code",
   "execution_count": 17,
   "metadata": {},
   "outputs": [],
   "source": [
    "intraday = intraday[:-1]\n",
    "intraday['fin_return'] = res"
   ]
  },
  {
   "cell_type": "code",
   "execution_count": 18,
   "metadata": {},
   "outputs": [],
   "source": [
    "intraday.to_csv(\"GOOGReturn.csv\", index=False)"
   ]
  }
 ],
 "metadata": {
  "kernelspec": {
   "display_name": "Python 3",
   "language": "python",
   "name": "python3"
  },
  "language_info": {
   "codemirror_mode": {
    "name": "ipython",
    "version": 3
   },
   "file_extension": ".py",
   "mimetype": "text/x-python",
   "name": "python",
   "nbconvert_exporter": "python",
   "pygments_lexer": "ipython3",
   "version": "3.5.2"
  }
 },
 "nbformat": 4,
 "nbformat_minor": 2
}
