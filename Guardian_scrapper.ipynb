{
 "cells": [
  {
   "cell_type": "code",
   "execution_count": null,
   "metadata": {},
   "outputs": [],
   "source": [
    "# Major usage of: https://gist.github.com/dannguyen/c9cb220093ee4c12b840"
   ]
  },
  {
   "cell_type": "code",
   "execution_count": 57,
   "metadata": {},
   "outputs": [],
   "source": [
    "import json\n",
    "import requests\n",
    "from os import makedirs\n",
    "from os.path import join, exists, abspath\n",
    "from datetime import date, timedelta\n",
    "from newspaper import Article"
   ]
  },
  {
   "cell_type": "code",
   "execution_count": 91,
   "metadata": {},
   "outputs": [],
   "source": [
    "ARTICLES_DIR = join('/home/ostapkharysh/Documents/bt_data/Guardian_news', 'tempdata', 'articles')\n",
    "makedirs(ARTICLES_DIR, exist_ok=True)"
   ]
  },
  {
   "cell_type": "code",
   "execution_count": 92,
   "metadata": {},
   "outputs": [],
   "source": [
    "MY_API_KEY = \"0abd707a-96aa-4e21-b5cd-b314c6955753\"\n",
    "API_ENDPOINT = 'http://content.guardianapis.com/search'\n",
    "my_params = {\n",
    "    'from-date': \"\",\n",
    "    'to-date': \"\",\n",
    "    'order-by': \"newest\",\n",
    "    'show-fields': 'all',\n",
    "    'page-size': 200,\n",
    "    'api-key': MY_API_KEY,\n",
    "    'lang': 'en'\n",
    "}"
   ]
  },
  {
   "cell_type": "code",
   "execution_count": 93,
   "metadata": {},
   "outputs": [
    {
     "name": "stdout",
     "output_type": "stream",
     "text": [
      "Downloading 2016-02-01\n",
      "...page 1\n",
      "...page 2\n",
      "Writing to /home/ostapkharysh/Documents/bt_data/Guardian_news/tempdata/articles/2016-02-01.json\n",
      "Downloading 2016-02-02\n",
      "...page 1\n",
      "...page 2\n",
      "Writing to /home/ostapkharysh/Documents/bt_data/Guardian_news/tempdata/articles/2016-02-02.json\n",
      "Downloading 2016-02-03\n",
      "...page 1\n",
      "...page 2\n",
      "Writing to /home/ostapkharysh/Documents/bt_data/Guardian_news/tempdata/articles/2016-02-03.json\n",
      "Downloading 2016-02-04\n",
      "...page 1\n",
      "...page 2\n",
      "...page 3\n",
      "Writing to /home/ostapkharysh/Documents/bt_data/Guardian_news/tempdata/articles/2016-02-04.json\n",
      "Downloading 2016-02-05\n",
      "...page 1\n",
      "...page 2\n",
      "Writing to /home/ostapkharysh/Documents/bt_data/Guardian_news/tempdata/articles/2016-02-05.json\n",
      "Downloading 2016-02-06\n",
      "...page 1\n",
      "Writing to /home/ostapkharysh/Documents/bt_data/Guardian_news/tempdata/articles/2016-02-06.json\n",
      "Downloading 2016-02-07\n",
      "...page 1\n",
      "...page 2\n",
      "Writing to /home/ostapkharysh/Documents/bt_data/Guardian_news/tempdata/articles/2016-02-07.json\n",
      "Downloading 2016-02-08\n",
      "...page 1\n",
      "...page 2\n",
      "Writing to /home/ostapkharysh/Documents/bt_data/Guardian_news/tempdata/articles/2016-02-08.json\n",
      "Downloading 2016-02-09\n",
      "...page 1\n",
      "...page 2\n",
      "Writing to /home/ostapkharysh/Documents/bt_data/Guardian_news/tempdata/articles/2016-02-09.json\n",
      "Downloading 2016-02-10\n",
      "...page 1\n",
      "...page 2\n",
      "Writing to /home/ostapkharysh/Documents/bt_data/Guardian_news/tempdata/articles/2016-02-10.json\n",
      "Downloading 2016-02-11\n",
      "...page 1\n",
      "...page 2\n",
      "...page 3\n",
      "Writing to /home/ostapkharysh/Documents/bt_data/Guardian_news/tempdata/articles/2016-02-11.json\n",
      "Downloading 2016-02-12\n",
      "...page 1\n",
      "...page 2\n",
      "...page 3\n",
      "Writing to /home/ostapkharysh/Documents/bt_data/Guardian_news/tempdata/articles/2016-02-12.json\n",
      "Downloading 2016-02-13\n",
      "...page 1\n",
      "...page 2\n",
      "Writing to /home/ostapkharysh/Documents/bt_data/Guardian_news/tempdata/articles/2016-02-13.json\n",
      "Downloading 2016-02-14\n",
      "...page 1\n",
      "...page 2\n",
      "Writing to /home/ostapkharysh/Documents/bt_data/Guardian_news/tempdata/articles/2016-02-14.json\n",
      "Downloading 2016-02-15\n",
      "...page 1\n",
      "...page 2\n",
      "Writing to /home/ostapkharysh/Documents/bt_data/Guardian_news/tempdata/articles/2016-02-15.json\n",
      "Downloading 2016-02-16\n",
      "...page 1\n",
      "...page 2\n",
      "Writing to /home/ostapkharysh/Documents/bt_data/Guardian_news/tempdata/articles/2016-02-16.json\n",
      "Downloading 2016-02-17\n",
      "...page 1\n",
      "...page 2\n",
      "Writing to /home/ostapkharysh/Documents/bt_data/Guardian_news/tempdata/articles/2016-02-17.json\n",
      "Downloading 2016-02-18\n",
      "...page 1\n",
      "...page 2\n",
      "Writing to /home/ostapkharysh/Documents/bt_data/Guardian_news/tempdata/articles/2016-02-18.json\n",
      "Downloading 2016-02-19\n",
      "...page 1\n",
      "...page 2\n",
      "Writing to /home/ostapkharysh/Documents/bt_data/Guardian_news/tempdata/articles/2016-02-19.json\n",
      "Downloading 2016-02-20\n",
      "...page 1\n",
      "Writing to /home/ostapkharysh/Documents/bt_data/Guardian_news/tempdata/articles/2016-02-20.json\n",
      "Downloading 2016-02-21\n",
      "...page 1\n",
      "...page 2\n",
      "Writing to /home/ostapkharysh/Documents/bt_data/Guardian_news/tempdata/articles/2016-02-21.json\n",
      "Downloading 2016-02-22\n",
      "...page 1\n",
      "...page 2\n",
      "Writing to /home/ostapkharysh/Documents/bt_data/Guardian_news/tempdata/articles/2016-02-22.json\n",
      "Downloading 2016-02-23\n",
      "...page 1\n",
      "...page 2\n",
      "Writing to /home/ostapkharysh/Documents/bt_data/Guardian_news/tempdata/articles/2016-02-23.json\n",
      "Downloading 2016-02-24\n",
      "...page 1\n",
      "...page 2\n",
      "Writing to /home/ostapkharysh/Documents/bt_data/Guardian_news/tempdata/articles/2016-02-24.json\n",
      "Downloading 2016-02-25\n",
      "...page 1\n",
      "...page 2\n",
      "Writing to /home/ostapkharysh/Documents/bt_data/Guardian_news/tempdata/articles/2016-02-25.json\n",
      "Downloading 2016-02-26\n",
      "...page 1\n",
      "...page 2\n",
      "...page 3\n",
      "Writing to /home/ostapkharysh/Documents/bt_data/Guardian_news/tempdata/articles/2016-02-26.json\n",
      "Downloading 2016-02-27\n",
      "...page 1\n",
      "Writing to /home/ostapkharysh/Documents/bt_data/Guardian_news/tempdata/articles/2016-02-27.json\n",
      "Downloading 2016-02-28\n",
      "...page 1\n",
      "...page 2\n",
      "Writing to /home/ostapkharysh/Documents/bt_data/Guardian_news/tempdata/articles/2016-02-28.json\n",
      "Downloading 2016-02-29\n",
      "...page 1\n",
      "...page 2\n",
      "Writing to /home/ostapkharysh/Documents/bt_data/Guardian_news/tempdata/articles/2016-02-29.json\n",
      "Downloading 2016-03-01\n",
      "...page 1\n",
      "...page 2\n",
      "...page 3\n",
      "Writing to /home/ostapkharysh/Documents/bt_data/Guardian_news/tempdata/articles/2016-03-01.json\n"
     ]
    }
   ],
   "source": [
    "# day iteration from here:\n",
    "start_date = date(2016, 2, 1)  #month, day\n",
    "end_date = date(2016,3, 1)\n",
    "dayrange = range((end_date - start_date).days + 1)\n",
    "for daycount in dayrange:\n",
    "    dt = start_date + timedelta(days=daycount)\n",
    "    datestr = dt.strftime('%Y-%m-%d')\n",
    "    fname = join(ARTICLES_DIR, datestr + '.json')\n",
    "    if not exists(fname):\n",
    "        # then let's download it\n",
    "        print(\"Downloading\", datestr)\n",
    "        all_results = []\n",
    "        my_params['from-date'] = datestr\n",
    "        my_params['to-date'] = datestr\n",
    "        current_page = 1\n",
    "        total_pages = 1\n",
    "        while current_page <= total_pages:\n",
    "            print(\"...page\", current_page)\n",
    "            my_params['page'] = current_page\n",
    "            resp = requests.get(API_ENDPOINT, my_params)\n",
    "            data = resp.json()\n",
    "            all_results.extend(data['response']['results'])\n",
    "            # if there is more than one page\n",
    "            current_page += 1\n",
    "            total_pages = data['response']['pages']\n",
    "        with open(fname, 'w') as f:\n",
    "            print(\"Writing to\", fname)\n",
    "            # re-serialize it for pretty indentation\n",
    "            f.write(json.dumps(all_results, indent=2))"
   ]
  },
  {
   "cell_type": "code",
   "execution_count": 94,
   "metadata": {},
   "outputs": [
    {
     "data": {
      "text/plain": [
       "apiUrl                https://content.guardianapis.com/us-news/2016/...\n",
       "fields                {'bodyText': 'New York lawyers have been secre...\n",
       "id                    us-news/2016/jan/31/lawyers-grey-money-underco...\n",
       "isHosted                                                          False\n",
       "pillarId                                                    pillar/news\n",
       "pillarName                                                         News\n",
       "sectionId                                                       us-news\n",
       "sectionName                                                     US news\n",
       "type                                                            article\n",
       "webPublicationDate                                 2016-02-01T00:00:12Z\n",
       "webTitle              Undercover film shows how lawyers could ease f...\n",
       "webUrl                https://www.theguardian.com/us-news/2016/jan/3...\n",
       "Name: 0, dtype: object"
      ]
     },
     "execution_count": 94,
     "metadata": {},
     "output_type": "execute_result"
    }
   ],
   "source": [
    "import pandas as pd\n",
    "with open('/home/ostapkharysh/Documents/bt_data/Guardian_news/tempdata/articles/2016-02-01.json', 'r') as f:\n",
    "    data = json.load(f)\n",
    "df = pd.DataFrame(data)\n",
    "el = df.iloc[0]\n",
    "el"
   ]
  },
  {
   "cell_type": "code",
   "execution_count": 60,
   "metadata": {},
   "outputs": [
    {
     "name": "stdout",
     "output_type": "stream",
     "text": [
      "2016-02-01T00:00:12Z\n"
     ]
    }
   ],
   "source": [
    "print(el['webPublicationDate'])\n",
    "k = el['webUrl']"
   ]
  },
  {
   "cell_type": "code",
   "execution_count": 62,
   "metadata": {},
   "outputs": [],
   "source": [
    "article = Article(k.strip())\n",
    "try:\n",
    "    article.download()\n",
    "except HTTPError:\n",
    "    print('***FAILED TO DOWNLOAD***', article.url)\n"
   ]
  },
  {
   "cell_type": "code",
   "execution_count": 75,
   "metadata": {},
   "outputs": [
    {
     "data": {
      "text/plain": [
       "<Response [200]>"
      ]
     },
     "execution_count": 75,
     "metadata": {},
     "output_type": "execute_result"
    }
   ],
   "source": [
    "requests.get(k)"
   ]
  },
  {
   "cell_type": "code",
   "execution_count": 64,
   "metadata": {},
   "outputs": [],
   "source": [
    "article.parse()"
   ]
  },
  {
   "cell_type": "code",
   "execution_count": 65,
   "metadata": {},
   "outputs": [
    {
     "data": {
      "text/plain": [
       "['Rupert Neate']"
      ]
     },
     "execution_count": 65,
     "metadata": {},
     "output_type": "execute_result"
    }
   ],
   "source": [
    "article.authors"
   ]
  },
  {
   "cell_type": "code",
   "execution_count": 85,
   "metadata": {},
   "outputs": [
    {
     "data": {
      "text/plain": [
       "datetime.datetime(2016, 1, 31, 0, 0)"
      ]
     },
     "execution_count": 85,
     "metadata": {},
     "output_type": "execute_result"
    }
   ],
   "source": [
    "article.publish_date"
   ]
  },
  {
   "cell_type": "code",
   "execution_count": 69,
   "metadata": {},
   "outputs": [
    {
     "data": {
      "text/plain": [
       "\"New York lawyers have been secretly filmed advising how an African minister could use “grey money” to buy up a Manhattan brownstone, a private jet and a luxury yacht without US authorities – or his impoverished citizens back home – ever knowing.\\n\\nAn undercover activist posing as an adviser to an African mining minister filmed encounters with 13 US law firms, offering a rare glimpse into how US lawyers could possibly act to facilitate the flow of dirty money into the country despite Barack Obama repeatedly demanding a crackdown on global corruption.\\n\\nAlmost all the lawyers offered suggestions as to how the minister could move “grey money” and “suspect funds” into the US while ensuring his identity was never disclosed. None of them made suggestions that were illegal.\\n\\nOne lawyer, Mark Koplik, was recorded by an undercover investigator from anti-corruption charity Global Witness as saying: “So we have to scrub it at the beginning, if we can, or scrub it at the intermediary location.”\\n\\nKoplik, who boasted that US authorities “don’t send lawyers to jail because we run the country”, advised the minister could hide his identity and avoid US anti-money laundering checks by exploiting a loophole and wiring the money directly to a US law firm to avoid probing questions about the legitimacy of the funds. Global Witness said its investigator told lawyers that the minister’s money “represented payments to him for helping companies receive mining concessions in his country”.\\n\\nUS to crack down on high-end real estate purchased with 'dirty money' Read more\\n\\nKoplik, a managing partner of Henderson & Koplik on Manhattan’s Lexington Avenue, also advised the use of family trusts to obscure the paper trail. “The smaller ones are often more flexible and understanding and less concerned about their reputation, because they fly to a greater extent below the radar screen,” he said.\\n\\nKoplik refused to comment to the Guardian. David Gendelman, a lawyer representing Koplik, refused to provide any comment because Global Witness had not provided a copy of the undercover footage. Gendelman refused to state whether Koplik denied the allegations. Neither Koplik nor any of the other lawyers secretly recorded entered into any agreement with Global Witness’s undercover activist, and none took him on as a client. Nor were any of the suggestions made by the lawyers illegal.\\n\\nAnother lawyer recorded was James Silkenat, a partner at Sullivan and Worcester who was president of the American Bar Association at the time of the filming last year. Silkenat explained how a complex web of ownership companies could be created “to insulate his ownership from public view”.\\n\\n“Company A is owned by Company B, who is owned jointly by Company C and D, and your party owns all of or the majority of the shares of C and D,” Silkenat explained.\\n\\nThe undercover activist told Silkenat that the minister earned about as much as a US teacher but wanted to buy a $10m brownstone, a $20m Gulfstream private jet and a yacht that “would be at least, if you’re talking about an [Roman] Abramovich [style] yacht, this dimension would be around $200-$300m”.\\n\\nSilkenat’s colleague, Hugh Finnegan, said the supposed minister would not be alone in trying to hide his identity as the real owner of the assets. “Many foreign owners just don’t want anybody to know who they are. So they set up either corporations or in some cases they set up limited liability companies, and it’s usually one or two other companies up the food chain, making it more difficult to identify [who the real owner is].”\\n\\nSilkenat said companies were routinely created to hide the true owners from public scrutiny. “Lots of the big apartment buildings here, where the purchase price ranges from $30-$90m, now are done through a corporate entity to shield whoever’s buying it from public discussion.” This is not illegal.\\n\\nSilkenat and Finnegan deny that they acted inappropriately and said they found the undercover activist to be “dishonest and untrustworthy” and would “under no circumstances … ever take on such a client”.\\n\\n“A full recounting of our experience with [the investigator] shows we did the right things,” Silkenat and Finnegan said in a statement to the Guardian. “We participated in a preliminary meeting with someone who we reasonably believed to be a reputable attorney. We listened, we told him that there would be a need to conduct due diligence on the background and past activities of his purported client, as well as the sources of the funds his ‘client’ was seeking to invest.\\n\\n“We told him that his minister’s activities must be shown to have been lawful – under both the laws of the United States and other countries – and that we would not assist with any unlawful activity, going so far as to state that we believed that we would be obligated to report any unlawful activity on the part of his client to the authorities. The legal and financial topics we discussed were basic and generic and obtainable through a Google search and are used on an everyday basis in the US to protect privacy concerns.”\\n\\n\\n\\nThey said that if the camera had followed them after the meeting it would have shown them concluding that the investigator was “disreputable and that we would not deal with him again”.\\n\\nThe Global Witness investigation comes as the US government prepares to begin a crackdown on corrupt foreign officials and international criminal leaders buying up multimillion-dollar Manhattan apartments with “dirty money”.\\n\\nJennifer Shasky Calvery, director of the Financial Crimes Enforcement Network (FinCEN), a branch of the Treasury, said “all-cash” buyers of high-end properties will, from March, be forced to reveal the true “beneficial owner” and would no longer be able to hide behind a string of shell companies. “We are seeking to understand the risk that corrupt foreign officials, or transnational criminals, may be using premium US real estate to secretly invest millions in dirty money,” she said.\\n\\nThe World Bank estimates that about $1tn is paid in bribes every year, with corruption disproportionately affecting the world’s poorest people, particularly in Africa.\\n\\nThe circumstances suggested by Global Witness in its undercover filming closely mirror those of Teodoro Obiang, son of the president of Equatorial Guinea, who allegedly used US lawyers to move more than $100m into the US. In 2014, he was forced to sell a massive mansion in Malibu, California, as well as a Ferrari, in a $34m settlement with US authorities as the centerpiece of the Obama administration’s Kleptocracy Asset Recovery Initiative.\\n\\nObiang – who had commissioned plans for a luxury superyacht costing $380m, nearly three times his country’s combined health and education budgets – got to keep a Gulfstream jet and most of his $2m worth of Michael Jackson memorabilia.\""
      ]
     },
     "execution_count": 69,
     "metadata": {},
     "output_type": "execute_result"
    }
   ],
   "source": [
    "article.text"
   ]
  },
  {
   "cell_type": "code",
   "execution_count": null,
   "metadata": {},
   "outputs": [],
   "source": []
  }
 ],
 "metadata": {
  "kernelspec": {
   "display_name": "Python 3",
   "language": "python",
   "name": "python3"
  },
  "language_info": {
   "codemirror_mode": {
    "name": "ipython",
    "version": 3
   },
   "file_extension": ".py",
   "mimetype": "text/x-python",
   "name": "python",
   "nbconvert_exporter": "python",
   "pygments_lexer": "ipython3",
   "version": "3.5.2"
  }
 },
 "nbformat": 4,
 "nbformat_minor": 2
}
