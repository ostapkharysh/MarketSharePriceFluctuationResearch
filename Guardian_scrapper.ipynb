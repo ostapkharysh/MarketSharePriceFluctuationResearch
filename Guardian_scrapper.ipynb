{
 "cells": [
  {
   "cell_type": "code",
   "execution_count": 1,
   "metadata": {},
   "outputs": [],
   "source": [
    "# Major usage of: https://gist.github.com/dannguyen/c9cb220093ee4c12b840\n",
    "guardian_db = '/home/ostapkharysh/Documents/bt_data/DB/Guardian'"
   ]
  },
  {
   "cell_type": "code",
   "execution_count": 2,
   "metadata": {},
   "outputs": [],
   "source": [
    "import json\n",
    "import requests\n",
    "from os import makedirs\n",
    "from os.path import join, exists, abspath\n",
    "from datetime import date, timedelta\n",
    "from newspaper import Article\n",
    "import pandas as pd\n",
    "import datetime\n",
    "from requests.exceptions import HTTPError\n",
    "from db_manager import *\n",
    "import re"
   ]
  },
  {
   "cell_type": "code",
   "execution_count": 3,
   "metadata": {},
   "outputs": [],
   "source": [
    "def get_text(link):\n",
    "    try:\n",
    "        r = requests.get(link.strip())\n",
    "        r.raise_for_status()\n",
    "        article = Article(link.strip())\n",
    "        article.download()\n",
    "        article.parse()\n",
    "        return article.text\n",
    "    except HTTPError:\n",
    "        print(\"No article found by this link!\", article.url) "
   ]
  },
  {
   "cell_type": "code",
   "execution_count": 4,
   "metadata": {},
   "outputs": [],
   "source": [
    "#ARTICLES_DIR = join('/home/ostapkharysh/Documents/bt_data/Guardian_news', 'tempdata', 'articles')\n",
    "#makedirs(ARTICLES_DIR, exist_ok=True)"
   ]
  },
  {
   "cell_type": "code",
   "execution_count": 5,
   "metadata": {},
   "outputs": [],
   "source": [
    "MY_API_KEY = \"0abd707a-96aa-4e21-b5cd-b314c6955753\"\n",
    "API_ENDPOINT = 'http://content.guardianapis.com/search'\n",
    "my_params = {\n",
    "    'from-date': \"\",\n",
    "    'to-date': \"\",\n",
    "    'order-by': \"newest\",\n",
    "    'show-fields': 'all',\n",
    "    'page-size': 200,\n",
    "    'api-key': MY_API_KEY,\n",
    "    'lang': 'en'\n",
    "}"
   ]
  },
  {
   "cell_type": "code",
   "execution_count": 6,
   "metadata": {},
   "outputs": [
    {
     "name": "stdout",
     "output_type": "stream",
     "text": [
      "Downloading 2013-01-01\n",
      "...page 1\n",
      "FINISHED!\n"
     ]
    }
   ],
   "source": [
    "# day iteration from here:\n",
    "conn = create_connection(guardian_db)\n",
    "\n",
    "start_date = date(2013, 1, 1)  #month, day\n",
    "end_date = date(2013,1, 1)\n",
    "dayrange = range((end_date - start_date).days + 1)\n",
    "for daycount in dayrange:\n",
    "    dt = start_date + timedelta(days=daycount)\n",
    "    datestr = dt.strftime('%Y-%m-%d')\n",
    "    #fname = join(ARTICLES_DIR, datestr + '.json')\n",
    "    print(\"Downloading\", datestr)\n",
    "    all_results = []\n",
    "    my_params['from-date'] = datestr\n",
    "    my_params['to-date'] = datestr\n",
    "    current_page = 1\n",
    "    total_pages = 1\n",
    "    while current_page <= total_pages:\n",
    "        print(\"...page\", current_page)\n",
    "        my_params['page'] = current_page\n",
    "        resp = requests.get(API_ENDPOINT, my_params)\n",
    "        data = resp.json()\n",
    "        all_results.extend(data['response']['results'])\n",
    "        # if more than one page\n",
    "        current_page += 1\n",
    "        total_pages = data['response']['pages']\n",
    "        #print(total_pages)\n",
    "\n",
    "    #with open(fname, 'w') as f:\n",
    "    #print(\"Writing to\", fname)\n",
    "    try:\n",
    "        df = pd.DataFrame(all_results)\n",
    "        s = [[df.iloc[i]['webPublicationDate'], df.iloc[i]['webTitle'], get_text(df.iloc[i]['webUrl']),\n",
    "              df.iloc[i]['webUrl']] for i in range(len(df))]\n",
    "        #print(s[0])\n",
    "        with conn:\n",
    "            for el in s:\n",
    "                news = ( datetime.datetime.strptime(el[0], \"%Y-%m-%dT%H:%M:%SZ\"), el[1], el[2], el[3])\n",
    "                create_task(conn, news)\n",
    "    except HTTPError:\n",
    "        print(\"No article found by this link!\", article.url)\n",
    "        #f.write(json.dumps(all_results, indent=2))\n",
    "close_db(conn)\n",
    "print(\"FINISHED!\")"
   ]
  },
  {
   "cell_type": "code",
   "execution_count": null,
   "metadata": {},
   "outputs": [],
   "source": []
  }
 ],
 "metadata": {
  "kernelspec": {
   "display_name": "Python 3",
   "language": "python",
   "name": "python3"
  },
  "language_info": {
   "codemirror_mode": {
    "name": "ipython",
    "version": 3
   },
   "file_extension": ".py",
   "mimetype": "text/x-python",
   "name": "python",
   "nbconvert_exporter": "python",
   "pygments_lexer": "ipython3",
   "version": "3.5.2"
  }
 },
 "nbformat": 4,
 "nbformat_minor": 2
}
