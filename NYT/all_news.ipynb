{
 "cells": [
  {
   "cell_type": "code",
   "execution_count": 20,
   "metadata": {},
   "outputs": [],
   "source": [
    "from newsapi import NewsApiClient\n",
    "\n",
    "newsapi = NewsApiClient(api_key='0763606ae56d49e08902365e0dbcb239')"
   ]
  },
  {
   "cell_type": "code",
   "execution_count": 34,
   "metadata": {},
   "outputs": [],
   "source": [
    "all_articles = newsapi.get_everything(q='Microsoft',\n",
    "                                      #sources='bbc-news,the-verge',\n",
    "                                      #domains='bbc.co.uk,techcrunch.com',\n",
    "                                      from_param='2018-08-20',\n",
    "                                      to='2018-09-20',\n",
    "                                      language='en',\n",
    "                                      sort_by='relevancy',\n",
    "                                      page=2)"
   ]
  },
  {
   "cell_type": "code",
   "execution_count": 39,
   "metadata": {},
   "outputs": [
    {
     "data": {
      "text/plain": [
       "'https://lifehacker.com/how-to-delete-annoying-autofill-entries-in-your-browser-1828635913'"
      ]
     },
     "execution_count": 39,
     "metadata": {},
     "output_type": "execute_result"
    }
   ],
   "source": [
    "all_articles['articles'][0]['url']"
   ]
  },
  {
   "cell_type": "code",
   "execution_count": 45,
   "metadata": {},
   "outputs": [],
   "source": [
    "data = [[el['url'], el['publishedAt']] for el in all_articles['articles']]"
   ]
  },
  {
   "cell_type": "code",
   "execution_count": 48,
   "metadata": {},
   "outputs": [
    {
     "data": {
      "text/plain": [
       "[['https://lifehacker.com/how-to-delete-annoying-autofill-entries-in-your-browser-1828635913',\n",
       "  '2018-08-28T14:00:00Z'],\n",
       " ['https://www.engadget.com/2018/09/06/xbox-skill-for-alexa-and-cortana/',\n",
       "  '2018-09-06T15:00:00Z'],\n",
       " ['http://techcrunch.com/2018/08/20/minecraft-education-edition-is-coming-to-ipad/',\n",
       "  '2018-08-20T14:07:07Z'],\n",
       " ['http://techcrunch.com/2018/09/06/you-can-now-use-alexa-and-cortana-to-control-your-xbox/',\n",
       "  '2018-09-06T15:16:37Z'],\n",
       " ['https://www.nytimes.com/2018/08/21/us/politics/russia-sanctions-microsoft-hacking.html',\n",
       "  '2018-08-21T16:07:46Z'],\n",
       " ['https://www.engadget.com/2018/09/07/amazon-go-checkout-free-store-new-york/',\n",
       "  '2018-09-07T19:34:00Z'],\n",
       " ['http://techcrunch.com/2018/09/04/the-xbox-adaptive-controller-goes-on-sale-today-and-is-also-now-part-of-the-va-museums-collection/',\n",
       "  '2018-09-05T03:14:22Z'],\n",
       " ['https://gizmodo.com/microsoft-seizes-domains-imitating-right-wing-groups-co-1828487583',\n",
       "  '2018-08-21T14:06:00Z'],\n",
       " ['http://techcrunch.com/2018/08/28/spotinst-excess-cloud-capacity-management-service-snares-35m-series-b/',\n",
       "  '2018-08-28T13:08:10Z'],\n",
       " ['http://techcrunch.com/2018/08/30/vntana-ceo-ashley-crowder-will-talk-holograms-at-techcrunch-sessions-ar-vr/',\n",
       "  '2018-08-30T20:00:22Z'],\n",
       " ['http://techcrunch.com/2018/09/05/roblox-series-f/', '2018-09-05T18:00:49Z'],\n",
       " ['https://www.engadget.com/2018/08/22/xbox-all-access-rumor/',\n",
       "  '2018-08-22T22:49:00Z'],\n",
       " ['https://www.engadget.com/2018/09/01/skype-drops-snapchat-like-highlights/',\n",
       "  '2018-09-02T03:11:00Z'],\n",
       " ['http://techcrunch.com/2018/09/07/rigetti-announces-its-hybrid-quantum-computing-platform-and-a-1m-prize/',\n",
       "  '2018-09-07T17:20:30Z'],\n",
       " ['http://techcrunch.com/2018/09/11/apples-iphone-event-will-be-live-streamed-on-twitter-for-the-first-time/',\n",
       "  '2018-09-11T15:03:27Z'],\n",
       " ['https://www.wired.com/story/replay-game-news-reigns/',\n",
       "  '2018-08-24T13:00:00Z'],\n",
       " ['http://techcrunch.com/2018/08/27/vmware-pulls-awss-relational-database-service-into-the-data-center/',\n",
       "  '2018-08-27T17:35:15Z'],\n",
       " ['https://gizmodo.com/u-s-government-claims-china-using-linkedin-to-recruit-1828740264',\n",
       "  '2018-08-31T13:45:00Z'],\n",
       " ['https://lifehacker.com/how-to-find-the-fastest-free-public-wifi-hotspots-1828470769',\n",
       "  '2018-08-21T14:30:00Z'],\n",
       " ['https://mashable.com/2018/08/28/microsoft-surface-book-2-walmart-deal/',\n",
       "  '2018-08-28T16:34:56Z']]"
      ]
     },
     "execution_count": 48,
     "metadata": {},
     "output_type": "execute_result"
    }
   ],
   "source": [
    "data"
   ]
  },
  {
   "cell_type": "code",
   "execution_count": null,
   "metadata": {},
   "outputs": [],
   "source": []
  }
 ],
 "metadata": {
  "kernelspec": {
   "display_name": "Python 3",
   "language": "python",
   "name": "python3"
  },
  "language_info": {
   "codemirror_mode": {
    "name": "ipython",
    "version": 3
   },
   "file_extension": ".py",
   "mimetype": "text/x-python",
   "name": "python",
   "nbconvert_exporter": "python",
   "pygments_lexer": "ipython3",
   "version": "3.5.2"
  }
 },
 "nbformat": 4,
 "nbformat_minor": 2
}
