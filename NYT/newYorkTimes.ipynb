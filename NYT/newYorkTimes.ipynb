{
 "cells": [
  {
   "cell_type": "code",
   "execution_count": 14,
   "metadata": {},
   "outputs": [],
   "source": [
    "# from https://github.com/evansherlock/nytimesarticle/blob/master/nytimesarticle.py\n",
    "\n",
    "import requests\n",
    "\n",
    "API_ROOT = 'http://api.nytimes.com/svc/search/v2/articlesearch.'\n",
    "\n",
    "API_SIGNUP_PAGE = 'http://developer.nytimes.com/docs/reference/keys'\n",
    "\n",
    "class NoAPIKeyException(Exception):\n",
    "    def __init__(self, value):\n",
    "        self.value = value\n",
    "    def __str__(self):\n",
    "        return repr(self.value)\n",
    "\n",
    "class articleAPI(object):\n",
    "    def __init__(self, key = None):\n",
    "        \"\"\"\n",
    "        Initializes the articleAPI class with a developer key. Raises an exception if a key is not given.\n",
    "        \n",
    "        Request a key at http://developer.nytimes.com/docs/reference/keys\n",
    "        \n",
    "        :param key: New York Times Developer Key\n",
    "        \n",
    "        \"\"\"\n",
    "        self.key = key\n",
    "        self.response_format = 'json'\n",
    "        \n",
    "        if self.key is None:\n",
    "            raise NoAPIKeyException('Warning: Missing API Key. Please visit ' + API_SIGNUP_PAGE + ' to register for a key.')\n",
    "    \n",
    "    def _utf8_encode(self, d):\n",
    "        \"\"\"\n",
    "        Ensures all values are encoded in UTF-8 and converts them to lowercase\n",
    "        \n",
    "        \"\"\"\n",
    "        for k, v in d.items():\n",
    "            if isinstance(v, str):\n",
    "                d[k] = v.encode('utf8').lower()\n",
    "            if isinstance(v, list):\n",
    "                for index,item in enumerate(v):\n",
    "                    item = item.encode('utf8').lower()\n",
    "                    v[index] = item\n",
    "            if isinstance(v, dict):\n",
    "                d[k] = self._utf8_encode(v)\n",
    "        \n",
    "        return d\n",
    "    \n",
    "    def _bool_encode(self, d):\n",
    "        \"\"\"\n",
    "        Converts bool values to lowercase strings\n",
    "        \n",
    "        \"\"\"\n",
    "        for k, v in d.items():\n",
    "            if isinstance(v, bool):\n",
    "                d[k] = str(v).lower()\n",
    "        \n",
    "        return d\n",
    "\n",
    "    def _options(self, **kwargs):\n",
    "        \"\"\"\n",
    "        Formats search parameters/values for use with API\n",
    "        \n",
    "        :param \\*\\*kwargs: search parameters/values\n",
    "        \n",
    "        \"\"\"\n",
    "        def _format_fq(d):\n",
    "            for k,v in d.items():\n",
    "                if isinstance(v, list):\n",
    "                    d[k] = ' '.join(map(lambda x: '\"' + x.decode('utf-8') + '\"', v))\n",
    "                else:\n",
    "                    d[k] = '\"' + v.decode('utf-8') + '\"'\n",
    "            values = []\n",
    "            for k,v in d.items():\n",
    "                value = '%s:(%s)' % (k,v)\n",
    "                values.append(value)\n",
    "            values = ' AND '.join(values)\n",
    "            return values\n",
    "        \n",
    "        kwargs = self._utf8_encode(kwargs)\n",
    "        kwargs = self._bool_encode(kwargs)\n",
    "        \n",
    "        values = ''\n",
    "        \n",
    "        for k, v in kwargs.items():\n",
    "            if k is 'fq' and isinstance(v, dict):\n",
    "                v = _format_fq(v)\n",
    "            elif isinstance(v, list):\n",
    "                v = [x.decode('utf-8') for x in v]\n",
    "                v = ','.join(v)\n",
    "            values += '%s=%s&' % (k, v)\n",
    "        \n",
    "        return values\n",
    "\n",
    "    def search(self, \n",
    "                response_format = None, \n",
    "                key = None, \n",
    "                **kwargs):\n",
    "        \"\"\"\n",
    "        Calls the API and returns a dictionary of the search results\n",
    "        \n",
    "        :param response_format: the format that the API uses for its response, \n",
    "                                includes JSON (.json) and JSONP (.jsonp). \n",
    "                                Defaults to '.json'.\n",
    "                                \n",
    "        :param key: a developer key. Defaults to key given when the articleAPI class was initialized.\n",
    "        \n",
    "        \"\"\"\n",
    "        if response_format is None:\n",
    "            response_format = self.response_format\n",
    "        if key is None:\n",
    "            key = self.key\n",
    "        \n",
    "        url = '%s%s?%sapi-key=%s' % (\n",
    "            API_ROOT, response_format, self._options(**kwargs), key\n",
    "        )\n",
    "        \n",
    "        r = requests.get(url)\n",
    "        return r.json()"
   ]
  },
  {
   "cell_type": "code",
   "execution_count": 28,
   "metadata": {},
   "outputs": [],
   "source": [
    "key = \"637ca5fe3c8748a6b33d0d3079fb4d30\"\n",
    "api = articleAPI(key)\n",
    "articles = api.search( q = 'Microsoft', begin_date = 20180701)\n",
    "# , facet_field = ['source','day_of_week'], facet_filter = True \n",
    "# fq = {'source':['Reuters','AP', 'The New York Times']}"
   ]
  },
  {
   "cell_type": "code",
   "execution_count": null,
   "metadata": {},
   "outputs": [],
   "source": []
  },
  {
   "cell_type": "code",
   "execution_count": 59,
   "metadata": {
    "scrolled": false
   },
   "outputs": [
    {
     "data": {
      "text/plain": [
       "'https://www.nytimes.com/reuters/2018/09/18/technology/18reuters-microsoft-dynamics365.html'"
      ]
     },
     "execution_count": 59,
     "metadata": {},
     "output_type": "execute_result"
    }
   ],
   "source": [
    "articles['response']['docs'][1]['web_url']"
   ]
  },
  {
   "cell_type": "code",
   "execution_count": 60,
   "metadata": {},
   "outputs": [],
   "source": [
    "data = [el['web_url'] for el in articles['response']['docs']]"
   ]
  },
  {
   "cell_type": "code",
   "execution_count": 61,
   "metadata": {},
   "outputs": [
    {
     "data": {
      "text/plain": [
       "['/interactive/2018/07/19/business/dealbook/db-eufine-msft1.html',\n",
       " 'https://www.nytimes.com/reuters/2018/09/18/technology/18reuters-microsoft-dynamics365.html',\n",
       " 'https://www.nytimes.com/reuters/2018/09/17/business/17reuters-github-m-a-microsoft-eu.html',\n",
       " 'https://www.nytimes.com/2018/07/13/technology/microsoft-facial-recognition.html',\n",
       " 'https://www.nytimes.com/2018/07/19/technology/microsoft-earnings-cloud-computing.html',\n",
       " 'https://www.nytimes.com/2018/07/26/technology/microsoft-ice-immigration.html',\n",
       " 'https://www.nytimes.com/aponline/2018/09/19/business/ap-financial-markets-stocks.html',\n",
       " 'https://www.nytimes.com/2018/08/21/us/politics/russia-cyber-hack.html',\n",
       " 'https://www.nytimes.com/2018/08/21/briefing/microsoft-primary-election-epa.html',\n",
       " 'https://www.nytimes.com/podcast/2007/01/30/washington/30backstory-peters.html']"
      ]
     },
     "execution_count": 61,
     "metadata": {},
     "output_type": "execute_result"
    }
   ],
   "source": [
    "data"
   ]
  },
  {
   "cell_type": "code",
   "execution_count": null,
   "metadata": {},
   "outputs": [],
   "source": [
    "API_ROOT = 'http://api.nytimes.com/svc/search/v2/articlesearch.'\n",
    "API_SIGNUP = 'http://developer.nytimes.com/docs/reference/keys'"
   ]
  },
  {
   "cell_type": "code",
   "execution_count": null,
   "metadata": {},
   "outputs": [],
   "source": [
    "#req = requests.get(API_ROOT)"
   ]
  },
  {
   "cell_type": "code",
   "execution_count": null,
   "metadata": {},
   "outputs": [],
   "source": [
    "from requests.auth import HTTPDigestAuth\n",
    "data = q = 'Obama', fq = {'headline':'Obama', 'source':['Reuters','AP', 'The New York Times']}, begin_date = 20111231, facet_field = ['source','day_of_week'], facet_filter = True\n",
    "url = '%s%s?%sapi-key=%s' % (API_ROOT,'json', data,key)\n",
    "r = requests.get(url,key)"
   ]
  },
  {
   "cell_type": "code",
   "execution_count": null,
   "metadata": {},
   "outputs": [],
   "source": [
    "r = requests.get(API_SIGNUP,key)"
   ]
  },
  {
   "cell_type": "code",
   "execution_count": null,
   "metadata": {},
   "outputs": [],
   "source": [
    "d = requests.session()"
   ]
  },
  {
   "cell_type": "code",
   "execution_count": null,
   "metadata": {},
   "outputs": [],
   "source": [
    "\n"
   ]
  },
  {
   "cell_type": "code",
   "execution_count": null,
   "metadata": {},
   "outputs": [],
   "source": []
  }
 ],
 "metadata": {
  "kernelspec": {
   "display_name": "Python 3",
   "language": "python",
   "name": "python3"
  },
  "language_info": {
   "codemirror_mode": {
    "name": "ipython",
    "version": 3
   },
   "file_extension": ".py",
   "mimetype": "text/x-python",
   "name": "python",
   "nbconvert_exporter": "python",
   "pygments_lexer": "ipython3",
   "version": "3.5.2"
  }
 },
 "nbformat": 4,
 "nbformat_minor": 2
}
