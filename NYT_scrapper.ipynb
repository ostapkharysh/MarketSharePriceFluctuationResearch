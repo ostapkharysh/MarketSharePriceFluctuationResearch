{
 "cells": [
  {
   "cell_type": "code",
   "execution_count": 10,
   "metadata": {},
   "outputs": [],
   "source": [
    "# credits to Dinesh Daultani (@dineshdaultani)\n",
    "\n",
    "import requests\n",
    "import json\n",
    "\n",
    "#api = NewsApiClient(api_key='0763606ae56d49e08902365e0dbcb239')\n",
    "#sources = api.sources(params)\n",
    "#articles = api.articles(sources[0]['id'], params) "
   ]
  },
  {
   "cell_type": "code",
   "execution_count": 11,
   "metadata": {},
   "outputs": [],
   "source": [
    "class ArchiveAPI(object):\n",
    "    def __init__(self, key=None):\n",
    "        self.key = key\n",
    "        \"\"\"\n",
    "        Initializes the ArchiveAPI class. Raises an exception if no API key is given.\n",
    "        :param key: New York Times API Key\n",
    "        \"\"\"\n",
    "        self.root = 'http://api.nytimes.com/svc/archive/v1/{}/{}.json?api-key={}' \n",
    "        if not self.key:\n",
    "            nyt_dev_page = 'http://developer.nytimes.com/docs/reference/keys'\n",
    "            exception_str = 'API Key required.{}'\n",
    "            raise NoAPIKeyException(exception_str.format(nyt_dev_page))\n",
    "\n",
    "    def query(self, year=None, month=None, key=None,):\n",
    "        \"\"\"\n",
    "        Calls the archive API and returns the results as a dictionary.\n",
    "        :param key: Defaults to the API key used to initialize the ArchiveAPI class.\n",
    "        \"\"\"\n",
    "        if not key: key = self.key\n",
    "        if (year < 1882) or not (0 < month < 13):\n",
    "            # currently the Archive API only supports year >= 1882\n",
    "            exception_str = 'Invalid query: See http://developer.nytimes.com/archive_api.json'\n",
    "            raise InvalidQueryException(exception_str)\n",
    "        url = self.root.format(year, month, key)\n",
    "        r = requests.get(url)\n",
    "        return r.json()"
   ]
  },
  {
   "cell_type": "code",
   "execution_count": 12,
   "metadata": {},
   "outputs": [],
   "source": [
    "my_api = ArchiveAPI('0ba6dc04a8cb44e0a890c00df88c393a')"
   ]
  },
  {
   "cell_type": "code",
   "execution_count": 13,
   "metadata": {},
   "outputs": [
    {
     "ename": "FileNotFoundError",
     "evalue": "[Errno 2] No such file or directory: 'NYT_Data/2017-01.json'",
     "output_type": "error",
     "traceback": [
      "\u001b[0;31m---------------------------------------------------------------------------\u001b[0m",
      "\u001b[0;31mFileNotFoundError\u001b[0m                         Traceback (most recent call last)",
      "\u001b[0;32m<ipython-input-13-6fd273eaa45a>\u001b[0m in \u001b[0;36m<module>\u001b[0;34m()\u001b[0m\n\u001b[1;32m      6\u001b[0m         \u001b[0mmydict\u001b[0m \u001b[0;34m=\u001b[0m \u001b[0mmy_api\u001b[0m\u001b[0;34m.\u001b[0m\u001b[0mquery\u001b[0m\u001b[0;34m(\u001b[0m\u001b[0myear\u001b[0m\u001b[0;34m,\u001b[0m \u001b[0mmonth\u001b[0m\u001b[0;34m)\u001b[0m\u001b[0;34m\u001b[0m\u001b[0m\n\u001b[1;32m      7\u001b[0m         \u001b[0mfile_str\u001b[0m \u001b[0;34m=\u001b[0m \u001b[0;34m'NYT_Data/'\u001b[0m \u001b[0;34m+\u001b[0m \u001b[0mstr\u001b[0m\u001b[0;34m(\u001b[0m\u001b[0myear\u001b[0m\u001b[0;34m)\u001b[0m \u001b[0;34m+\u001b[0m \u001b[0;34m'-'\u001b[0m \u001b[0;34m+\u001b[0m \u001b[0;34m'{:02}'\u001b[0m\u001b[0;34m.\u001b[0m\u001b[0mformat\u001b[0m\u001b[0;34m(\u001b[0m\u001b[0mmonth\u001b[0m\u001b[0;34m)\u001b[0m \u001b[0;34m+\u001b[0m \u001b[0;34m'.json'\u001b[0m\u001b[0;34m\u001b[0m\u001b[0m\n\u001b[0;32m----> 8\u001b[0;31m         \u001b[0;32mwith\u001b[0m \u001b[0mopen\u001b[0m\u001b[0;34m(\u001b[0m\u001b[0mfile_str\u001b[0m\u001b[0;34m,\u001b[0m \u001b[0;34m'w'\u001b[0m\u001b[0;34m)\u001b[0m \u001b[0;32mas\u001b[0m \u001b[0mfout\u001b[0m\u001b[0;34m:\u001b[0m\u001b[0;34m\u001b[0m\u001b[0m\n\u001b[0m\u001b[1;32m      9\u001b[0m             \u001b[0mjson\u001b[0m\u001b[0;34m.\u001b[0m\u001b[0mdump\u001b[0m\u001b[0;34m(\u001b[0m\u001b[0mmydict\u001b[0m\u001b[0;34m,\u001b[0m \u001b[0mfout\u001b[0m\u001b[0;34m)\u001b[0m\u001b[0;34m\u001b[0m\u001b[0m\n\u001b[1;32m     10\u001b[0m         \u001b[0mfout\u001b[0m\u001b[0;34m.\u001b[0m\u001b[0mclose\u001b[0m\u001b[0;34m(\u001b[0m\u001b[0;34m)\u001b[0m\u001b[0;34m\u001b[0m\u001b[0m\n",
      "\u001b[0;31mFileNotFoundError\u001b[0m: [Errno 2] No such file or directory: 'NYT_Data/2017-01.json'"
     ]
    }
   ],
   "source": [
    "years = [2017, 2016] # 2015, 2014, 2013, 2012, 2011, 2010, 2009, 2008, 2007]\n",
    "months = [1, 2] #, 3, 4, 5, 6, 7, 8, 9, 10, 11, 12]\n",
    "\n",
    "for year in years:\n",
    "    for month in months:\n",
    "        mydict = my_api.query(year, month)\n",
    "        file_str = 'NYT_Data/' + str(year) + '-' + '{:02}'.format(month) + '.json'\n",
    "        with open(file_str, 'w') as fout:\n",
    "            json.dump(mydict, fout)\n",
    "        fout.close()"
   ]
  },
  {
   "cell_type": "code",
   "execution_count": null,
   "metadata": {},
   "outputs": [],
   "source": [
    "import pandas as pd\n",
    "with open(\"NYT_Data/2016-02.json\", 'r') as f:\n",
    "    data = json.load(f)\n",
    "df = pd.DataFrame(data)\n",
    "df"
   ]
  },
  {
   "cell_type": "code",
   "execution_count": 7,
   "metadata": {},
   "outputs": [
    {
     "data": {
      "text/plain": [
       "'255'"
      ]
     },
     "execution_count": 7,
     "metadata": {},
     "output_type": "execute_result"
    }
   ],
   "source": [
    "#  'pub_date', 'web_url','word_count'\n",
    "\n",
    "\n",
    "df['response']['docs'][5]['word_count']"
   ]
  },
  {
   "cell_type": "code",
   "execution_count": 9,
   "metadata": {},
   "outputs": [
    {
     "name": "stdout",
     "output_type": "stream",
     "text": [
      "https://takingnote.blogs.nytimes.com/2016/02/01/so-this-is-the-humble-trump/\n",
      "2016-02-01T23:42:57Z\n"
     ]
    },
    {
     "data": {
      "text/plain": [
       "'255'"
      ]
     },
     "execution_count": 9,
     "metadata": {},
     "output_type": "execute_result"
    }
   ],
   "source": [
    "print(df['response']['docs'][5]['web_url'])\n",
    "print(df['response']['docs'][5]['pub_date'])\n",
    "df['response']['docs'][5]['word_count']"
   ]
  },
  {
   "cell_type": "code",
   "execution_count": null,
   "metadata": {},
   "outputs": [],
   "source": []
  }
 ],
 "metadata": {
  "kernelspec": {
   "display_name": "Python 3",
   "language": "python",
   "name": "python3"
  },
  "language_info": {
   "codemirror_mode": {
    "name": "ipython",
    "version": 3
   },
   "file_extension": ".py",
   "mimetype": "text/x-python",
   "name": "python",
   "nbconvert_exporter": "python",
   "pygments_lexer": "ipython3",
   "version": "3.5.2"
  }
 },
 "nbformat": 4,
 "nbformat_minor": 2
}
