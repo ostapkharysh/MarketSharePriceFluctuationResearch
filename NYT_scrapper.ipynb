{
 "cells": [
  {
   "cell_type": "code",
   "execution_count": 1,
   "metadata": {},
   "outputs": [],
   "source": [
    "# credits to Dinesh Daultani (@dineshdaultani)\n",
    "\n",
    "import requests\n",
    "import json\n",
    "\n",
    "#api = NewsApiClient(api_key='0763606ae56d49e08902365e0dbcb239')\n",
    "#sources = api.sources(params)\n",
    "#articles = api.articles(sources[0]['id'], params) "
   ]
  },
  {
   "cell_type": "code",
   "execution_count": 2,
   "metadata": {},
   "outputs": [],
   "source": [
    "class ArchiveAPI(object):\n",
    "    def __init__(self, key=None):\n",
    "        self.key = key\n",
    "        \"\"\"\n",
    "        Initializes the ArchiveAPI class. Raises an exception if no API key is given.\n",
    "        :param key: New York Times API Key\n",
    "        \"\"\"\n",
    "        self.root = 'http://api.nytimes.com/svc/archive/v1/{}/{}.json?api-key={}' \n",
    "        if not self.key:\n",
    "            nyt_dev_page = 'http://developer.nytimes.com/docs/reference/keys'\n",
    "            exception_str = 'API Key required.{}'\n",
    "            raise NoAPIKeyException(exception_str.format(nyt_dev_page))\n",
    "\n",
    "    def query(self, year=None, month=None, key=None,):\n",
    "        \"\"\"\n",
    "        Calls the archive API and returns the results as a dictionary.\n",
    "        :param key: Defaults to the API key used to initialize the ArchiveAPI class.\n",
    "        \"\"\"\n",
    "        if not key: key = self.key\n",
    "        if (year < 1882) or not (0 < month < 13):\n",
    "            # currently the Archive API only supports year >= 1882\n",
    "            exception_str = 'Invalid query: See http://developer.nytimes.com/archive_api.json'\n",
    "            raise InvalidQueryException(exception_str)\n",
    "        url = self.root.format(year, month, key)\n",
    "        r = requests.get(url)\n",
    "        return r.json()"
   ]
  },
  {
   "cell_type": "code",
   "execution_count": 3,
   "metadata": {},
   "outputs": [],
   "source": [
    "my_api = ArchiveAPI('0ba6dc04a8cb44e0a890c00df88c393a')"
   ]
  },
  {
   "cell_type": "code",
   "execution_count": 6,
   "metadata": {},
   "outputs": [],
   "source": [
    "years = [2017, 2016] # 2015, 2014, 2013, 2012, 2011, 2010, 2009, 2008, 2007]\n",
    "months = [1, 2] #, 3, 4, 5, 6, 7, 8, 9, 10, 11, 12]\n",
    "\n",
    "for year in years:\n",
    "    for month in months:\n",
    "        mydict = my_api.query(year, month)\n",
    "        file_str = '/home/ostapkharysh/Documents/bt_data/NYT_news/' + str(year) + '-' + '{:02}'.format(month) + '.json'\n",
    "        with open(file_str, 'w') as fout:\n",
    "            json.dump(mydict, fout)\n",
    "        fout.close()"
   ]
  },
  {
   "cell_type": "code",
   "execution_count": 7,
   "metadata": {},
   "outputs": [
    {
     "data": {
      "text/html": [
       "<div>\n",
       "<table border=\"1\" class=\"dataframe\">\n",
       "  <thead>\n",
       "    <tr style=\"text-align: right;\">\n",
       "      <th></th>\n",
       "      <th>copyright</th>\n",
       "      <th>response</th>\n",
       "    </tr>\n",
       "  </thead>\n",
       "  <tbody>\n",
       "    <tr>\n",
       "      <th>docs</th>\n",
       "      <td>Copyright (c) 2013 The New York Times Company....</td>\n",
       "      <td>[{'abstract': None, 'lead_paragraph': 'The Car...</td>\n",
       "    </tr>\n",
       "    <tr>\n",
       "      <th>meta</th>\n",
       "      <td>Copyright (c) 2013 The New York Times Company....</td>\n",
       "      <td>{'hits': 7297}</td>\n",
       "    </tr>\n",
       "  </tbody>\n",
       "</table>\n",
       "</div>"
      ],
      "text/plain": [
       "                                              copyright  \\\n",
       "docs  Copyright (c) 2013 The New York Times Company....   \n",
       "meta  Copyright (c) 2013 The New York Times Company....   \n",
       "\n",
       "                                               response  \n",
       "docs  [{'abstract': None, 'lead_paragraph': 'The Car...  \n",
       "meta                                     {'hits': 7297}  "
      ]
     },
     "execution_count": 7,
     "metadata": {},
     "output_type": "execute_result"
    }
   ],
   "source": [
    "import pandas as pd\n",
    "with open('/home/ostapkharysh/Documents/bt_data/NYT_news/2016-02.json', 'r') as f:\n",
    "    data = json.load(f)\n",
    "df = pd.DataFrame(data)\n",
    "df"
   ]
  },
  {
   "cell_type": "code",
   "execution_count": 8,
   "metadata": {},
   "outputs": [
    {
     "data": {
      "text/plain": [
       "'255'"
      ]
     },
     "execution_count": 8,
     "metadata": {},
     "output_type": "execute_result"
    }
   ],
   "source": [
    "#  'pub_date', 'web_url','word_count'\n",
    "\n",
    "\n",
    "df['response']['docs'][5]['word_count']"
   ]
  },
  {
   "cell_type": "code",
   "execution_count": 14,
   "metadata": {},
   "outputs": [
    {
     "name": "stdout",
     "output_type": "stream",
     "text": [
      "https://takingnote.blogs.nytimes.com/2016/02/01/so-this-is-the-humble-trump/\n",
      "2016-02-01T23:42:57Z\n"
     ]
    },
    {
     "data": {
      "text/plain": [
       "'255'"
      ]
     },
     "execution_count": 14,
     "metadata": {},
     "output_type": "execute_result"
    }
   ],
   "source": [
    "k = df['response']['docs'][5]['web_url']\n",
    "print(k)\n",
    "print(df['response']['docs'][5]['pub_date'])\n",
    "df['response']['docs'][5]['word_count']"
   ]
  },
  {
   "cell_type": "code",
   "execution_count": 15,
   "metadata": {},
   "outputs": [],
   "source": [
    "from newspaper import Article\n",
    "import newspaper"
   ]
  },
  {
   "cell_type": "code",
   "execution_count": 36,
   "metadata": {},
   "outputs": [],
   "source": [
    "article = Article(k)\n",
    "try:\n",
    "    article.download()\n",
    "except:\n",
    "    print('***FAILED TO DOWNLOAD***', article.url)\n",
    "article.parse()"
   ]
  },
  {
   "cell_type": "code",
   "execution_count": 37,
   "metadata": {},
   "outputs": [
    {
     "data": {
      "text/plain": [
       "datetime.datetime(2016, 2, 1, 0, 0)"
      ]
     },
     "execution_count": 37,
     "metadata": {},
     "output_type": "execute_result"
    }
   ],
   "source": [
    "article.publish_date"
   ]
  },
  {
   "cell_type": "code",
   "execution_count": 38,
   "metadata": {},
   "outputs": [
    {
     "data": {
      "text/plain": [
       "'Photo\\n\\nDonald Trump, to borrow his own word, is unbelievable.\\n\\nAt around 2:30 on Monday afternoon, at a rally in Cedar Rapids, Iowa, Donald Trump was loudly, confidently and repeatedly proclaiming his impending victory in Iowa. Just before 10 p.m., he was acting like he had never expected to win, and like coming in second was a YUGE accomplishment.\\n\\n“I absolutely love the people of Iowa,” Mr. Trump said at his campaign headquarters. “Unbelievable.”\\n\\nMr. Trump said that when he declared his candidacy in June, “I was told by everybody, do not go to Iowa, you could never finish even in the top 10.”\\n\\n“I said I have to do it,” he said. “And we finished second and I want to tell you something, I’m just honored.”\\n\\nMr. Trump congratulated the victor, Ted Cruz, for winning and Mike Huckabee for quitting and never mentioned Marco Rubio, who was coming in a very close third on Monday night and should be a focus of Mr. Trump’s attention.\\n\\nIt’s impossible to know whether Mr. Trump understands that his slack campaign organization in Iowa may have cost him dearly here. Kenneth P. Vogel of Politico said Mr. Trump spent almost as much on hats as he did on payroll.\\n\\nEver optimistic, Mr. Trump said he was on to New Hampshire, where he — of course — promised a big victory.\\n\\nIowa’s caucuses are nothing like New Hampshire’s primary, of course, but I wonder if we’ll see fewer Trump hats and more Trump volunteers and TV ads in New Hampshire.'"
      ]
     },
     "execution_count": 38,
     "metadata": {},
     "output_type": "execute_result"
    }
   ],
   "source": [
    "article.text"
   ]
  },
  {
   "cell_type": "code",
   "execution_count": 29,
   "metadata": {},
   "outputs": [
    {
     "data": {
      "text/plain": [
       "'So This Is the Humble Trump?'"
      ]
     },
     "execution_count": 29,
     "metadata": {},
     "output_type": "execute_result"
    }
   ],
   "source": [
    "article.title"
   ]
  }
 ],
 "metadata": {
  "kernelspec": {
   "display_name": "Python 3",
   "language": "python",
   "name": "python3"
  },
  "language_info": {
   "codemirror_mode": {
    "name": "ipython",
    "version": 3
   },
   "file_extension": ".py",
   "mimetype": "text/x-python",
   "name": "python",
   "nbconvert_exporter": "python",
   "pygments_lexer": "ipython3",
   "version": "3.5.2"
  }
 },
 "nbformat": 4,
 "nbformat_minor": 2
}
