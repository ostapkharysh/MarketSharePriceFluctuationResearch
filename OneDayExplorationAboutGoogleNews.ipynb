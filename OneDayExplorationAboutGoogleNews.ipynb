{
 "cells": [
  {
   "cell_type": "code",
   "execution_count": 1,
   "metadata": {},
   "outputs": [],
   "source": [
    "import gdelt\n",
    "import pandas as pd\n",
    "import datetime\n",
    "import time\n",
    "\n",
    "#gd2 = gdelt.gdelt(version=2)"
   ]
  },
  {
   "cell_type": "code",
   "execution_count": 2,
   "metadata": {
    "scrolled": true
   },
   "outputs": [],
   "source": [
    "# Version 2 queries\n",
    "\n",
    "#HAS IMPORTANT AVG TONE. BUT INCONSISTENT WITH THE GKG\n",
    "#mentions = gd2.Search('2018 Nov 15',table='mentions', coverage=True)\n",
    "#print(len(mentions))\n",
    "\n",
    "#start = time.time()\n",
    "#gkg_2 = gd2.Search('2016 11 15',table='gkg',coverage=True)\n",
    "#print(time.time()- start)\n",
    "\n",
    "gkg_2 = pd.read_csv(\"//media/ostapkharysh/SP_PHD_U3/gdelt/20161115000000.gkg.csv\", delimiter='\\t', header=None, engine='python')\n"
   ]
  },
  {
   "cell_type": "code",
   "execution_count": 5,
   "metadata": {},
   "outputs": [
    {
     "name": "stdout",
     "output_type": "stream",
     "text": [
      "2016-01-01\n"
     ]
    },
    {
     "name": "stderr",
     "output_type": "stream",
     "text": [
      "Process NoDaemonPoolWorker-6:\n",
      "Process NoDaemonPoolWorker-8:\n",
      "Process NoDaemonPoolWorker-7:\n",
      "Traceback (most recent call last):\n",
      "Traceback (most recent call last):\n",
      "Traceback (most recent call last):\n",
      "Process NoDaemonPoolWorker-5:\n",
      "  File \"/usr/lib/python3.5/multiprocessing/process.py\", line 249, in _bootstrap\n",
      "    self.run()\n",
      "  File \"/usr/lib/python3.5/multiprocessing/process.py\", line 249, in _bootstrap\n",
      "    self.run()\n",
      "  File \"/usr/lib/python3.5/multiprocessing/process.py\", line 249, in _bootstrap\n",
      "    self.run()\n",
      "  File \"/usr/lib/python3.5/multiprocessing/process.py\", line 93, in run\n",
      "    self._target(*self._args, **self._kwargs)\n",
      "  File \"/usr/lib/python3.5/multiprocessing/process.py\", line 93, in run\n",
      "    self._target(*self._args, **self._kwargs)\n",
      "Traceback (most recent call last):\n",
      "  File \"/usr/lib/python3.5/multiprocessing/pool.py\", line 119, in worker\n",
      "    result = (True, func(*args, **kwds))\n",
      "  File \"/usr/local/lib/python3.5/dist-packages/gdelt/parallel.py\", line 62, in _mp_worker\n",
      "    r = requests.get(url, proxies=proxies, timeout=5)\n",
      "  File \"/usr/lib/python3.5/multiprocessing/pool.py\", line 119, in worker\n",
      "    result = (True, func(*args, **kwds))\n",
      "  File \"/usr/lib/python3.5/multiprocessing/process.py\", line 93, in run\n",
      "    self._target(*self._args, **self._kwargs)\n",
      "  File \"/usr/lib/python3.5/multiprocessing/process.py\", line 249, in _bootstrap\n",
      "    self.run()\n",
      "  File \"/usr/local/lib/python3.5/dist-packages/requests/api.py\", line 72, in get\n",
      "    return request('get', url, params=params, **kwargs)\n",
      "  File \"/usr/lib/python3.5/multiprocessing/process.py\", line 93, in run\n",
      "    self._target(*self._args, **self._kwargs)\n",
      "  File \"/usr/lib/python3.5/multiprocessing/pool.py\", line 119, in worker\n",
      "    result = (True, func(*args, **kwds))\n",
      "  File \"/usr/lib/python3.5/multiprocessing/pool.py\", line 119, in worker\n",
      "    result = (True, func(*args, **kwds))\n",
      "  File \"/usr/local/lib/python3.5/dist-packages/requests/api.py\", line 58, in request\n",
      "    return session.request(method=method, url=url, **kwargs)\n",
      "  File \"/usr/local/lib/python3.5/dist-packages/gdelt/parallel.py\", line 62, in _mp_worker\n",
      "    r = requests.get(url, proxies=proxies, timeout=5)\n",
      "  File \"/usr/local/lib/python3.5/dist-packages/gdelt/parallel.py\", line 62, in _mp_worker\n",
      "    r = requests.get(url, proxies=proxies, timeout=5)\n",
      "  File \"/usr/local/lib/python3.5/dist-packages/requests/api.py\", line 72, in get\n",
      "    return request('get', url, params=params, **kwargs)\n",
      "  File \"/usr/local/lib/python3.5/dist-packages/gdelt/parallel.py\", line 62, in _mp_worker\n",
      "    r = requests.get(url, proxies=proxies, timeout=5)\n",
      "  File \"/usr/local/lib/python3.5/dist-packages/requests/api.py\", line 72, in get\n",
      "    return request('get', url, params=params, **kwargs)\n",
      "  File \"/usr/local/lib/python3.5/dist-packages/requests/api.py\", line 58, in request\n",
      "    return session.request(method=method, url=url, **kwargs)\n",
      "  File \"/usr/local/lib/python3.5/dist-packages/requests/api.py\", line 72, in get\n",
      "    return request('get', url, params=params, **kwargs)\n",
      "  File \"/usr/local/lib/python3.5/dist-packages/requests/sessions.py\", line 508, in request\n",
      "    resp = self.send(prep, **send_kwargs)\n",
      "  File \"/usr/local/lib/python3.5/dist-packages/requests/sessions.py\", line 658, in send\n",
      "    r.content\n",
      "  File \"/usr/local/lib/python3.5/dist-packages/requests/api.py\", line 58, in request\n",
      "    return session.request(method=method, url=url, **kwargs)\n",
      "  File \"/usr/local/lib/python3.5/dist-packages/requests/models.py\", line 823, in content\n",
      "    self._content = bytes().join(self.iter_content(CONTENT_CHUNK_SIZE)) or bytes()\n",
      "  File \"/usr/local/lib/python3.5/dist-packages/requests/models.py\", line 745, in generate\n",
      "    for chunk in self.raw.stream(chunk_size, decode_content=True):\n",
      "  File \"/usr/local/lib/python3.5/dist-packages/requests/sessions.py\", line 508, in request\n",
      "    resp = self.send(prep, **send_kwargs)\n",
      "  File \"/usr/local/lib/python3.5/dist-packages/urllib3/response.py\", line 436, in stream\n",
      "    data = self.read(amt=amt, decode_content=decode_content)\n",
      "  File \"/usr/local/lib/python3.5/dist-packages/requests/sessions.py\", line 508, in request\n",
      "    resp = self.send(prep, **send_kwargs)\n",
      "  File \"/usr/local/lib/python3.5/dist-packages/requests/api.py\", line 58, in request\n",
      "    return session.request(method=method, url=url, **kwargs)\n",
      "  File \"/usr/local/lib/python3.5/dist-packages/requests/sessions.py\", line 658, in send\n",
      "    r.content\n",
      "  File \"/usr/local/lib/python3.5/dist-packages/requests/sessions.py\", line 658, in send\n",
      "    r.content\n",
      "  File \"/usr/local/lib/python3.5/dist-packages/requests/models.py\", line 823, in content\n",
      "    self._content = bytes().join(self.iter_content(CONTENT_CHUNK_SIZE)) or bytes()\n",
      "  File \"/usr/local/lib/python3.5/dist-packages/urllib3/response.py\", line 384, in read\n",
      "    data = self._fp.read(amt)\n",
      "  File \"/usr/local/lib/python3.5/dist-packages/urllib3/response.py\", line 384, in read\n",
      "    data = self._fp.read(amt)\n",
      "  File \"/usr/lib/python3.5/http/client.py\", line 448, in read\n",
      "    n = self.readinto(b)\n",
      "  File \"/usr/local/lib/python3.5/dist-packages/requests/models.py\", line 823, in content\n",
      "    self._content = bytes().join(self.iter_content(CONTENT_CHUNK_SIZE)) or bytes()\n",
      "  File \"/usr/local/lib/python3.5/dist-packages/requests/models.py\", line 745, in generate\n",
      "    for chunk in self.raw.stream(chunk_size, decode_content=True):\n",
      "  File \"/usr/lib/python3.5/http/client.py\", line 488, in readinto\n",
      "    n = self.fp.readinto(b)\n",
      "  File \"/usr/lib/python3.5/socket.py\", line 575, in readinto\n",
      "    return self._sock.recv_into(b)\n",
      "  File \"/usr/local/lib/python3.5/dist-packages/urllib3/response.py\", line 436, in stream\n",
      "    data = self.read(amt=amt, decode_content=decode_content)\n",
      "  File \"/usr/local/lib/python3.5/dist-packages/requests/sessions.py\", line 508, in request\n",
      "    resp = self.send(prep, **send_kwargs)\n",
      "KeyboardInterrupt\n",
      "  File \"/usr/local/lib/python3.5/dist-packages/requests/sessions.py\", line 658, in send\n",
      "    r.content\n",
      "  File \"/usr/lib/python3.5/http/client.py\", line 448, in read\n",
      "    n = self.readinto(b)\n",
      "  File \"/usr/local/lib/python3.5/dist-packages/requests/models.py\", line 745, in generate\n",
      "    for chunk in self.raw.stream(chunk_size, decode_content=True):\n",
      "  File \"/usr/local/lib/python3.5/dist-packages/requests/models.py\", line 823, in content\n",
      "    self._content = bytes().join(self.iter_content(CONTENT_CHUNK_SIZE)) or bytes()\n",
      "  File \"/usr/local/lib/python3.5/dist-packages/urllib3/response.py\", line 436, in stream\n",
      "    data = self.read(amt=amt, decode_content=decode_content)\n",
      "  File \"/usr/lib/python3.5/http/client.py\", line 488, in readinto\n",
      "    n = self.fp.readinto(b)\n",
      "  File \"/usr/local/lib/python3.5/dist-packages/requests/models.py\", line 745, in generate\n",
      "    for chunk in self.raw.stream(chunk_size, decode_content=True):\n",
      "  File \"/usr/local/lib/python3.5/dist-packages/urllib3/response.py\", line 384, in read\n",
      "    data = self._fp.read(amt)\n",
      "  File \"/usr/lib/python3.5/socket.py\", line 575, in readinto\n",
      "    return self._sock.recv_into(b)\n",
      "  File \"/usr/lib/python3.5/http/client.py\", line 448, in read\n",
      "    n = self.readinto(b)\n",
      "KeyboardInterrupt\n",
      "  File \"/usr/lib/python3.5/http/client.py\", line 488, in readinto\n",
      "    n = self.fp.readinto(b)\n",
      "  File \"/usr/local/lib/python3.5/dist-packages/urllib3/response.py\", line 436, in stream\n",
      "    data = self.read(amt=amt, decode_content=decode_content)\n",
      "  File \"/usr/local/lib/python3.5/dist-packages/urllib3/response.py\", line 384, in read\n",
      "    data = self._fp.read(amt)\n",
      "  File \"/usr/lib/python3.5/socket.py\", line 575, in readinto\n",
      "    return self._sock.recv_into(b)\n",
      "  File \"/usr/lib/python3.5/http/client.py\", line 448, in read\n",
      "    n = self.readinto(b)\n",
      "KeyboardInterrupt\n"
     ]
    },
    {
     "ename": "KeyboardInterrupt",
     "evalue": "",
     "output_type": "error",
     "traceback": [
      "\u001b[0;31m---------------------------------------------------------------------------\u001b[0m",
      "\u001b[0;31mIndexError\u001b[0m                                Traceback (most recent call last)",
      "\u001b[0;32m/usr/lib/python3.5/multiprocessing/pool.py\u001b[0m in \u001b[0;36mnext\u001b[0;34m(self, timeout)\u001b[0m\n\u001b[1;32m    679\u001b[0m             \u001b[0;32mtry\u001b[0m\u001b[0;34m:\u001b[0m\u001b[0;34m\u001b[0m\u001b[0m\n\u001b[0;32m--> 680\u001b[0;31m                 \u001b[0mitem\u001b[0m \u001b[0;34m=\u001b[0m \u001b[0mself\u001b[0m\u001b[0;34m.\u001b[0m\u001b[0m_items\u001b[0m\u001b[0;34m.\u001b[0m\u001b[0mpopleft\u001b[0m\u001b[0;34m(\u001b[0m\u001b[0;34m)\u001b[0m\u001b[0;34m\u001b[0m\u001b[0m\n\u001b[0m\u001b[1;32m    681\u001b[0m             \u001b[0;32mexcept\u001b[0m \u001b[0mIndexError\u001b[0m\u001b[0;34m:\u001b[0m\u001b[0;34m\u001b[0m\u001b[0m\n",
      "\u001b[0;31mIndexError\u001b[0m: pop from an empty deque",
      "\nDuring handling of the above exception, another exception occurred:\n",
      "\u001b[0;31mKeyboardInterrupt\u001b[0m                         Traceback (most recent call last)",
      "\u001b[0;32m<ipython-input-5-404a683d3abf>\u001b[0m in \u001b[0;36m<module>\u001b[0;34m()\u001b[0m\n\u001b[1;32m      3\u001b[0m \u001b[0;32mwhile\u001b[0m \u001b[0mdata\u001b[0m\u001b[0;34m.\u001b[0m\u001b[0mday\u001b[0m \u001b[0;34m<\u001b[0m \u001b[0;36m2\u001b[0m\u001b[0;34m:\u001b[0m\u001b[0;34m\u001b[0m\u001b[0m\n\u001b[1;32m      4\u001b[0m     \u001b[0mprint\u001b[0m\u001b[0;34m(\u001b[0m\u001b[0mstr\u001b[0m\u001b[0;34m(\u001b[0m\u001b[0mdata\u001b[0m\u001b[0;34m)\u001b[0m\u001b[0;34m.\u001b[0m\u001b[0msplit\u001b[0m\u001b[0;34m(\u001b[0m\u001b[0;34m\" \"\u001b[0m\u001b[0;34m)\u001b[0m\u001b[0;34m[\u001b[0m\u001b[0;36m0\u001b[0m\u001b[0;34m]\u001b[0m\u001b[0;34m)\u001b[0m\u001b[0;34m\u001b[0m\u001b[0m\n\u001b[0;32m----> 5\u001b[0;31m     \u001b[0mcsv_file\u001b[0m \u001b[0;34m=\u001b[0m \u001b[0mgd2\u001b[0m\u001b[0;34m.\u001b[0m\u001b[0mSearch\u001b[0m\u001b[0;34m(\u001b[0m\u001b[0mstr\u001b[0m\u001b[0;34m(\u001b[0m\u001b[0mdata\u001b[0m\u001b[0;34m)\u001b[0m\u001b[0;34m.\u001b[0m\u001b[0msplit\u001b[0m\u001b[0;34m(\u001b[0m\u001b[0;34m\" \"\u001b[0m\u001b[0;34m)\u001b[0m\u001b[0;34m[\u001b[0m\u001b[0;36m0\u001b[0m\u001b[0;34m]\u001b[0m\u001b[0;34m,\u001b[0m\u001b[0mtable\u001b[0m\u001b[0;34m=\u001b[0m\u001b[0;34m'gkg'\u001b[0m\u001b[0;34m,\u001b[0m\u001b[0mcoverage\u001b[0m\u001b[0;34m=\u001b[0m\u001b[0;32mTrue\u001b[0m\u001b[0;34m,\u001b[0m \u001b[0moutput\u001b[0m\u001b[0;34m=\u001b[0m\u001b[0;34m'csv'\u001b[0m\u001b[0;34m)\u001b[0m\u001b[0;34m\u001b[0m\u001b[0m\n\u001b[0m\u001b[1;32m      6\u001b[0m     \u001b[0;32mwith\u001b[0m \u001b[0mopen\u001b[0m\u001b[0;34m(\u001b[0m\u001b[0;34m'///media/ostapkharysh/SP_PHD_U3/gdelt/{}-{}-{}.csv'\u001b[0m\u001b[0;34m.\u001b[0m\u001b[0mformat\u001b[0m\u001b[0;34m(\u001b[0m\u001b[0mstr\u001b[0m\u001b[0;34m(\u001b[0m\u001b[0mdatetime\u001b[0m\u001b[0;34m.\u001b[0m\u001b[0myear\u001b[0m\u001b[0;34m)\u001b[0m\u001b[0;34m,\u001b[0m \u001b[0mstr\u001b[0m\u001b[0;34m(\u001b[0m\u001b[0mdatetime\u001b[0m\u001b[0;34m.\u001b[0m\u001b[0mmonth\u001b[0m\u001b[0;34m)\u001b[0m\u001b[0;34m,\u001b[0m \u001b[0mstr\u001b[0m\u001b[0;34m(\u001b[0m\u001b[0mdatetime\u001b[0m\u001b[0;34m.\u001b[0m\u001b[0mday\u001b[0m\u001b[0;34m)\u001b[0m\u001b[0;34m)\u001b[0m\u001b[0;34m,\u001b[0m \u001b[0;34m'w'\u001b[0m\u001b[0;34m)\u001b[0m \u001b[0;32mas\u001b[0m \u001b[0mf\u001b[0m\u001b[0;34m:\u001b[0m\u001b[0;34m\u001b[0m\u001b[0m\n\u001b[1;32m      7\u001b[0m         \u001b[0mwriter\u001b[0m \u001b[0;34m=\u001b[0m \u001b[0mcsv\u001b[0m\u001b[0;34m.\u001b[0m\u001b[0mwriter\u001b[0m\u001b[0;34m(\u001b[0m\u001b[0mf\u001b[0m\u001b[0;34m)\u001b[0m\u001b[0;34m\u001b[0m\u001b[0m\n",
      "\u001b[0;32m/usr/local/lib/python3.5/dist-packages/gdelt/base.py\u001b[0m in \u001b[0;36mSearch\u001b[0;34m(self, date, table, coverage, translation, output, queryTime, normcols)\u001b[0m\n\u001b[1;32m    634\u001b[0m                 \u001b[0mpool\u001b[0m \u001b[0;34m=\u001b[0m \u001b[0mNoDaemonProcessPool\u001b[0m\u001b[0;34m(\u001b[0m\u001b[0mprocesses\u001b[0m\u001b[0;34m=\u001b[0m\u001b[0mcpu_count\u001b[0m\u001b[0;34m(\u001b[0m\u001b[0;34m)\u001b[0m\u001b[0;34m)\u001b[0m\u001b[0;34m\u001b[0m\u001b[0m\n\u001b[1;32m    635\u001b[0m                 downloaded_dfs = list(pool.imap_unordered(_mp_worker,\n\u001b[0;32m--> 636\u001b[0;31m                                                           \u001b[0mself\u001b[0m\u001b[0;34m.\u001b[0m\u001b[0mdownload_list\u001b[0m\u001b[0;34m,\u001b[0m\u001b[0;34m\u001b[0m\u001b[0m\n\u001b[0m\u001b[1;32m    637\u001b[0m                                                           ))\n\u001b[1;32m    638\u001b[0m             \u001b[0mpool\u001b[0m\u001b[0;34m.\u001b[0m\u001b[0mclose\u001b[0m\u001b[0;34m(\u001b[0m\u001b[0;34m)\u001b[0m\u001b[0;34m\u001b[0m\u001b[0m\n",
      "\u001b[0;32m/usr/lib/python3.5/multiprocessing/pool.py\u001b[0m in \u001b[0;36mnext\u001b[0;34m(self, timeout)\u001b[0m\n\u001b[1;32m    682\u001b[0m                 \u001b[0;32mif\u001b[0m \u001b[0mself\u001b[0m\u001b[0;34m.\u001b[0m\u001b[0m_index\u001b[0m \u001b[0;34m==\u001b[0m \u001b[0mself\u001b[0m\u001b[0;34m.\u001b[0m\u001b[0m_length\u001b[0m\u001b[0;34m:\u001b[0m\u001b[0;34m\u001b[0m\u001b[0m\n\u001b[1;32m    683\u001b[0m                     \u001b[0;32mraise\u001b[0m \u001b[0mStopIteration\u001b[0m\u001b[0;34m\u001b[0m\u001b[0m\n\u001b[0;32m--> 684\u001b[0;31m                 \u001b[0mself\u001b[0m\u001b[0;34m.\u001b[0m\u001b[0m_cond\u001b[0m\u001b[0;34m.\u001b[0m\u001b[0mwait\u001b[0m\u001b[0;34m(\u001b[0m\u001b[0mtimeout\u001b[0m\u001b[0;34m)\u001b[0m\u001b[0;34m\u001b[0m\u001b[0m\n\u001b[0m\u001b[1;32m    685\u001b[0m                 \u001b[0;32mtry\u001b[0m\u001b[0;34m:\u001b[0m\u001b[0;34m\u001b[0m\u001b[0m\n\u001b[1;32m    686\u001b[0m                     \u001b[0mitem\u001b[0m \u001b[0;34m=\u001b[0m \u001b[0mself\u001b[0m\u001b[0;34m.\u001b[0m\u001b[0m_items\u001b[0m\u001b[0;34m.\u001b[0m\u001b[0mpopleft\u001b[0m\u001b[0;34m(\u001b[0m\u001b[0;34m)\u001b[0m\u001b[0;34m\u001b[0m\u001b[0m\n",
      "\u001b[0;32m/usr/lib/python3.5/threading.py\u001b[0m in \u001b[0;36mwait\u001b[0;34m(self, timeout)\u001b[0m\n\u001b[1;32m    291\u001b[0m         \u001b[0;32mtry\u001b[0m\u001b[0;34m:\u001b[0m    \u001b[0;31m# restore state no matter what (e.g., KeyboardInterrupt)\u001b[0m\u001b[0;34m\u001b[0m\u001b[0m\n\u001b[1;32m    292\u001b[0m             \u001b[0;32mif\u001b[0m \u001b[0mtimeout\u001b[0m \u001b[0;32mis\u001b[0m \u001b[0;32mNone\u001b[0m\u001b[0;34m:\u001b[0m\u001b[0;34m\u001b[0m\u001b[0m\n\u001b[0;32m--> 293\u001b[0;31m                 \u001b[0mwaiter\u001b[0m\u001b[0;34m.\u001b[0m\u001b[0macquire\u001b[0m\u001b[0;34m(\u001b[0m\u001b[0;34m)\u001b[0m\u001b[0;34m\u001b[0m\u001b[0m\n\u001b[0m\u001b[1;32m    294\u001b[0m                 \u001b[0mgotit\u001b[0m \u001b[0;34m=\u001b[0m \u001b[0;32mTrue\u001b[0m\u001b[0;34m\u001b[0m\u001b[0m\n\u001b[1;32m    295\u001b[0m             \u001b[0;32melse\u001b[0m\u001b[0;34m:\u001b[0m\u001b[0;34m\u001b[0m\u001b[0m\n",
      "\u001b[0;31mKeyboardInterrupt\u001b[0m: "
     ]
    },
    {
     "name": "stderr",
     "output_type": "stream",
     "text": [
      "  File \"/usr/lib/python3.5/http/client.py\", line 488, in readinto\n",
      "    n = self.fp.readinto(b)\n",
      "  File \"/usr/lib/python3.5/socket.py\", line 575, in readinto\n",
      "    return self._sock.recv_into(b)\n",
      "KeyboardInterrupt\n",
      "/usr/local/lib/python3.5/dist-packages/gdelt/parallel.py:103: UserWarning: GDELT did not return data for date time 20160101071500\n",
      "  warnings.warn(message)\n"
     ]
    }
   ],
   "source": [
    "#import csv\n",
    "#data = datetime.datetime(2016, 1, 1, 0, 0, 0)\n",
    "#while data.day < 2:\n",
    "#    print(str(data).split(\" \")[0])\n",
    "#    with open('///media/ostapkharysh/SP_PHD_U3/gdelt/{}-{}-{}.csv'.format(str(datetime.year), str(datetime.month), str(datetime.day)), 'w') as f:\n",
    "#        writer = csv.writer(f)\n",
    "#        for row in csv_file:\n",
    "#            writer.writerow(row)\n",
    "#    data+=datetime.timedelta(days=1)"
   ]
  },
  {
   "cell_type": "code",
   "execution_count": null,
   "metadata": {},
   "outputs": [],
   "source": [
    "836.3716552257538/60"
   ]
  },
  {
   "cell_type": "code",
   "execution_count": 7,
   "metadata": {},
   "outputs": [
    {
     "data": {
      "text/plain": [
       "0       http://www.busseltonmail.com.au/story/4293084/...\n",
       "1       http://www.niagara-gazette.com/opinion/cheers-...\n",
       "2       http://www.wkrb13.com/markets/1840007/schwab-c...\n",
       "3       http://news-sentinel.com/news/us-and-world/Law...\n",
       "4       http://www.stuff.co.nz/life-style/home-propert...\n",
       "5       http://www.classicrock1011.com/blogs/listen-fo...\n",
       "6       http://www.greecepost.com/news/20161114/renown...\n",
       "7       http://anhs-capousd-ca.schoolloop.com/cms/day?...\n",
       "8       http://dealnews.com/Dirt-Devil-Express-V6-Hand...\n",
       "9       http://5newsonline.com/2016/11/14/sallisaw-man...\n",
       "10      http://www.wilx.com/content/news/11-Arab-natio...\n",
       "11      http://www.dfw.com/2016/11/14/1153560/hooters-...\n",
       "12      http://nmpoliticalreport.com/120455/sanchez-sa...\n",
       "13      http://www.ktvq.com/story/33705753/fbi-investi...\n",
       "14      http://www.ottumwacourier.com/news/mr-zimmerma...\n",
       "15      http://www.walb.com/story/33707275/rams-look-t...\n",
       "16      http://www.cranbrooktownsman.com/national/4011...\n",
       "17      http://www.news1130.com/2016/11/14/b-c-man-ple...\n",
       "18           http://www.gp.org/maine_greens_ranked_choice\n",
       "19                     http://www.ktbb.com/post/?p=557474\n",
       "20      http://newstalk1230.iheart.com/onair/rush-limb...\n",
       "21      http://www.newyorker.com/podcast/political-sce...\n",
       "22      http://www.ktnv.com/positivelylv/13-things/13-...\n",
       "23      http://www.powerlineblog.com/archives/2016/11/...\n",
       "24      http://wcfcourier.com/a-briefs/article_bdf8e5a...\n",
       "25      http://www.live5news.com/story/33705394/police...\n",
       "26      http://searchengineland.com/searchcap-google-a...\n",
       "27      http://s3.amazonaws.com/newhotels2/15-Hotel-Gl...\n",
       "28      http://www.iranherald.com/index.php/sid/249394221\n",
       "29      http://www.foxbusiness.com/markets/2016/11/14/...\n",
       "                              ...                        \n",
       "3709    http://www.iranherald.com/index.php/sid/249393875\n",
       "3710    http://www.star1063.com.au/news/national-news/...\n",
       "3711    http://okcfox.com/news/offbeat/glen-burnie-man...\n",
       "3712    http://www.myarklamiss.com/news/southern-wildf...\n",
       "3713    http://m.philstar.com/314190/show/fb03423e8014...\n",
       "3714    http://tucson.com/news/national/how-the-dow-jo...\n",
       "3715    http://majic959.iheart.com/articles/national-n...\n",
       "3716    http://humanitariannews.org/20161115/global-ca...\n",
       "3717    http://savannahnow.com/bryan-county-now/2016-1...\n",
       "3718    http://customwire.ap.org/dynamic/stories/U/US_...\n",
       "3719    http://www.thetelegram.com/News/2016-11-14/art...\n",
       "3720    https://www.complianceweek.com/news/news-artic...\n",
       "3721    http://www.stuff.co.nz/technology/gadgets/8647...\n",
       "3722    http://dailytimes.com.pk/pakistan/15-Nov-16/ba...\n",
       "3723    http://anhs-capousd-ca.schoolloop.com/cms/day?...\n",
       "3724    http://rovrocks.iheart.com/articles/politics-1...\n",
       "3725    http://wtag.iheart.com/articles/national-news-...\n",
       "3726    http://www.theargus.co.uk/news/14903309.School...\n",
       "3727    http://www.nnbw.com/news/mesa-rim-climbing-cen...\n",
       "3728    http://www.metrojacksonville.com/forum/index.p...\n",
       "3729    http://www.awn.com/animationworld/animators-un...\n",
       "3730    http://1027thewolf.iheart.com/articles/weird-n...\n",
       "3731    http://www.irishtimes.com/news/politics/stando...\n",
       "3732    http://www.euronews.com/2016/11/14/obama-to-re...\n",
       "3733    http://www.nationalmortgagenews.com/news/origi...\n",
       "3734    http://wyht.iheart.com/articles/weird-news-104...\n",
       "3735    http://www.jdsupra.com/legalnews/to-arbitrate-...\n",
       "3736    http://590kid.com/2016/11/14/woman-sues-utah-s...\n",
       "3737    http://news-sentinel.com/news/us-and-world/The...\n",
       "3738    http://www.thetrucker.com/News/Story/Averageco...\n",
       "Name: 4, Length: 3739, dtype: object"
      ]
     },
     "execution_count": 7,
     "metadata": {},
     "output_type": "execute_result"
    }
   ],
   "source": [
    "gkg_2[4]"
   ]
  },
  {
   "cell_type": "code",
   "execution_count": 8,
   "metadata": {},
   "outputs": [
    {
     "data": {
      "text/plain": [
       "3739"
      ]
     },
     "execution_count": 8,
     "metadata": {},
     "output_type": "execute_result"
    }
   ],
   "source": [
    "g = set(gkg_2[4])\n",
    "len(g)"
   ]
  },
  {
   "cell_type": "code",
   "execution_count": 9,
   "metadata": {},
   "outputs": [
    {
     "data": {
      "text/html": [
       "<div>\n",
       "<style scoped>\n",
       "    .dataframe tbody tr th:only-of-type {\n",
       "        vertical-align: middle;\n",
       "    }\n",
       "\n",
       "    .dataframe tbody tr th {\n",
       "        vertical-align: top;\n",
       "    }\n",
       "\n",
       "    .dataframe thead th {\n",
       "        text-align: right;\n",
       "    }\n",
       "</style>\n",
       "<table border=\"1\" class=\"dataframe\">\n",
       "  <thead>\n",
       "    <tr style=\"text-align: right;\">\n",
       "      <th></th>\n",
       "      <th>0</th>\n",
       "      <th>1</th>\n",
       "      <th>2</th>\n",
       "      <th>3</th>\n",
       "      <th>4</th>\n",
       "      <th>5</th>\n",
       "      <th>6</th>\n",
       "      <th>7</th>\n",
       "      <th>8</th>\n",
       "      <th>9</th>\n",
       "      <th>...</th>\n",
       "      <th>17</th>\n",
       "      <th>18</th>\n",
       "      <th>19</th>\n",
       "      <th>20</th>\n",
       "      <th>21</th>\n",
       "      <th>22</th>\n",
       "      <th>23</th>\n",
       "      <th>24</th>\n",
       "      <th>25</th>\n",
       "      <th>26</th>\n",
       "    </tr>\n",
       "  </thead>\n",
       "  <tbody>\n",
       "    <tr>\n",
       "      <th>0</th>\n",
       "      <td>20161115000000-0</td>\n",
       "      <td>20161115000000</td>\n",
       "      <td>1</td>\n",
       "      <td>busseltonmail.com.au</td>\n",
       "      <td>http://www.busseltonmail.com.au/story/4293084/...</td>\n",
       "      <td>NaN</td>\n",
       "      <td>NaN</td>\n",
       "      <td>WB_678_DIGITAL_GOVERNMENT;WB_694_BROADCAST_AND...</td>\n",
       "      <td>TAX_ETHNICITY_AUSTRALIANS,511;TAX_ETHNICITY_AU...</td>\n",
       "      <td>1#United States#US#US#38#-97#US;1#Australia#AS...</td>\n",
       "      <td>...</td>\n",
       "      <td>wc:521,c1.2:6,c12.1:42,c12.10:69,c12.12:17,c12...</td>\n",
       "      <td>http://nnimgt-a.akamaihd.net/transform/v1/crop...</td>\n",
       "      <td>NaN</td>\n",
       "      <td>NaN</td>\n",
       "      <td>NaN</td>\n",
       "      <td>40|26||elite xC2 ; xA0 ; media</td>\n",
       "      <td>Prime Minister Malcolm Turnbull,162;Racial Dis...</td>\n",
       "      <td>8,weeks of the election,749;</td>\n",
       "      <td>NaN</td>\n",
       "      <td>&lt;PAGE_LINKS&gt;http://www.busseltonmail.com.au/fe...</td>\n",
       "    </tr>\n",
       "    <tr>\n",
       "      <th>1</th>\n",
       "      <td>20161115000000-1</td>\n",
       "      <td>20161115000000</td>\n",
       "      <td>1</td>\n",
       "      <td>niagara-gazette.com</td>\n",
       "      <td>http://www.niagara-gazette.com/opinion/cheers-...</td>\n",
       "      <td>NaN</td>\n",
       "      <td>NaN</td>\n",
       "      <td>NaN</td>\n",
       "      <td>NaN</td>\n",
       "      <td>NaN</td>\n",
       "      <td>...</td>\n",
       "      <td>wc:457,c12.1:25,c12.10:53,c12.12:17,c12.13:18,...</td>\n",
       "      <td>NaN</td>\n",
       "      <td>NaN</td>\n",
       "      <td>NaN</td>\n",
       "      <td>NaN</td>\n",
       "      <td>NaN</td>\n",
       "      <td>Military Road,208;Niagara Electric Lights Para...</td>\n",
       "      <td>3,points would have loomed,2107;</td>\n",
       "      <td>NaN</td>\n",
       "      <td>&lt;PAGE_AUTHORS&gt;Niagara Gazette Editorial Board&lt;...</td>\n",
       "    </tr>\n",
       "    <tr>\n",
       "      <th>2</th>\n",
       "      <td>20161115000000-2</td>\n",
       "      <td>20161115000000</td>\n",
       "      <td>1</td>\n",
       "      <td>wkrb13.com</td>\n",
       "      <td>http://www.wkrb13.com/markets/1840007/schwab-c...</td>\n",
       "      <td>NaN</td>\n",
       "      <td>NaN</td>\n",
       "      <td>EPU_CATS_REGULATION;EPU_CATS_FINANCIAL_REGULAT...</td>\n",
       "      <td>EPU_CATS_REGULATION,167;EPU_CATS_REGULATION,41...</td>\n",
       "      <td>NaN</td>\n",
       "      <td>...</td>\n",
       "      <td>wc:715,c1.1:2,c1.2:2,c12.1:24,c12.10:36,c12.12...</td>\n",
       "      <td>http://www.wkrb13.com/logos/cutera-logo.jpg</td>\n",
       "      <td>http://www.wkrb13.com/logos/cutera-logo.jpg;ht...</td>\n",
       "      <td>NaN</td>\n",
       "      <td>NaN</td>\n",
       "      <td>NaN</td>\n",
       "      <td>Schwab Charles Investment Management,38;Charle...</td>\n",
       "      <td>705,shares of the medical,159;210,dollars ,306...</td>\n",
       "      <td>NaN</td>\n",
       "      <td>&lt;PAGE_LINKS&gt;http://www.marketbeat.com/stocks/N...</td>\n",
       "    </tr>\n",
       "    <tr>\n",
       "      <th>3</th>\n",
       "      <td>20161115000000-3</td>\n",
       "      <td>20161115000000</td>\n",
       "      <td>1</td>\n",
       "      <td>news-sentinel.com</td>\n",
       "      <td>http://news-sentinel.com/news/us-and-world/Law...</td>\n",
       "      <td>NaN</td>\n",
       "      <td>NaN</td>\n",
       "      <td>GENERAL_HEALTH;TAX_DISEASE;TAX_DISEASE_MENTAL_...</td>\n",
       "      <td>TAX_DISEASE_DISEASE,1130;WB_1406_DISEASES,1130...</td>\n",
       "      <td>2#Georgia, United States#US#USGA#32.9866#-83.6...</td>\n",
       "      <td>...</td>\n",
       "      <td>wc:561,c12.1:33,c12.10:59,c12.12:35,c12.13:13,...</td>\n",
       "      <td>NaN</td>\n",
       "      <td>NaN</td>\n",
       "      <td>NaN</td>\n",
       "      <td>NaN</td>\n",
       "      <td>NaN</td>\n",
       "      <td>Frederick Spears,372;Sherri Holland,513;Brian ...</td>\n",
       "      <td>65,miles northeast of Atlanta,439;</td>\n",
       "      <td>NaN</td>\n",
       "      <td>&lt;PAGE_AUTHORS&gt;') .replace(/\\)\\*/;';Associated ...</td>\n",
       "    </tr>\n",
       "    <tr>\n",
       "      <th>4</th>\n",
       "      <td>20161115000000-4</td>\n",
       "      <td>20161115000000</td>\n",
       "      <td>1</td>\n",
       "      <td>stuff.co.nz</td>\n",
       "      <td>http://www.stuff.co.nz/life-style/home-propert...</td>\n",
       "      <td>NaN</td>\n",
       "      <td>NaN</td>\n",
       "      <td>TAX_FNCACT;TAX_FNCACT_CEO;TAX_FNCACT_DIRECTOR;...</td>\n",
       "      <td>TAX_ECON_PRICE,857;TAX_ECON_PRICE,1481;WB_1467...</td>\n",
       "      <td>NaN</td>\n",
       "      <td>...</td>\n",
       "      <td>wc:420,c1.1:3,c12.1:45,c12.10:56,c12.12:15,c12...</td>\n",
       "      <td>https://resources.stuff.co.nz/content/dam/imag...</td>\n",
       "      <td>NaN</td>\n",
       "      <td>NaN</td>\n",
       "      <td>NaN</td>\n",
       "      <td>113|40||Rugs can set the tone for an entire room</td>\n",
       "      <td>Accents Creative Director Ginna Christensen,458</td>\n",
       "      <td>NaN</td>\n",
       "      <td>NaN</td>\n",
       "      <td>&lt;PAGE_AUTHORS&gt;SACHA STREBE&lt;/PAGE_AUTHORS&gt;</td>\n",
       "    </tr>\n",
       "  </tbody>\n",
       "</table>\n",
       "<p>5 rows × 27 columns</p>\n",
       "</div>"
      ],
      "text/plain": [
       "                 0               1   2                     3   \\\n",
       "0  20161115000000-0  20161115000000   1  busseltonmail.com.au   \n",
       "1  20161115000000-1  20161115000000   1   niagara-gazette.com   \n",
       "2  20161115000000-2  20161115000000   1            wkrb13.com   \n",
       "3  20161115000000-3  20161115000000   1     news-sentinel.com   \n",
       "4  20161115000000-4  20161115000000   1           stuff.co.nz   \n",
       "\n",
       "                                                  4    5    6   \\\n",
       "0  http://www.busseltonmail.com.au/story/4293084/...  NaN  NaN   \n",
       "1  http://www.niagara-gazette.com/opinion/cheers-...  NaN  NaN   \n",
       "2  http://www.wkrb13.com/markets/1840007/schwab-c...  NaN  NaN   \n",
       "3  http://news-sentinel.com/news/us-and-world/Law...  NaN  NaN   \n",
       "4  http://www.stuff.co.nz/life-style/home-propert...  NaN  NaN   \n",
       "\n",
       "                                                  7   \\\n",
       "0  WB_678_DIGITAL_GOVERNMENT;WB_694_BROADCAST_AND...   \n",
       "1                                                NaN   \n",
       "2  EPU_CATS_REGULATION;EPU_CATS_FINANCIAL_REGULAT...   \n",
       "3  GENERAL_HEALTH;TAX_DISEASE;TAX_DISEASE_MENTAL_...   \n",
       "4  TAX_FNCACT;TAX_FNCACT_CEO;TAX_FNCACT_DIRECTOR;...   \n",
       "\n",
       "                                                  8   \\\n",
       "0  TAX_ETHNICITY_AUSTRALIANS,511;TAX_ETHNICITY_AU...   \n",
       "1                                                NaN   \n",
       "2  EPU_CATS_REGULATION,167;EPU_CATS_REGULATION,41...   \n",
       "3  TAX_DISEASE_DISEASE,1130;WB_1406_DISEASES,1130...   \n",
       "4  TAX_ECON_PRICE,857;TAX_ECON_PRICE,1481;WB_1467...   \n",
       "\n",
       "                                                  9   \\\n",
       "0  1#United States#US#US#38#-97#US;1#Australia#AS...   \n",
       "1                                                NaN   \n",
       "2                                                NaN   \n",
       "3  2#Georgia, United States#US#USGA#32.9866#-83.6...   \n",
       "4                                                NaN   \n",
       "\n",
       "                         ...                          \\\n",
       "0                        ...                           \n",
       "1                        ...                           \n",
       "2                        ...                           \n",
       "3                        ...                           \n",
       "4                        ...                           \n",
       "\n",
       "                                                  17  \\\n",
       "0  wc:521,c1.2:6,c12.1:42,c12.10:69,c12.12:17,c12...   \n",
       "1  wc:457,c12.1:25,c12.10:53,c12.12:17,c12.13:18,...   \n",
       "2  wc:715,c1.1:2,c1.2:2,c12.1:24,c12.10:36,c12.12...   \n",
       "3  wc:561,c12.1:33,c12.10:59,c12.12:35,c12.13:13,...   \n",
       "4  wc:420,c1.1:3,c12.1:45,c12.10:56,c12.12:15,c12...   \n",
       "\n",
       "                                                  18  \\\n",
       "0  http://nnimgt-a.akamaihd.net/transform/v1/crop...   \n",
       "1                                                NaN   \n",
       "2        http://www.wkrb13.com/logos/cutera-logo.jpg   \n",
       "3                                                NaN   \n",
       "4  https://resources.stuff.co.nz/content/dam/imag...   \n",
       "\n",
       "                                                  19   20   21  \\\n",
       "0                                                NaN  NaN  NaN   \n",
       "1                                                NaN  NaN  NaN   \n",
       "2  http://www.wkrb13.com/logos/cutera-logo.jpg;ht...  NaN  NaN   \n",
       "3                                                NaN  NaN  NaN   \n",
       "4                                                NaN  NaN  NaN   \n",
       "\n",
       "                                                 22  \\\n",
       "0                    40|26||elite xC2 ; xA0 ; media   \n",
       "1                                               NaN   \n",
       "2                                               NaN   \n",
       "3                                               NaN   \n",
       "4  113|40||Rugs can set the tone for an entire room   \n",
       "\n",
       "                                                  23  \\\n",
       "0  Prime Minister Malcolm Turnbull,162;Racial Dis...   \n",
       "1  Military Road,208;Niagara Electric Lights Para...   \n",
       "2  Schwab Charles Investment Management,38;Charle...   \n",
       "3  Frederick Spears,372;Sherri Holland,513;Brian ...   \n",
       "4    Accents Creative Director Ginna Christensen,458   \n",
       "\n",
       "                                                  24  25  \\\n",
       "0                       8,weeks of the election,749; NaN   \n",
       "1                   3,points would have loomed,2107; NaN   \n",
       "2  705,shares of the medical,159;210,dollars ,306... NaN   \n",
       "3                 65,miles northeast of Atlanta,439; NaN   \n",
       "4                                                NaN NaN   \n",
       "\n",
       "                                                  26  \n",
       "0  <PAGE_LINKS>http://www.busseltonmail.com.au/fe...  \n",
       "1  <PAGE_AUTHORS>Niagara Gazette Editorial Board<...  \n",
       "2  <PAGE_LINKS>http://www.marketbeat.com/stocks/N...  \n",
       "3  <PAGE_AUTHORS>') .replace(/\\)\\*/;';Associated ...  \n",
       "4          <PAGE_AUTHORS>SACHA STREBE</PAGE_AUTHORS>  \n",
       "\n",
       "[5 rows x 27 columns]"
      ]
     },
     "execution_count": 9,
     "metadata": {},
     "output_type": "execute_result"
    }
   ],
   "source": [
    "gkg_2.head()"
   ]
  },
  {
   "cell_type": "code",
   "execution_count": 11,
   "metadata": {},
   "outputs": [],
   "source": [
    "datagkg_2 = list(gkg_2[4])"
   ]
  },
  {
   "cell_type": "code",
   "execution_count": 12,
   "metadata": {},
   "outputs": [],
   "source": [
    "def goog_finder(datagkg):\n",
    "    g =[]\n",
    "    print(len(datagkg))\n",
    "    datagkg = list(set(datagkg))\n",
    "    print(len(datagkg))\n",
    "    for el in datagkg:\n",
    "        if \"google\" in el and not 'google.news' in el:\n",
    "            if '<UDIV>' in el:\n",
    "                el = el.replace('<UDIV>',\" \")\n",
    "                for x in el.split(\" \"):\n",
    "                     g.append(x)\n",
    "            else:\n",
    "                g.append(el.replace('<UDIV>',\" \"))\n",
    "    return g\n"
   ]
  },
  {
   "cell_type": "code",
   "execution_count": 13,
   "metadata": {},
   "outputs": [
    {
     "name": "stdout",
     "output_type": "stream",
     "text": [
      "3739\n",
      "3739\n"
     ]
    }
   ],
   "source": [
    "goog_2 = goog_finder(datagkg_2)"
   ]
  },
  {
   "cell_type": "code",
   "execution_count": null,
   "metadata": {},
   "outputs": [],
   "source": [
    "#len(goog_1) 725"
   ]
  },
  {
   "cell_type": "code",
   "execution_count": 14,
   "metadata": {},
   "outputs": [
    {
     "data": {
      "text/plain": [
       "11"
      ]
     },
     "execution_count": 14,
     "metadata": {},
     "output_type": "execute_result"
    }
   ],
   "source": [
    "len(goog_2)"
   ]
  },
  {
   "cell_type": "code",
   "execution_count": 15,
   "metadata": {},
   "outputs": [
    {
     "data": {
      "text/plain": [
       "['http://www.howtogeek.com/280244/how-to-use-spotify-with-the-google-home/',\n",
       " 'http://www.thebusinessjournal.com/news/state/24771-google-highlighting-inaccurate-story-about-election-results',\n",
       " 'http://searchengineland.com/searchcap-google-adwords-cards-bing-pervasive-search-google-verification-spam-263445',\n",
       " 'https://www.scmagazine.com/pwnfest-hackers-exploit-vulns-in-google-pixel-safari-and-microsoft-edge/article/572881/',\n",
       " 'https://itbrief.co.nz/story/new-apac-headquarters-google-singapore/',\n",
       " 'http://www.androidcentral.com/using-smaller-pixel-google-daydream-distraction-central',\n",
       " 'http://www.usatoday.com/story/tech/2016/11/14/more-fake-news-social-media----time-google/93819442/',\n",
       " 'http://www.androidcentral.com/save-50-select-ringke-fusion-cases-google-pixel',\n",
       " 'http://kprcradio.iheart.com/articles/houston-news-121300/google-maps-reveals-best-worst-thanksgiving-15298579/',\n",
       " 'http://wyht.iheart.com/onair/billy-the-kidd-3273/todays-google-doodle-15298361/',\n",
       " 'http://www.stuff.co.nz/technology/gadgets/86433612/review-googles-vr-headset']"
      ]
     },
     "execution_count": 15,
     "metadata": {},
     "output_type": "execute_result"
    }
   ],
   "source": [
    "goog_2"
   ]
  },
  {
   "cell_type": "code",
   "execution_count": 18,
   "metadata": {},
   "outputs": [],
   "source": [
    "dates_links = []\n",
    "\n",
    "for el in goog_2:\n",
    "    dates_links.append([datetime.datetime.strptime(\"{}\".format(str(gkg_2.loc[gkg_2[4] == el][1].values[0])), '%Y%m%d%H%M%S'), el])"
   ]
  },
  {
   "cell_type": "code",
   "execution_count": 19,
   "metadata": {},
   "outputs": [
    {
     "data": {
      "text/plain": [
       "[[datetime.datetime(2016, 11, 15, 0, 0),\n",
       "  'http://www.howtogeek.com/280244/how-to-use-spotify-with-the-google-home/'],\n",
       " [datetime.datetime(2016, 11, 15, 0, 0),\n",
       "  'http://www.thebusinessjournal.com/news/state/24771-google-highlighting-inaccurate-story-about-election-results'],\n",
       " [datetime.datetime(2016, 11, 15, 0, 0),\n",
       "  'http://searchengineland.com/searchcap-google-adwords-cards-bing-pervasive-search-google-verification-spam-263445'],\n",
       " [datetime.datetime(2016, 11, 15, 0, 0),\n",
       "  'https://www.scmagazine.com/pwnfest-hackers-exploit-vulns-in-google-pixel-safari-and-microsoft-edge/article/572881/'],\n",
       " [datetime.datetime(2016, 11, 15, 0, 0),\n",
       "  'https://itbrief.co.nz/story/new-apac-headquarters-google-singapore/'],\n",
       " [datetime.datetime(2016, 11, 15, 0, 0),\n",
       "  'http://www.androidcentral.com/using-smaller-pixel-google-daydream-distraction-central'],\n",
       " [datetime.datetime(2016, 11, 15, 0, 0),\n",
       "  'http://www.usatoday.com/story/tech/2016/11/14/more-fake-news-social-media----time-google/93819442/'],\n",
       " [datetime.datetime(2016, 11, 15, 0, 0),\n",
       "  'http://www.androidcentral.com/save-50-select-ringke-fusion-cases-google-pixel'],\n",
       " [datetime.datetime(2016, 11, 15, 0, 0),\n",
       "  'http://kprcradio.iheart.com/articles/houston-news-121300/google-maps-reveals-best-worst-thanksgiving-15298579/'],\n",
       " [datetime.datetime(2016, 11, 15, 0, 0),\n",
       "  'http://wyht.iheart.com/onair/billy-the-kidd-3273/todays-google-doodle-15298361/'],\n",
       " [datetime.datetime(2016, 11, 15, 0, 0),\n",
       "  'http://www.stuff.co.nz/technology/gadgets/86433612/review-googles-vr-headset']]"
      ]
     },
     "execution_count": 19,
     "metadata": {},
     "output_type": "execute_result"
    }
   ],
   "source": [
    "dates_links"
   ]
  },
  {
   "cell_type": "code",
   "execution_count": 20,
   "metadata": {},
   "outputs": [],
   "source": [
    "links_by_date = dict()\n",
    "\n",
    "for el in dates_links:\n",
    "    if el[0] in links_by_date.keys():\n",
    "        links_by_date[el[0]].append(el[1])\n",
    "    else:\n",
    "        links_by_date[el[0]] = list()\n",
    "        links_by_date[el[0]].append(el[1])\n",
    "        "
   ]
  },
  {
   "cell_type": "code",
   "execution_count": 21,
   "metadata": {},
   "outputs": [
    {
     "data": {
      "text/plain": [
       "{datetime.datetime(2016, 11, 15, 0, 0): ['http://www.howtogeek.com/280244/how-to-use-spotify-with-the-google-home/',\n",
       "  'http://www.thebusinessjournal.com/news/state/24771-google-highlighting-inaccurate-story-about-election-results',\n",
       "  'http://searchengineland.com/searchcap-google-adwords-cards-bing-pervasive-search-google-verification-spam-263445',\n",
       "  'https://www.scmagazine.com/pwnfest-hackers-exploit-vulns-in-google-pixel-safari-and-microsoft-edge/article/572881/',\n",
       "  'https://itbrief.co.nz/story/new-apac-headquarters-google-singapore/',\n",
       "  'http://www.androidcentral.com/using-smaller-pixel-google-daydream-distraction-central',\n",
       "  'http://www.usatoday.com/story/tech/2016/11/14/more-fake-news-social-media----time-google/93819442/',\n",
       "  'http://www.androidcentral.com/save-50-select-ringke-fusion-cases-google-pixel',\n",
       "  'http://kprcradio.iheart.com/articles/houston-news-121300/google-maps-reveals-best-worst-thanksgiving-15298579/',\n",
       "  'http://wyht.iheart.com/onair/billy-the-kidd-3273/todays-google-doodle-15298361/',\n",
       "  'http://www.stuff.co.nz/technology/gadgets/86433612/review-googles-vr-headset']}"
      ]
     },
     "execution_count": 21,
     "metadata": {},
     "output_type": "execute_result"
    }
   ],
   "source": [
    "links_by_date"
   ]
  },
  {
   "cell_type": "code",
   "execution_count": 22,
   "metadata": {},
   "outputs": [],
   "source": [
    "s_links_by_date = dict()\n",
    "for (key, value) in sorted(links_by_date.items()):\n",
    "    s_links_by_date[key]=value"
   ]
  },
  {
   "cell_type": "code",
   "execution_count": 23,
   "metadata": {},
   "outputs": [
    {
     "data": {
      "text/plain": [
       "{datetime.datetime(2016, 11, 15, 0, 0): ['http://www.howtogeek.com/280244/how-to-use-spotify-with-the-google-home/',\n",
       "  'http://www.thebusinessjournal.com/news/state/24771-google-highlighting-inaccurate-story-about-election-results',\n",
       "  'http://searchengineland.com/searchcap-google-adwords-cards-bing-pervasive-search-google-verification-spam-263445',\n",
       "  'https://www.scmagazine.com/pwnfest-hackers-exploit-vulns-in-google-pixel-safari-and-microsoft-edge/article/572881/',\n",
       "  'https://itbrief.co.nz/story/new-apac-headquarters-google-singapore/',\n",
       "  'http://www.androidcentral.com/using-smaller-pixel-google-daydream-distraction-central',\n",
       "  'http://www.usatoday.com/story/tech/2016/11/14/more-fake-news-social-media----time-google/93819442/',\n",
       "  'http://www.androidcentral.com/save-50-select-ringke-fusion-cases-google-pixel',\n",
       "  'http://kprcradio.iheart.com/articles/houston-news-121300/google-maps-reveals-best-worst-thanksgiving-15298579/',\n",
       "  'http://wyht.iheart.com/onair/billy-the-kidd-3273/todays-google-doodle-15298361/',\n",
       "  'http://www.stuff.co.nz/technology/gadgets/86433612/review-googles-vr-headset']}"
      ]
     },
     "execution_count": 23,
     "metadata": {},
     "output_type": "execute_result"
    }
   ],
   "source": [
    "s_links_by_date"
   ]
  },
  {
   "cell_type": "code",
   "execution_count": 24,
   "metadata": {},
   "outputs": [
    {
     "data": {
      "text/plain": [
       "11"
      ]
     },
     "execution_count": 24,
     "metadata": {},
     "output_type": "execute_result"
    }
   ],
   "source": [
    "all_links =[len(el) for el in s_links_by_date.values()]\n",
    "sum(all_links)"
   ]
  },
  {
   "cell_type": "code",
   "execution_count": 25,
   "metadata": {},
   "outputs": [
    {
     "data": {
      "text/plain": [
       "11.0"
      ]
     },
     "execution_count": 25,
     "metadata": {},
     "output_type": "execute_result"
    }
   ],
   "source": [
    "#Mean\n",
    "sum(all_links)/len(s_links_by_date)"
   ]
  },
  {
   "cell_type": "code",
   "execution_count": 26,
   "metadata": {},
   "outputs": [],
   "source": [
    "from bs4 import BeautifulSoup as BS\n",
    "import requests\n",
    "from requests.exceptions import HTTPError, MissingSchema, TooManyRedirects\n",
    "from requests.exceptions import ConnectionError\n",
    "\n",
    "def get_text(link):\n",
    "    try:\n",
    "        session = requests.Session()\n",
    "        session.max_redirects = 30\n",
    "        r = session.get(link, verify=False)\n",
    "        soup = BS(r.content, 'html.parser')\n",
    "        if soup.html.title:\n",
    "            head = soup.html.title.string.strip()\n",
    "            return head.lower()\n",
    "    \n",
    "    except AttributeError:\n",
    "        print(\"No article found by this link!\", link)\n",
    "    except MissingSchema:\n",
    "            print('invalid url {} '.format(link))\n",
    "    except TooManyRedirects:\n",
    "        print('To many redirects')\n",
    "    except ConnectionError as e:\n",
    "        print(e)\n",
    "    "
   ]
  },
  {
   "cell_type": "code",
   "execution_count": 27,
   "metadata": {},
   "outputs": [],
   "source": [
    "goog_2_titles = dict()\n",
    "goog_2_titles_no_major_dubl = dict()"
   ]
  },
  {
   "cell_type": "code",
   "execution_count": 28,
   "metadata": {
    "scrolled": true
   },
   "outputs": [
    {
     "name": "stderr",
     "output_type": "stream",
     "text": [
      "/usr/local/lib/python3.5/dist-packages/urllib3/connectionpool.py:858: InsecureRequestWarning: Unverified HTTPS request is being made. Adding certificate verification is strongly advised. See: https://urllib3.readthedocs.io/en/latest/advanced-usage.html#ssl-warnings\n",
      "  InsecureRequestWarning)\n",
      "/usr/local/lib/python3.5/dist-packages/urllib3/connectionpool.py:858: InsecureRequestWarning: Unverified HTTPS request is being made. Adding certificate verification is strongly advised. See: https://urllib3.readthedocs.io/en/latest/advanced-usage.html#ssl-warnings\n",
      "  InsecureRequestWarning)\n",
      "/usr/local/lib/python3.5/dist-packages/urllib3/connectionpool.py:858: InsecureRequestWarning: Unverified HTTPS request is being made. Adding certificate verification is strongly advised. See: https://urllib3.readthedocs.io/en/latest/advanced-usage.html#ssl-warnings\n",
      "  InsecureRequestWarning)\n",
      "/usr/local/lib/python3.5/dist-packages/urllib3/connectionpool.py:858: InsecureRequestWarning: Unverified HTTPS request is being made. Adding certificate verification is strongly advised. See: https://urllib3.readthedocs.io/en/latest/advanced-usage.html#ssl-warnings\n",
      "  InsecureRequestWarning)\n"
     ]
    },
    {
     "name": "stdout",
     "output_type": "stream",
     "text": [
      "HTTPSConnectionPool(host='itbrief.co.nz', port=443): Max retries exceeded with url: /story/new-apac-headquarters-google-singapore/ (Caused by NewConnectionError('<urllib3.connection.VerifiedHTTPSConnection object at 0x7fa745f21978>: Failed to establish a new connection: [Errno -3] Temporary failure in name resolution',))\n"
     ]
    },
    {
     "name": "stderr",
     "output_type": "stream",
     "text": [
      "/usr/local/lib/python3.5/dist-packages/urllib3/connectionpool.py:858: InsecureRequestWarning: Unverified HTTPS request is being made. Adding certificate verification is strongly advised. See: https://urllib3.readthedocs.io/en/latest/advanced-usage.html#ssl-warnings\n",
      "  InsecureRequestWarning)\n",
      "/usr/local/lib/python3.5/dist-packages/urllib3/connectionpool.py:858: InsecureRequestWarning: Unverified HTTPS request is being made. Adding certificate verification is strongly advised. See: https://urllib3.readthedocs.io/en/latest/advanced-usage.html#ssl-warnings\n",
      "  InsecureRequestWarning)\n",
      "/usr/local/lib/python3.5/dist-packages/urllib3/connectionpool.py:858: InsecureRequestWarning: Unverified HTTPS request is being made. Adding certificate verification is strongly advised. See: https://urllib3.readthedocs.io/en/latest/advanced-usage.html#ssl-warnings\n",
      "  InsecureRequestWarning)\n",
      "/usr/local/lib/python3.5/dist-packages/urllib3/connectionpool.py:858: InsecureRequestWarning: Unverified HTTPS request is being made. Adding certificate verification is strongly advised. See: https://urllib3.readthedocs.io/en/latest/advanced-usage.html#ssl-warnings\n",
      "  InsecureRequestWarning)\n",
      "/usr/local/lib/python3.5/dist-packages/urllib3/connectionpool.py:858: InsecureRequestWarning: Unverified HTTPS request is being made. Adding certificate verification is strongly advised. See: https://urllib3.readthedocs.io/en/latest/advanced-usage.html#ssl-warnings\n",
      "  InsecureRequestWarning)\n",
      "/usr/local/lib/python3.5/dist-packages/urllib3/connectionpool.py:858: InsecureRequestWarning: Unverified HTTPS request is being made. Adding certificate verification is strongly advised. See: https://urllib3.readthedocs.io/en/latest/advanced-usage.html#ssl-warnings\n",
      "  InsecureRequestWarning)\n"
     ]
    }
   ],
   "source": [
    "for el in s_links_by_date:\n",
    "    for link in s_links_by_date[el]:\n",
    "        t = get_text(link)\n",
    "        if el in goog_2_titles.keys():\n",
    "                goog_2_titles[el].append(t)\n",
    "        else:\n",
    "            goog_2_titles[el]= list()\n",
    "            goog_2_titles[el].append(t)\n",
    "        if t:\n",
    "            if not t.startswith('want to avoid the thanksgiving traffic this year?'):\n",
    "                if el in goog_2_titles_no_major_dubl.keys():\n",
    "                    goog_2_titles_no_major_dubl[el].append(t)\n",
    "                else:\n",
    "                    goog_2_titles_no_major_dubl[el]= list()\n",
    "                    goog_2_titles_no_major_dubl[el].append(t)"
   ]
  },
  {
   "cell_type": "code",
   "execution_count": 29,
   "metadata": {},
   "outputs": [
    {
     "data": {
      "text/plain": [
       "dict_values([['how to use spotify with the google home', 'page not found - the business journal', 'searchcap: google adwords cards, bing pervasive search & google verification spam - search engine land', '403 forbidden', None, 'using the smaller pixel with google daydream is a big compromise | android central', 'more fake news on the web — this time, via google', 'save 50% on select ringke fusion cases for the google pixel! | android central', 'google maps reveals best, worst thanksgiving travel times | kprc am 950', \"today's google doodle | billy the kidd | y-105\", \"review: google's vr headset | stuff.co.nz\"]])"
      ]
     },
     "execution_count": 29,
     "metadata": {},
     "output_type": "execute_result"
    }
   ],
   "source": [
    "goog_2_titles.values()"
   ]
  },
  {
   "cell_type": "code",
   "execution_count": 30,
   "metadata": {},
   "outputs": [],
   "source": [
    "want = list()\n",
    "for el in goog_2_titles.values():\n",
    "    for x in el:\n",
    "        if x and x.startswith(\"want to avoid\"):\n",
    "            want.append(x)"
   ]
  },
  {
   "cell_type": "code",
   "execution_count": 31,
   "metadata": {},
   "outputs": [
    {
     "data": {
      "text/plain": [
       "0"
      ]
     },
     "execution_count": 31,
     "metadata": {},
     "output_type": "execute_result"
    }
   ],
   "source": [
    "len(want)"
   ]
  },
  {
   "cell_type": "code",
   "execution_count": 32,
   "metadata": {
    "scrolled": true
   },
   "outputs": [
    {
     "data": {
      "text/plain": [
       "[]"
      ]
     },
     "execution_count": 32,
     "metadata": {},
     "output_type": "execute_result"
    }
   ],
   "source": [
    "want"
   ]
  },
  {
   "cell_type": "code",
   "execution_count": 34,
   "metadata": {},
   "outputs": [
    {
     "data": {
      "text/plain": [
       "['http://www.howtogeek.com/280244/how-to-use-spotify-with-the-google-home/',\n",
       " 'http://www.thebusinessjournal.com/news/state/24771-google-highlighting-inaccurate-story-about-election-results',\n",
       " 'http://searchengineland.com/searchcap-google-adwords-cards-bing-pervasive-search-google-verification-spam-263445',\n",
       " 'https://www.scmagazine.com/pwnfest-hackers-exploit-vulns-in-google-pixel-safari-and-microsoft-edge/article/572881/',\n",
       " 'https://itbrief.co.nz/story/new-apac-headquarters-google-singapore/',\n",
       " 'http://www.androidcentral.com/using-smaller-pixel-google-daydream-distraction-central',\n",
       " 'http://www.usatoday.com/story/tech/2016/11/14/more-fake-news-social-media----time-google/93819442/',\n",
       " 'http://www.androidcentral.com/save-50-select-ringke-fusion-cases-google-pixel',\n",
       " 'http://kprcradio.iheart.com/articles/houston-news-121300/google-maps-reveals-best-worst-thanksgiving-15298579/',\n",
       " 'http://wyht.iheart.com/onair/billy-the-kidd-3273/todays-google-doodle-15298361/',\n",
       " 'http://www.stuff.co.nz/technology/gadgets/86433612/review-googles-vr-headset']"
      ]
     },
     "execution_count": 34,
     "metadata": {},
     "output_type": "execute_result"
    }
   ],
   "source": [
    "s_links_by_date[datetime.datetime(2016, 11, 15, 0, 0)]"
   ]
  },
  {
   "cell_type": "code",
   "execution_count": 35,
   "metadata": {},
   "outputs": [],
   "source": [
    "no_dub_count = dict()\n",
    "for el in goog_2_titles_no_major_dubl:  \n",
    "    no_dub_count[el] = len(goog_2_titles_no_major_dubl[el])"
   ]
  },
  {
   "cell_type": "code",
   "execution_count": 36,
   "metadata": {},
   "outputs": [
    {
     "data": {
      "text/plain": [
       "{datetime.datetime(2016, 11, 15, 0, 0): 10}"
      ]
     },
     "execution_count": 36,
     "metadata": {},
     "output_type": "execute_result"
    }
   ],
   "source": [
    "no_dub_count"
   ]
  },
  {
   "cell_type": "code",
   "execution_count": 39,
   "metadata": {
    "scrolled": true
   },
   "outputs": [
    {
     "data": {
      "image/png": "[encoded data removed]",
      "text/plain": [
       "<matplotlib.figure.Figure at 0x7fa741553ac8>"
      ]
     },
     "metadata": {},
     "output_type": "display_data"
    }
   ],
   "source": [
    "import matplotlib.pyplot as plt ; plt.rcdefaults()\n",
    "import datetime\n",
    "import numpy as np\n",
    "\n",
    "from pylab import rcParams\n",
    "rcParams['figure.figsize'] = 20, 6\n",
    "\n",
    "starttime = datetime.datetime(2016, 11, 15, 0, 0)\n",
    "delta = datetime.timedelta(minutes=15)\n",
    "\n",
    "# Create label locations and strings\n",
    "sample_times = [starttime + i * delta for i in range(96)]\n",
    "\n",
    "label_locations = [d for d in sample_times if d.minute % 15 == 0]\n",
    "\n",
    "labels = [d.strftime( '%H:%M') for d in label_locations]\n",
    "\n",
    "# Create some y data to plot\n",
    "x = np.arange(96)\n",
    "\n",
    "y = []\n",
    "\n",
    "for el in label_locations:\n",
    "    date = datetime.datetime.strptime(\"{}\".format(el), '%Y-%m-%d %H:%M:%S')\n",
    "    if date in s_links_by_date.keys():\n",
    "        y.append(len(s_links_by_date[el]))\n",
    "    else:\n",
    "        y.append(0)\n",
    "#bar(A.keys(), A.values(), width=0.4, align='center', label='A')\n",
    "#plt.bar(sample_times, y)\n",
    "plt.plot(sample_times, y)\n",
    "plt.xticks(label_locations, labels, rotation=90)\n",
    "plt.ylabel('Number of news')\n",
    "plt.title('News coverage per day: {} (with possible dublicates)'.format(sum([len(el) for el in s_links_by_date.values()])))\n",
    "plt.show()"
   ]
  },
  {
   "cell_type": "code",
   "execution_count": 40,
   "metadata": {},
   "outputs": [
    {
     "data": {
      "text/plain": [
       "['http://www.howtogeek.com/280244/how-to-use-spotify-with-the-google-home/',\n",
       " 'http://www.thebusinessjournal.com/news/state/24771-google-highlighting-inaccurate-story-about-election-results',\n",
       " 'http://searchengineland.com/searchcap-google-adwords-cards-bing-pervasive-search-google-verification-spam-263445',\n",
       " 'https://www.scmagazine.com/pwnfest-hackers-exploit-vulns-in-google-pixel-safari-and-microsoft-edge/article/572881/',\n",
       " 'https://itbrief.co.nz/story/new-apac-headquarters-google-singapore/',\n",
       " 'http://www.androidcentral.com/using-smaller-pixel-google-daydream-distraction-central',\n",
       " 'http://www.usatoday.com/story/tech/2016/11/14/more-fake-news-social-media----time-google/93819442/',\n",
       " 'http://www.androidcentral.com/save-50-select-ringke-fusion-cases-google-pixel',\n",
       " 'http://kprcradio.iheart.com/articles/houston-news-121300/google-maps-reveals-best-worst-thanksgiving-15298579/',\n",
       " 'http://wyht.iheart.com/onair/billy-the-kidd-3273/todays-google-doodle-15298361/',\n",
       " 'http://www.stuff.co.nz/technology/gadgets/86433612/review-googles-vr-headset']"
      ]
     },
     "execution_count": 40,
     "metadata": {},
     "output_type": "execute_result"
    }
   ],
   "source": [
    "links_by_date[datetime.datetime(2016, 11, 15, 0, 0)]"
   ]
  },
  {
   "cell_type": "code",
   "execution_count": 42,
   "metadata": {},
   "outputs": [
    {
     "data": {
      "image/png": "[encoded data removed]",
      "text/plain": [
       "<matplotlib.figure.Figure at 0x7fa7410e8e48>"
      ]
     },
     "metadata": {},
     "output_type": "display_data"
    }
   ],
   "source": [
    "import matplotlib.pyplot as plt ; plt.rcdefaults()\n",
    "import datetime\n",
    "import numpy as np\n",
    "\n",
    "from pylab import rcParams\n",
    "rcParams['figure.figsize'] = 20, 6\n",
    "\n",
    "starttime = datetime.datetime(2016, 11, 15, 0, 0)\n",
    "delta = datetime.timedelta(minutes=15)\n",
    "\n",
    "# Create label locations and strings\n",
    "sample_times = [starttime + i * delta for i in range(96)]\n",
    "\n",
    "label_locations = [d for d in sample_times if d.minute % 15 == 0]\n",
    "\n",
    "labels = [d.strftime( '%H:%M') for d in label_locations]\n",
    "\n",
    "# Create some y data to plot\n",
    "x = np.arange(96)\n",
    "\n",
    "y = []\n",
    "\n",
    "for el in label_locations:\n",
    "    date = datetime.datetime.strptime(\"{}\".format(el), '%Y-%m-%d %H:%M:%S')\n",
    "    if date in no_dub_count.keys():\n",
    "        y.append(no_dub_count[el])\n",
    "    else:\n",
    "        y.append(0)\n",
    "#bar(A.keys(), A.values(), width=0.4, align='center', label='A')\n",
    "#plt.bar(sample_times, y)\n",
    "plt.plot(sample_times, y)\n",
    "plt.xticks(label_locations, labels, rotation=90)\n",
    "plt.ylabel('Number of news')\n",
    "plt.title('News coverage per day: {} (without major dublicate)'.format(sum(no_dub_count.values())))\n",
    "plt.show()"
   ]
  },
  {
   "cell_type": "code",
   "execution_count": 43,
   "metadata": {},
   "outputs": [
    {
     "data": {
      "text/plain": [
       "4.104166666666667"
      ]
     },
     "execution_count": 43,
     "metadata": {},
     "output_type": "execute_result"
    }
   ],
   "source": [
    "394/96"
   ]
  },
  {
   "cell_type": "code",
   "execution_count": 44,
   "metadata": {},
   "outputs": [
    {
     "data": {
      "text/plain": [
       "7.104166666666667"
      ]
     },
     "execution_count": 44,
     "metadata": {},
     "output_type": "execute_result"
    }
   ],
   "source": [
    "682/96"
   ]
  },
  {
   "cell_type": "code",
   "execution_count": null,
   "metadata": {},
   "outputs": [],
   "source": []
  }
 ],
 "metadata": {
  "kernelspec": {
   "display_name": "Python 3",
   "language": "python",
   "name": "python3"
  },
  "language_info": {
   "codemirror_mode": {
    "name": "ipython",
    "version": 3
   },
   "file_extension": ".py",
   "mimetype": "text/x-python",
   "name": "python",
   "nbconvert_exporter": "python",
   "pygments_lexer": "ipython3",
   "version": "3.5.2"
  }
 },
 "nbformat": 4,
 "nbformat_minor": 2
}
