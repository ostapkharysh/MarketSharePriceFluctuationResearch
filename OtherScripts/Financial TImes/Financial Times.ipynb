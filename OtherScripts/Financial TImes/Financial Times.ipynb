{
 "cells": [
  {
   "cell_type": "code",
   "execution_count": 2,
   "metadata": {},
   "outputs": [],
   "source": [
    "\n",
    "import requests\n",
    "import os\n",
    "from urllib.parse import urljoin\n",
    "\n",
    "class FT(object):\n",
    "    \n",
    "    base_url = \"http://api.ft.com\"\n",
    "\n",
    "    def __init__(self, api_key=None):\n",
    "\n",
    "        if api_key:\n",
    "            self.api_key =  api_key       \n",
    "\n",
    "        self.headers = { \"X-Api-Key\" : self.api_key }\n",
    "\n",
    "    def get_endpoint(self, endpoint):\n",
    "        \n",
    "        return requests.get(urljoin(self.base_url, endpoint), headers = self.headers)\n",
    "\n",
    "    def get_content(self, item_id):\n",
    "        \n",
    "        response = self.get_endpoint(\"content/{0}\".format(item_id))\n",
    "\n",
    "        return response.json()\n",
    "\n",
    "    def get_content_notifications(self, updated_since):\n",
    "\n",
    "        response = self.get_endpoint(\"content/notifications?since={0}\".format(updated_since))\n",
    "        return response.json()"
   ]
  },
  {
   "cell_type": "code",
   "execution_count": 13,
   "metadata": {},
   "outputs": [
    {
     "name": "stdout",
     "output_type": "stream",
     "text": [
      "{'error': 'Access to this API has been disallowed'}\n"
     ]
    }
   ],
   "source": [
    "ft = FT(\"59cbaf20e3e06d3565778e7b742c3b5d2f514556879456ebfc8ab2c2\")\n",
    "# the id can be pulled from the slug url of an FT.com story\n",
    "content = ft.get_content(\"59cbaf20e3e06d3565778e7b742c3b5d2f514556879456ebfc8ab2c2\")\n",
    "print(content)"
   ]
  },
  {
   "cell_type": "code",
   "execution_count": 10,
   "metadata": {},
   "outputs": [
    {
     "name": "stdout",
     "output_type": "stream",
     "text": [
      "{'error': 'Access to this API has been disallowed'}\n"
     ]
    }
   ],
   "source": []
  },
  {
   "cell_type": "code",
   "execution_count": 8,
   "metadata": {},
   "outputs": [
    {
     "data": {
      "text/plain": [
       "{'error': 'Access to this API has been disallowed'}"
      ]
     },
     "execution_count": 8,
     "metadata": {},
     "output_type": "execute_result"
    }
   ],
   "source": []
  },
  {
   "cell_type": "code",
   "execution_count": null,
   "metadata": {},
   "outputs": [],
   "source": []
  }
 ],
 "metadata": {
  "kernelspec": {
   "display_name": "Python 3",
   "language": "python",
   "name": "python3"
  },
  "language_info": {
   "codemirror_mode": {
    "name": "ipython",
    "version": 3
   },
   "file_extension": ".py",
   "mimetype": "text/x-python",
   "name": "python",
   "nbconvert_exporter": "python",
   "pygments_lexer": "ipython3",
   "version": "3.5.2"
  }
 },
 "nbformat": 4,
 "nbformat_minor": 2
}
