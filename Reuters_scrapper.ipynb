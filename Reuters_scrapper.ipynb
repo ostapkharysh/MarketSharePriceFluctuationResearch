{
 "cells": [
  {
   "cell_type": "code",
   "execution_count": 203,
   "metadata": {},
   "outputs": [],
   "source": [
    "link = \"https://www.reuters.com/resources/archive/us/{}{}{}.html\""
   ]
  },
  {
   "cell_type": "code",
   "execution_count": 204,
   "metadata": {},
   "outputs": [],
   "source": [
    "from bs4 import BeautifulSoup as BS\n",
    "import requests\n",
    "import re"
   ]
  },
  {
   "cell_type": "code",
   "execution_count": 205,
   "metadata": {},
   "outputs": [],
   "source": [
    "r = requests.get(link.format(\"2013\", \"08\", \"09\"))"
   ]
  },
  {
   "cell_type": "code",
   "execution_count": 206,
   "metadata": {},
   "outputs": [],
   "source": [
    "soup = BS(r.content, 'html.parser')\n",
    "span_list = soup.find_all('div' , attrs={'class':\"headlineMed\"})  #, "
   ]
  },
  {
   "cell_type": "code",
   "execution_count": 207,
   "metadata": {},
   "outputs": [
    {
     "data": {
      "text/plain": [
       "'Glancy Binkow &amp; Goldberg LLP Announces Investigation of Inteliquent, Inc.<iqnt.o'"
      ]
     },
     "execution_count": 207,
     "metadata": {},
     "output_type": "execute_result"
    }
   ],
   "source": [
    "str(span_list[0]).split('>')[2].replace(\"</a\", \"\")"
   ]
  },
  {
   "cell_type": "code",
   "execution_count": 208,
   "metadata": {},
   "outputs": [
    {
     "data": {
      "text/plain": [
       "'http://www.reuters.com/article/2013/08/10/ca-glancy-binkow-idUSnBw095771a+100+BSW20130810'"
      ]
     },
     "execution_count": 208,
     "metadata": {},
     "output_type": "execute_result"
    }
   ],
   "source": [
    "k = str(span_list[0]).split('>')[1].split(\"=\")[1].replace('\"', '')\n",
    "k"
   ]
  },
  {
   "cell_type": "code",
   "execution_count": 209,
   "metadata": {},
   "outputs": [
    {
     "data": {
      "text/plain": [
       "'11:32PM'"
      ]
     },
     "execution_count": 209,
     "metadata": {},
     "output_type": "execute_result"
    }
   ],
   "source": [
    "str(span_list[0]).split()[-2]"
   ]
  },
  {
   "cell_type": "code",
   "execution_count": 210,
   "metadata": {},
   "outputs": [],
   "source": [
    "from newspaper import Article"
   ]
  },
  {
   "cell_type": "code",
   "execution_count": 211,
   "metadata": {},
   "outputs": [],
   "source": [
    "article = Article(k)"
   ]
  },
  {
   "cell_type": "code",
   "execution_count": 212,
   "metadata": {},
   "outputs": [],
   "source": [
    "article.download()"
   ]
  },
  {
   "cell_type": "code",
   "execution_count": 221,
   "metadata": {},
   "outputs": [
    {
     "ename": "NameError",
     "evalue": "name 'ArticleException' is not defined",
     "output_type": "error",
     "traceback": [
      "\u001b[0;31m---------------------------------------------------------------------------\u001b[0m",
      "\u001b[0;31mArticleException\u001b[0m                          Traceback (most recent call last)",
      "\u001b[0;32m<ipython-input-221-12497bb29219>\u001b[0m in \u001b[0;36m<module>\u001b[0;34m()\u001b[0m\n\u001b[1;32m      1\u001b[0m \u001b[0;32mtry\u001b[0m\u001b[0;34m:\u001b[0m\u001b[0;34m\u001b[0m\u001b[0m\n\u001b[0;32m----> 2\u001b[0;31m     \u001b[0marticle\u001b[0m\u001b[0;34m.\u001b[0m\u001b[0mparse\u001b[0m\u001b[0;34m(\u001b[0m\u001b[0;34m)\u001b[0m\u001b[0;34m\u001b[0m\u001b[0m\n\u001b[0m\u001b[1;32m      3\u001b[0m \u001b[0;32mexcept\u001b[0m \u001b[0mArticleException\u001b[0m\u001b[0;34m:\u001b[0m\u001b[0;34m\u001b[0m\u001b[0m\n",
      "\u001b[0;32m/usr/local/lib/python3.5/dist-packages/newspaper/article.py\u001b[0m in \u001b[0;36mparse\u001b[0;34m(self)\u001b[0m\n\u001b[1;32m    190\u001b[0m     \u001b[0;32mdef\u001b[0m \u001b[0mparse\u001b[0m\u001b[0;34m(\u001b[0m\u001b[0mself\u001b[0m\u001b[0;34m)\u001b[0m\u001b[0;34m:\u001b[0m\u001b[0;34m\u001b[0m\u001b[0m\n\u001b[0;32m--> 191\u001b[0;31m         \u001b[0mself\u001b[0m\u001b[0;34m.\u001b[0m\u001b[0mthrow_if_not_downloaded_verbose\u001b[0m\u001b[0;34m(\u001b[0m\u001b[0;34m)\u001b[0m\u001b[0;34m\u001b[0m\u001b[0m\n\u001b[0m\u001b[1;32m    192\u001b[0m \u001b[0;34m\u001b[0m\u001b[0m\n",
      "\u001b[0;32m/usr/local/lib/python3.5/dist-packages/newspaper/article.py\u001b[0m in \u001b[0;36mthrow_if_not_downloaded_verbose\u001b[0;34m(self)\u001b[0m\n\u001b[1;32m    531\u001b[0m             raise ArticleException('Article `download()` failed with %s on URL %s' %\n\u001b[0;32m--> 532\u001b[0;31m                   (self.download_exception_msg, self.url))\n\u001b[0m\u001b[1;32m    533\u001b[0m \u001b[0;34m\u001b[0m\u001b[0m\n",
      "\u001b[0;31mArticleException\u001b[0m: Article `download()` failed with 404 Client Error: Not Found for url: https://www.reuters.com/article/2013/08/10/ca-glancy-binkow-idUSnBw095771a+100+BSW20130810 on URL http://www.reuters.com/article/2013/08/10/ca-glancy-binkow-idUSnBw095771a+100+BSW20130810",
      "\nDuring handling of the above exception, another exception occurred:\n",
      "\u001b[0;31mNameError\u001b[0m                                 Traceback (most recent call last)",
      "\u001b[0;32m<ipython-input-221-12497bb29219>\u001b[0m in \u001b[0;36m<module>\u001b[0;34m()\u001b[0m\n\u001b[1;32m      1\u001b[0m \u001b[0;32mtry\u001b[0m\u001b[0;34m:\u001b[0m\u001b[0;34m\u001b[0m\u001b[0m\n\u001b[1;32m      2\u001b[0m     \u001b[0marticle\u001b[0m\u001b[0;34m.\u001b[0m\u001b[0mparse\u001b[0m\u001b[0;34m(\u001b[0m\u001b[0;34m)\u001b[0m\u001b[0;34m\u001b[0m\u001b[0m\n\u001b[0;32m----> 3\u001b[0;31m \u001b[0;32mexcept\u001b[0m \u001b[0mArticleException\u001b[0m\u001b[0;34m:\u001b[0m\u001b[0;34m\u001b[0m\u001b[0m\n\u001b[0m\u001b[1;32m      4\u001b[0m     \u001b[0mprint\u001b[0m\u001b[0;34m(\u001b[0m\u001b[0;34m\"Not Found\"\u001b[0m\u001b[0;34m)\u001b[0m\u001b[0;34m\u001b[0m\u001b[0m\n\u001b[1;32m      5\u001b[0m \u001b[0;32mexcept\u001b[0m \u001b[0mNameError\u001b[0m\u001b[0;34m:\u001b[0m\u001b[0;34m\u001b[0m\u001b[0m\n",
      "\u001b[0;31mNameError\u001b[0m: name 'ArticleException' is not defined"
     ]
    }
   ],
   "source": [
    "try:\n",
    "    article.parse()\n",
    "except ArticleException:\n",
    "    print(\"Not Found\")\n",
    "except NameError:\n",
    "    print()"
   ]
  },
  {
   "cell_type": "code",
   "execution_count": null,
   "metadata": {},
   "outputs": [],
   "source": [
    "article.authors"
   ]
  },
  {
   "cell_type": "code",
   "execution_count": 202,
   "metadata": {},
   "outputs": [
    {
     "data": {
      "text/plain": [
       "''"
      ]
     },
     "execution_count": 202,
     "metadata": {},
     "output_type": "execute_result"
    }
   ],
   "source": [
    "article.publish_date"
   ]
  },
  {
   "cell_type": "code",
   "execution_count": 190,
   "metadata": {},
   "outputs": [
    {
     "data": {
      "text/plain": [
       "'WASHINGTON, Aug 5 (Reuters) - A U.S. class action alleging an illegal agreement to inflate aluminium prices may be just the start of aluminium buyers’ legal assault against warehouse owners such as Goldman Sachs Group Inc, lawyers with antitrust expertise said on Sunday.\\n\\nGoldman, other warehouse owners and the London Metal Exchange were named as defendants in the lawsuit filed last week alleging anticompetitive behaviour.\\n\\nGoldman and LME owner HKEx said the suit was meritless.\\n\\nThe suit fits a pattern of ‘follow-on’ class actions typically filed after the U.S. Justice Department or other government authority opens an investigation, lawyers said.\\n\\n“Antitrust exposure is not limited merely to government enforcement but also to private enforcement,” said Daniel Sokol, who writes about competition and antitrust law at the University of Florida.\\n\\nThe exposure is significant, Sokol added, because damages for price-fixing are tripled under U.S. law if a defendant is found liable.\\n\\nCustomers and U.S. lawmakers have accused Goldman and other warehouse owners of artificially inflating waiting times to boost rents for warehouse owners and lift metal prices.\\n\\nCriticism of banks that own commodity assets and trade raw materials has ratcheted up after the U.S. Department of Justice started what sources said was a preliminary probe into the metals warehousing industry.\\n\\nA class action so soon after the revelation of a government inquiry has at least two purposes, lawyers said: to jockey for a lead position among the many class action lawyers who may eventually sue, and to be in a position to benefit if information leaks about the government’s probe.\\n\\n“The Justice Department has a way of shaking the tree and getting information that otherwise wouldn’t be available,” said Daniel Crane, a law professor at the University of Michigan.\\n\\nPrivate plaintiffs such as the one who filed the class action - aluminium-buyer Superior Extrusion Inc - generally have limited means to find out new information until their suit progresses much further. Unlike the government, they do not have subpoena power.\\n\\nLegal experts have said the Justice Department would launch an official investigation only if it found evidence of true collusion or monopolistic behavior.\\n\\n‘EXTREME MONOPOLY’ ALLEGED\\n\\nSuperior Extrusion filed its suit on Aug. 1 in U.S. District Court in Detroit. The suit also targets “John Does”: any other warehouse owner that may have participated in the alleged price-fixing conspiracy.\\n\\nThe suit said that warehouse owners realized “extraordinary revenues from inefficiencies and deadweight restraints on the economy,” reflecting their “extreme monopoly pricing power and abusive agreements in very unreasonable restraint of trade.”\\n\\nGoldman and HKEx are fighting the claims.\\n\\n“We believe this suit is without merit and we intend to vigorously contest it,” a Goldman Sachs spokesman said. “I would also note that aluminium prices are down 40 percent from their peak in 2006,” he said.\\n\\nHKEx said: “LME management’s initial assessment is that the suit is without merit and LME will contest it vigorously.”\\n\\nBritain’s financial watchdog is also investigating the LME’s warehousing system.\\n\\nGoldman on Wednesday tried to diffuse years of frustration over long waiting times and inflated prices at metals warehouses across the world, by offering immediate access to aluminium for end users holding metal at its Metro warehouses.\\n\\nGoldman President Gary Cohn told CNBC television on Wednesday that no consumers had stepped forward to take up the offer.\\n\\nIn response, the class action said it was curious that Goldman waited until Wednesday to make its offer, after years of complaints. “Goldman’s professed feeling and promises are contrary to defendants’ conduct from 2010 until July 2013,” the suit said.\\n\\nLondon Metal Exchange aluminium for three months delivery closed on Friday at $1,809 per tonne.\\n\\nWarehouse owners and outgoing LME CEO Martin Abbott have said complaints over long lines are unjustified, arguing there is no shortage of metal.'"
      ]
     },
     "execution_count": 190,
     "metadata": {},
     "output_type": "execute_result"
    }
   ],
   "source": [
    "article.text\n"
   ]
  },
  {
   "cell_type": "code",
   "execution_count": null,
   "metadata": {},
   "outputs": [],
   "source": []
  }
 ],
 "metadata": {
  "kernelspec": {
   "display_name": "Python 3",
   "language": "python",
   "name": "python3"
  },
  "language_info": {
   "codemirror_mode": {
    "name": "ipython",
    "version": 3
   },
   "file_extension": ".py",
   "mimetype": "text/x-python",
   "name": "python",
   "nbconvert_exporter": "python",
   "pygments_lexer": "ipython3",
   "version": "3.5.2"
  }
 },
 "nbformat": 4,
 "nbformat_minor": 2
}
