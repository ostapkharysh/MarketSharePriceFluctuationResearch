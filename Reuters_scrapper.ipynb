{
 "cells": [
  {
   "cell_type": "code",
   "execution_count": 107,
   "metadata": {},
   "outputs": [],
   "source": [
    "link = \"https://www.reuters.com/resources/archive/us/{}{}{}.html\""
   ]
  },
  {
   "cell_type": "code",
   "execution_count": 108,
   "metadata": {},
   "outputs": [],
   "source": [
    "from bs4 import BeautifulSoup as BS\n",
    "import requests\n",
    "from requests.exceptions import HTTPError\n",
    "import re\n",
    "import datetime\n",
    "import pytz"
   ]
  },
  {
   "cell_type": "code",
   "execution_count": 109,
   "metadata": {},
   "outputs": [],
   "source": [
    "r = requests.get(link.format(\"2017\", \"08\", \"09\"))  # when does not load \"2013\", \"08\", \"09\""
   ]
  },
  {
   "cell_type": "code",
   "execution_count": 110,
   "metadata": {},
   "outputs": [],
   "source": [
    "soup = BS(r.content, 'html.parser')\n",
    "span_list = soup.find_all('div' , attrs={'class':\"headlineMed\"})  #, "
   ]
  },
  {
   "cell_type": "code",
   "execution_count": 111,
   "metadata": {},
   "outputs": [
    {
     "data": {
      "text/plain": [
       "'http://www.reuters.com/article/us-mcdonalds-china-breakingviews/mcdonalds-boldly-supersizes-its-china-strategy-idUSKBN1AP0AI'"
      ]
     },
     "execution_count": 111,
     "metadata": {},
     "output_type": "execute_result"
    }
   ],
   "source": [
    "k = str(span_list[0]).split('>')[1].split(\"=\")[1].replace('\"', '')\n",
    "k"
   ]
  },
  {
   "cell_type": "code",
   "execution_count": 112,
   "metadata": {},
   "outputs": [
    {
     "data": {
      "text/plain": [
       "'11:59PM'"
      ]
     },
     "execution_count": 112,
     "metadata": {},
     "output_type": "execute_result"
    }
   ],
   "source": [
    "str(span_list[0]).split()[-2]"
   ]
  },
  {
   "cell_type": "code",
   "execution_count": 118,
   "metadata": {},
   "outputs": [],
   "source": [
    "from newspaper import Article"
   ]
  },
  {
   "cell_type": "code",
   "execution_count": 119,
   "metadata": {},
   "outputs": [],
   "source": [
    "article = Article(k.strip())\n",
    "try:\n",
    "    article.download()\n",
    "except HTTPError:\n",
    "    print('***FAILED TO DOWNLOAD***', article.url)\n"
   ]
  },
  {
   "cell_type": "code",
   "execution_count": 120,
   "metadata": {},
   "outputs": [],
   "source": [
    "article.parse()"
   ]
  },
  {
   "cell_type": "code",
   "execution_count": 121,
   "metadata": {
    "scrolled": true
   },
   "outputs": [
    {
     "data": {
      "text/plain": [
       "['Alec Macfarlane', 'Min Read']"
      ]
     },
     "execution_count": 121,
     "metadata": {},
     "output_type": "execute_result"
    }
   ],
   "source": [
    "article.authors"
   ]
  },
  {
   "cell_type": "code",
   "execution_count": 122,
   "metadata": {},
   "outputs": [
    {
     "name": "stdout",
     "output_type": "stream",
     "text": [
      "2018-10-19 09:44:04.282628\n",
      "2018-10-19 12:44:04.282763\n"
     ]
    },
    {
     "data": {
      "text/plain": [
       "3"
      ]
     },
     "execution_count": 122,
     "metadata": {},
     "output_type": "execute_result"
    }
   ],
   "source": [
    "print(datetime.datetime.utcnow())\n",
    "print(datetime.datetime.now())\n",
    "UTC_OFFSET = datetime.datetime.now().hour - datetime.datetime.utcnow().hour\n",
    "UTC_OFFSET"
   ]
  },
  {
   "cell_type": "code",
   "execution_count": 130,
   "metadata": {},
   "outputs": [
    {
     "name": "stdout",
     "output_type": "stream",
     "text": [
      "tzutc()\n",
      "2017-08-09 03:59:52+00:00\n",
      "2017-08-09 00:59:52+00:00\n"
     ]
    }
   ],
   "source": [
    "timezone = pytz.timezone('Etc/Greenwich')\n",
    "\n",
    "\n",
    "print(article.publish_date.tzinfo)\n",
    "print(article.publish_date)\n",
    "#print(timezone.localize(article.publish_date))\n",
    "\n",
    "print(article.publish_date - datetime.timedelta(hours=UTC_OFFSET))\n",
    "# A v reuters pyshe sho published at 11:59 PM "
   ]
  },
  {
   "cell_type": "code",
   "execution_count": 57,
   "metadata": {},
   "outputs": [
    {
     "data": {
      "text/plain": [
       "\"HONG KONG (Reuters Breakingviews) - McDonald’s is going large in China. It will have to ensure that breakneck growth does not bring indigestion.\\n\\nCustomers play using their mobile phones at a McDonald's store in Beijing, China January 9, 2017. REUTERS/Jason Lee\\n\\nOn Tuesday, the $126 billion burger giant said it planned to open 2,000 mainland stores by 2022. That will nearly double its footprint from 2,500 outlets now. That target is up one-third from a previous goal of 1,500 restaurants in five years, a goal that also originally included Hong Kong.\\n\\nThis underlines how the $2.1 billion sale of McDonald’s China business, which was agreed in January and closed last week, was not really a retreat. It now holds one-fifth of the business, which has the rights to run McDonald’s operations in China for 20 years, with the rest owned by Chinese conglomerate CITIC, CITIC’s private equity arm, and U.S. buyout firm Carlyle.\\n\\nExpanding makes sense. Bigger rival Yum China, which operates Pizza Hut and KFC, already has more than 7,000 restaurants and in the long term reckons it can get to 20,000. That shows how much growth potential remains for Western fast food, particularly in China’s less glamorous third- and fourth-tier cities.\\n\\nStill, the new pace could be challenging. McDonald’s has had since 1990 to open 2,500 restaurants. It will need to find lots of good locations fast, and hire huge numbers of staff. Maintaining food safety and quality control while scaling so quickly will be difficult, and will push suppliers to the limits, says Shaun Rein, founder of China Market Research Group.\\n\\nMcDonald’s is, of course, highly attuned to this risk and says quality will not be compromised in any manner. It learnt the hard way how important this is: sales suffered after a Chinese television report in 2014 showed workers at a supplier using expired meat. And its new partners could help: Carlyle has experience expanding restaurant groups in China, and helped investee company Yashili, a baby-milk producer, improve its standards after the dairy sector was rocked by a lethal scandal.\\n\\nThis is a supersized bet on China – but at least McDonald’s has partners to share in the risk.\""
      ]
     },
     "execution_count": 57,
     "metadata": {},
     "output_type": "execute_result"
    }
   ],
   "source": [
    "article.text\n"
   ]
  },
  {
   "cell_type": "code",
   "execution_count": 58,
   "metadata": {},
   "outputs": [
    {
     "data": {
      "text/plain": [
       "'McDonald’s boldly supersizes its China strategy'"
      ]
     },
     "execution_count": 58,
     "metadata": {},
     "output_type": "execute_result"
    }
   ],
   "source": [
    "article.title"
   ]
  }
 ],
 "metadata": {
  "kernelspec": {
   "display_name": "Python 3",
   "language": "python",
   "name": "python3"
  },
  "language_info": {
   "codemirror_mode": {
    "name": "ipython",
    "version": 3
   },
   "file_extension": ".py",
   "mimetype": "text/x-python",
   "name": "python",
   "nbconvert_exporter": "python",
   "pygments_lexer": "ipython3",
   "version": "3.5.2"
  }
 },
 "nbformat": 4,
 "nbformat_minor": 2
}
