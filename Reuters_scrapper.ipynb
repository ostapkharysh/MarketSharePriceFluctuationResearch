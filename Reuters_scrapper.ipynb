{
 "cells": [
  {
   "cell_type": "code",
   "execution_count": 1,
   "metadata": {},
   "outputs": [],
   "source": [
    "link = \"https://www.reuters.com/resources/archive/us/{}{}{}.html\"\n",
    "ag = \"Reuters\"\n",
    "#reuters_db = '/home/ostapkharysh/Documents/bt_data/DB/Reuters'"
   ]
  },
  {
   "cell_type": "code",
   "execution_count": 2,
   "metadata": {},
   "outputs": [],
   "source": [
    "from bs4 import BeautifulSoup as BS\n",
    "import requests\n",
    "from requests.exceptions import HTTPError\n",
    "import datetime\n",
    "#from db_manager import *\n",
    "#import sqlite3\n",
    "from tqdm import tqdm\n",
    "from multiprocessing import Pool, cpu_count\n",
    "from manager import *\n",
    "from threading import Lock\n",
    "from functools import partial\n",
    "import time\n",
    "mutex = Lock()\n",
    "\n",
    "years = ['2014',] #'2015']#, '2014', '2015', '2016', '2017']\n",
    "months = ['01']#, '02', '03', '04', '05', '06']#, '07', '08', '09', '10', '11', '12']\n",
    "days = ['02']#,'02', '03', '04', '05', '06', '07', '08', '09', '10', '11', '12', '13', '14', '15', '16', '17', '18', '19', '20', '21', '22', '23', '24', '25', '26', '27', '28', '29', '30', '31']\n",
    "    \n",
    "exec(open(\"db_management/DB.py\").read()) "
   ]
  },
  {
   "cell_type": "code",
   "execution_count": 3,
   "metadata": {},
   "outputs": [
    {
     "name": "stdout",
     "output_type": "stream",
     "text": [
      "[<db_management.DB.Agency object at 0x7f79a5b65668>]\n"
     ]
    },
    {
     "data": {
      "text/plain": [
       "'There is already a Table with such name: Reuters'"
      ]
     },
     "execution_count": 3,
     "metadata": {},
     "output_type": "execute_result"
    }
   ],
   "source": [
    "add_agency(ag)"
   ]
  },
  {
   "cell_type": "code",
   "execution_count": 4,
   "metadata": {},
   "outputs": [],
   "source": [
    "def get_text(link):\n",
    "    try:\n",
    "        r = requests.get(link)\n",
    "        #print(r.raise_for_status())\n",
    "        soup = BS(r.content, 'html.parser')\n",
    "        head = soup.html.title.string.strip().split(\" | \")[0]\n",
    "        text = '\\n'.join([e.get_text() for e in soup.find_all('p')])\n",
    "        #print(text)\n",
    "        #print(head)\n",
    "        return head, text\n",
    "    \n",
    "    except HTTPError:\n",
    "        print(\"No article found by this link!\", link)\n",
    "            "
   ]
  },
  {
   "cell_type": "code",
   "execution_count": 8,
   "metadata": {},
   "outputs": [],
   "source": [
    "def get_info(link_time, date): \n",
    "    try:\n",
    "    #for link_time in links_times:\n",
    "        title,text = get_text(link_time[0])\n",
    "        time = link_time[1]\n",
    "        print(time)\n",
    "        date = datetime.datetime.strptime(\"{} {} {} {}\".format(month, day, year, time), '%b %d %Y %I:%M%p')\n",
    "        print(str(date))\n",
    "        #print(str(date)+'\\n'+title+'\\n'+text+'\\n'+link_time[0])\n",
    "        #print(str(date)+'\\n'+title+'\\n'+link_time[0])\n",
    "        add_news(str(date), title, text, link_time[0], ag)\n",
    "    except HTTPError:\n",
    "        print(\"No page found by this link!\",r.status)\n",
    "    return \"Done for {}\".format(str(date))"
   ]
  },
  {
   "cell_type": "code",
   "execution_count": 9,
   "metadata": {},
   "outputs": [
    {
     "name": "stderr",
     "output_type": "stream",
     "text": [
      "\r",
      "  0%|          | 0/1 [00:00<?, ?it/s]"
     ]
    },
    {
     "name": "stdout",
     "output_type": "stream",
     "text": [
      "2014 01 02\n",
      "4:01PM\n",
      "4:35PM\n",
      "6:26PM\n",
      "2014-01-02 16:01:00\n",
      "2014-01-02 18:26:00\n",
      "2014-01-02 16:35:00\n"
     ]
    },
    {
     "name": "stderr",
     "output_type": "stream",
     "text": [
      "\n"
     ]
    },
    {
     "name": "stdout",
     "output_type": "stream",
     "text": [
      "11:57PM\n"
     ]
    },
    {
     "ename": "OperationalError",
     "evalue": "(psycopg2.OperationalError) FATAL:  remaining connection slots are reserved for non-replication superuser connections\n (Background on this error at: http://sqlalche.me/e/e3q8)",
     "output_type": "error",
     "traceback": [
      "\u001b[0;31m---------------------------------------------------------------------------\u001b[0m",
      "\u001b[0;31mRemoteTraceback\u001b[0m                           Traceback (most recent call last)",
      "\u001b[0;31mRemoteTraceback\u001b[0m: \n\"\"\"\nTraceback (most recent call last):\n  File \"/usr/local/lib/python3.5/dist-packages/sqlalchemy/engine/base.py\", line 2158, in _wrap_pool_connect\n    return fn()\n  File \"/usr/local/lib/python3.5/dist-packages/sqlalchemy/pool.py\", line 400, in connect\n    return _ConnectionFairy._checkout(self)\n  File \"/usr/local/lib/python3.5/dist-packages/sqlalchemy/pool.py\", line 788, in _checkout\n    fairy = _ConnectionRecord.checkout(pool)\n  File \"/usr/local/lib/python3.5/dist-packages/sqlalchemy/pool.py\", line 529, in checkout\n    rec = pool._do_get()\n  File \"/usr/local/lib/python3.5/dist-packages/sqlalchemy/pool.py\", line 1193, in _do_get\n    self._dec_overflow()\n  File \"/usr/local/lib/python3.5/dist-packages/sqlalchemy/util/langhelpers.py\", line 66, in __exit__\n    compat.reraise(exc_type, exc_value, exc_tb)\n  File \"/usr/local/lib/python3.5/dist-packages/sqlalchemy/util/compat.py\", line 249, in reraise\n    raise value\n  File \"/usr/local/lib/python3.5/dist-packages/sqlalchemy/pool.py\", line 1190, in _do_get\n    return self._create_connection()\n  File \"/usr/local/lib/python3.5/dist-packages/sqlalchemy/pool.py\", line 347, in _create_connection\n    return _ConnectionRecord(self)\n  File \"/usr/local/lib/python3.5/dist-packages/sqlalchemy/pool.py\", line 474, in __init__\n    self.__connect(first_connect_check=True)\n  File \"/usr/local/lib/python3.5/dist-packages/sqlalchemy/pool.py\", line 671, in __connect\n    connection = pool._invoke_creator(self)\n  File \"/usr/local/lib/python3.5/dist-packages/sqlalchemy/engine/strategies.py\", line 106, in connect\n    return dialect.connect(*cargs, **cparams)\n  File \"/usr/local/lib/python3.5/dist-packages/sqlalchemy/engine/default.py\", line 412, in connect\n    return self.dbapi.connect(*cargs, **cparams)\n  File \"/usr/local/lib/python3.5/dist-packages/psycopg2/__init__.py\", line 130, in connect\n    conn = _connect(dsn, connection_factory=connection_factory, **kwasync)\npsycopg2.OperationalError: FATAL:  remaining connection slots are reserved for non-replication superuser connections\n\n\nThe above exception was the direct cause of the following exception:\n\nTraceback (most recent call last):\n  File \"/usr/lib/python3.5/multiprocessing/pool.py\", line 119, in worker\n    result = (True, func(*args, **kwds))\n  File \"/usr/lib/python3.5/multiprocessing/pool.py\", line 44, in mapstar\n    return list(map(*args))\n  File \"<ipython-input-8-0c1ccebeb060>\", line 11, in get_info\n    add_news(str(date), title, text, link_time[0], ag)\n  File \"/home/ostapkharysh/Documents/bachelor_thesis/manager.py\", line 55, in add_news\n    cur_agency = session.query(Agency).filter_by(name=agency_name).first()\n  File \"/usr/local/lib/python3.5/dist-packages/sqlalchemy/orm/query.py\", line 2895, in first\n    ret = list(self[0:1])\n  File \"/usr/local/lib/python3.5/dist-packages/sqlalchemy/orm/query.py\", line 2687, in __getitem__\n    return list(res)\n  File \"/usr/local/lib/python3.5/dist-packages/sqlalchemy/orm/query.py\", line 2995, in __iter__\n    return self._execute_and_instances(context)\n  File \"/usr/local/lib/python3.5/dist-packages/sqlalchemy/orm/query.py\", line 3016, in _execute_and_instances\n    close_with_result=True)\n  File \"/usr/local/lib/python3.5/dist-packages/sqlalchemy/orm/query.py\", line 3025, in _get_bind_args\n    **kw\n  File \"/usr/local/lib/python3.5/dist-packages/sqlalchemy/orm/query.py\", line 3007, in _connection_from_session\n    conn = self.session.connection(**kw)\n  File \"/usr/local/lib/python3.5/dist-packages/sqlalchemy/orm/session.py\", line 1035, in connection\n    execution_options=execution_options)\n  File \"/usr/local/lib/python3.5/dist-packages/sqlalchemy/orm/session.py\", line 1040, in _connection_for_bind\n    engine, execution_options)\n  File \"/usr/local/lib/python3.5/dist-packages/sqlalchemy/orm/session.py\", line 409, in _connection_for_bind\n    conn = bind.contextual_connect()\n  File \"/usr/local/lib/python3.5/dist-packages/sqlalchemy/engine/base.py\", line 2123, in contextual_connect\n    self._wrap_pool_connect(self.pool.connect, None),\n  File \"/usr/local/lib/python3.5/dist-packages/sqlalchemy/engine/base.py\", line 2162, in _wrap_pool_connect\n    e, dialect, self)\n  File \"/usr/local/lib/python3.5/dist-packages/sqlalchemy/engine/base.py\", line 1476, in _handle_dbapi_exception_noconnection\n    exc_info\n  File \"/usr/local/lib/python3.5/dist-packages/sqlalchemy/util/compat.py\", line 265, in raise_from_cause\n    reraise(type(exception), exception, tb=exc_tb, cause=cause)\n  File \"/usr/local/lib/python3.5/dist-packages/sqlalchemy/util/compat.py\", line 248, in reraise\n    raise value.with_traceback(tb)\n  File \"/usr/local/lib/python3.5/dist-packages/sqlalchemy/engine/base.py\", line 2158, in _wrap_pool_connect\n    return fn()\n  File \"/usr/local/lib/python3.5/dist-packages/sqlalchemy/pool.py\", line 400, in connect\n    return _ConnectionFairy._checkout(self)\n  File \"/usr/local/lib/python3.5/dist-packages/sqlalchemy/pool.py\", line 788, in _checkout\n    fairy = _ConnectionRecord.checkout(pool)\n  File \"/usr/local/lib/python3.5/dist-packages/sqlalchemy/pool.py\", line 529, in checkout\n    rec = pool._do_get()\n  File \"/usr/local/lib/python3.5/dist-packages/sqlalchemy/pool.py\", line 1193, in _do_get\n    self._dec_overflow()\n  File \"/usr/local/lib/python3.5/dist-packages/sqlalchemy/util/langhelpers.py\", line 66, in __exit__\n    compat.reraise(exc_type, exc_value, exc_tb)\n  File \"/usr/local/lib/python3.5/dist-packages/sqlalchemy/util/compat.py\", line 249, in reraise\n    raise value\n  File \"/usr/local/lib/python3.5/dist-packages/sqlalchemy/pool.py\", line 1190, in _do_get\n    return self._create_connection()\n  File \"/usr/local/lib/python3.5/dist-packages/sqlalchemy/pool.py\", line 347, in _create_connection\n    return _ConnectionRecord(self)\n  File \"/usr/local/lib/python3.5/dist-packages/sqlalchemy/pool.py\", line 474, in __init__\n    self.__connect(first_connect_check=True)\n  File \"/usr/local/lib/python3.5/dist-packages/sqlalchemy/pool.py\", line 671, in __connect\n    connection = pool._invoke_creator(self)\n  File \"/usr/local/lib/python3.5/dist-packages/sqlalchemy/engine/strategies.py\", line 106, in connect\n    return dialect.connect(*cargs, **cparams)\n  File \"/usr/local/lib/python3.5/dist-packages/sqlalchemy/engine/default.py\", line 412, in connect\n    return self.dbapi.connect(*cargs, **cparams)\n  File \"/usr/local/lib/python3.5/dist-packages/psycopg2/__init__.py\", line 130, in connect\n    conn = _connect(dsn, connection_factory=connection_factory, **kwasync)\nsqlalchemy.exc.OperationalError: (psycopg2.OperationalError) FATAL:  remaining connection slots are reserved for non-replication superuser connections\n (Background on this error at: http://sqlalche.me/e/e3q8)\n\"\"\"",
      "\nThe above exception was the direct cause of the following exception:\n",
      "\u001b[0;31mOperationalError\u001b[0m                          Traceback (most recent call last)",
      "\u001b[0;32m<ipython-input-9-33f093a25771>\u001b[0m in \u001b[0;36m<module>\u001b[0;34m()\u001b[0m\n\u001b[1;32m     22\u001b[0m                     \u001b[0mpool\u001b[0m \u001b[0;34m=\u001b[0m \u001b[0mPool\u001b[0m\u001b[0;34m(\u001b[0m\u001b[0mprocesses\u001b[0m\u001b[0;34m=\u001b[0m\u001b[0mcpu_count\u001b[0m\u001b[0;34m(\u001b[0m\u001b[0;34m)\u001b[0m\u001b[0;34m)\u001b[0m\u001b[0;34m\u001b[0m\u001b[0m\n\u001b[1;32m     23\u001b[0m \u001b[0;34m\u001b[0m\u001b[0m\n\u001b[0;32m---> 24\u001b[0;31m                     \u001b[0mpool\u001b[0m\u001b[0;34m.\u001b[0m\u001b[0mmap\u001b[0m\u001b[0;34m(\u001b[0m\u001b[0minfer\u001b[0m\u001b[0;34m,\u001b[0m \u001b[0mlinks_times\u001b[0m\u001b[0;34m)\u001b[0m\u001b[0;34m\u001b[0m\u001b[0m\n\u001b[0m\u001b[1;32m     25\u001b[0m                     \u001b[0mpool\u001b[0m\u001b[0;34m.\u001b[0m\u001b[0mclose\u001b[0m\u001b[0;34m(\u001b[0m\u001b[0;34m)\u001b[0m\u001b[0;34m\u001b[0m\u001b[0m\n\u001b[1;32m     26\u001b[0m                     \u001b[0mpool\u001b[0m\u001b[0;34m.\u001b[0m\u001b[0mjoin\u001b[0m\u001b[0;34m(\u001b[0m\u001b[0;34m)\u001b[0m\u001b[0;34m\u001b[0m\u001b[0m\n",
      "\u001b[0;32m/usr/lib/python3.5/multiprocessing/pool.py\u001b[0m in \u001b[0;36mmap\u001b[0;34m(self, func, iterable, chunksize)\u001b[0m\n\u001b[1;32m    258\u001b[0m         \u001b[0;32min\u001b[0m \u001b[0ma\u001b[0m \u001b[0mlist\u001b[0m \u001b[0mthat\u001b[0m \u001b[0;32mis\u001b[0m \u001b[0mreturned\u001b[0m\u001b[0;34m.\u001b[0m\u001b[0;34m\u001b[0m\u001b[0m\n\u001b[1;32m    259\u001b[0m         '''\n\u001b[0;32m--> 260\u001b[0;31m         \u001b[0;32mreturn\u001b[0m \u001b[0mself\u001b[0m\u001b[0;34m.\u001b[0m\u001b[0m_map_async\u001b[0m\u001b[0;34m(\u001b[0m\u001b[0mfunc\u001b[0m\u001b[0;34m,\u001b[0m \u001b[0miterable\u001b[0m\u001b[0;34m,\u001b[0m \u001b[0mmapstar\u001b[0m\u001b[0;34m,\u001b[0m \u001b[0mchunksize\u001b[0m\u001b[0;34m)\u001b[0m\u001b[0;34m.\u001b[0m\u001b[0mget\u001b[0m\u001b[0;34m(\u001b[0m\u001b[0;34m)\u001b[0m\u001b[0;34m\u001b[0m\u001b[0m\n\u001b[0m\u001b[1;32m    261\u001b[0m \u001b[0;34m\u001b[0m\u001b[0m\n\u001b[1;32m    262\u001b[0m     \u001b[0;32mdef\u001b[0m \u001b[0mstarmap\u001b[0m\u001b[0;34m(\u001b[0m\u001b[0mself\u001b[0m\u001b[0;34m,\u001b[0m \u001b[0mfunc\u001b[0m\u001b[0;34m,\u001b[0m \u001b[0miterable\u001b[0m\u001b[0;34m,\u001b[0m \u001b[0mchunksize\u001b[0m\u001b[0;34m=\u001b[0m\u001b[0;32mNone\u001b[0m\u001b[0;34m)\u001b[0m\u001b[0;34m:\u001b[0m\u001b[0;34m\u001b[0m\u001b[0m\n",
      "\u001b[0;32m/usr/lib/python3.5/multiprocessing/pool.py\u001b[0m in \u001b[0;36mget\u001b[0;34m(self, timeout)\u001b[0m\n\u001b[1;32m    606\u001b[0m             \u001b[0;32mreturn\u001b[0m \u001b[0mself\u001b[0m\u001b[0;34m.\u001b[0m\u001b[0m_value\u001b[0m\u001b[0;34m\u001b[0m\u001b[0m\n\u001b[1;32m    607\u001b[0m         \u001b[0;32melse\u001b[0m\u001b[0;34m:\u001b[0m\u001b[0;34m\u001b[0m\u001b[0m\n\u001b[0;32m--> 608\u001b[0;31m             \u001b[0;32mraise\u001b[0m \u001b[0mself\u001b[0m\u001b[0;34m.\u001b[0m\u001b[0m_value\u001b[0m\u001b[0;34m\u001b[0m\u001b[0m\n\u001b[0m\u001b[1;32m    609\u001b[0m \u001b[0;34m\u001b[0m\u001b[0m\n\u001b[1;32m    610\u001b[0m     \u001b[0;32mdef\u001b[0m \u001b[0m_set\u001b[0m\u001b[0;34m(\u001b[0m\u001b[0mself\u001b[0m\u001b[0;34m,\u001b[0m \u001b[0mi\u001b[0m\u001b[0;34m,\u001b[0m \u001b[0mobj\u001b[0m\u001b[0;34m)\u001b[0m\u001b[0;34m:\u001b[0m\u001b[0;34m\u001b[0m\u001b[0m\n",
      "\u001b[0;31mOperationalError\u001b[0m: (psycopg2.OperationalError) FATAL:  remaining connection slots are reserved for non-replication superuser connections\n (Background on this error at: http://sqlalche.me/e/e3q8)"
     ]
    },
    {
     "name": "stdout",
     "output_type": "stream",
     "text": [
      "2014-01-02 23:57:00\n",
      "1:06PM\n",
      "12:05PM\n",
      "2014-01-02 13:06:00\n",
      "2:43PM\n",
      "2014-01-02 12:05:00\n",
      "2014-01-02 14:43:00\n",
      "11:14AM\n",
      "2014-01-02 11:14:00\n",
      "10:11AM\n",
      "2014-01-02 10:11:00\n",
      "8:13AM\n",
      "2014-01-02 08:13:00\n",
      "8:50AM\n",
      "9:21AM\n",
      "2014-01-02 08:50:00\n",
      "2014-01-02 09:21:00\n"
     ]
    },
    {
     "name": "stderr",
     "output_type": "stream",
     "text": [
      "Process ForkPoolWorker-9:\n",
      "Traceback (most recent call last):\n",
      "Process ForkPoolWorker-11:\n",
      "Process ForkPoolWorker-10:\n",
      "  File \"/usr/local/lib/python3.5/dist-packages/urllib3/connectionpool.py\", line 380, in _make_request\n",
      "    httplib_response = conn.getresponse(buffering=True)\n",
      "Process ForkPoolWorker-12:\n",
      "Traceback (most recent call last):\n",
      "TypeError: getresponse() got an unexpected keyword argument 'buffering'\n",
      "Traceback (most recent call last):\n",
      "\n",
      "During handling of the above exception, another exception occurred:\n",
      "\n",
      "  File \"/usr/lib/python3.5/multiprocessing/process.py\", line 249, in _bootstrap\n",
      "    self.run()\n",
      "Traceback (most recent call last):\n",
      "  File \"/usr/lib/python3.5/multiprocessing/process.py\", line 249, in _bootstrap\n",
      "    self.run()\n",
      "  File \"/usr/lib/python3.5/multiprocessing/process.py\", line 93, in run\n",
      "    self._target(*self._args, **self._kwargs)\n",
      "  File \"/usr/lib/python3.5/multiprocessing/pool.py\", line 119, in worker\n",
      "    result = (True, func(*args, **kwds))\n",
      "  File \"/usr/lib/python3.5/multiprocessing/process.py\", line 249, in _bootstrap\n",
      "    self.run()\n",
      "  File \"/usr/lib/python3.5/multiprocessing/process.py\", line 93, in run\n",
      "    self._target(*self._args, **self._kwargs)\n",
      "  File \"/usr/lib/python3.5/multiprocessing/process.py\", line 93, in run\n",
      "    self._target(*self._args, **self._kwargs)\n",
      "  File \"/usr/lib/python3.5/multiprocessing/pool.py\", line 44, in mapstar\n",
      "    return list(map(*args))\n",
      "  File \"/usr/lib/python3.5/multiprocessing/pool.py\", line 119, in worker\n",
      "    result = (True, func(*args, **kwds))\n",
      "  File \"<ipython-input-8-0c1ccebeb060>\", line 4, in get_info\n",
      "    title,text = get_text(link_time[0])\n",
      "  File \"/usr/lib/python3.5/multiprocessing/pool.py\", line 44, in mapstar\n",
      "    return list(map(*args))\n",
      "  File \"<ipython-input-4-93d937c4c510>\", line 3, in get_text\n",
      "    r = requests.get(link)\n",
      "Traceback (most recent call last):\n",
      "  File \"<ipython-input-8-0c1ccebeb060>\", line 4, in get_info\n",
      "    title,text = get_text(link_time[0])\n",
      "  File \"/usr/lib/python3.5/multiprocessing/process.py\", line 249, in _bootstrap\n",
      "    self.run()\n",
      "  File \"<ipython-input-4-93d937c4c510>\", line 3, in get_text\n",
      "    r = requests.get(link)\n",
      "  File \"/usr/lib/python3.5/multiprocessing/pool.py\", line 119, in worker\n",
      "    result = (True, func(*args, **kwds))\n",
      "  File \"/usr/local/lib/python3.5/dist-packages/requests/api.py\", line 72, in get\n",
      "    return request('get', url, params=params, **kwargs)\n",
      "  File \"/usr/local/lib/python3.5/dist-packages/requests/api.py\", line 72, in get\n",
      "    return request('get', url, params=params, **kwargs)\n",
      "  File \"/usr/lib/python3.5/multiprocessing/pool.py\", line 44, in mapstar\n",
      "    return list(map(*args))\n",
      "  File \"<ipython-input-8-0c1ccebeb060>\", line 4, in get_info\n",
      "    title,text = get_text(link_time[0])\n",
      "  File \"/usr/local/lib/python3.5/dist-packages/requests/api.py\", line 58, in request\n",
      "    return session.request(method=method, url=url, **kwargs)\n",
      "  File \"/usr/lib/python3.5/multiprocessing/process.py\", line 93, in run\n",
      "    self._target(*self._args, **self._kwargs)\n",
      "  File \"/usr/local/lib/python3.5/dist-packages/requests/api.py\", line 58, in request\n",
      "    return session.request(method=method, url=url, **kwargs)\n",
      "  File \"/usr/lib/python3.5/multiprocessing/pool.py\", line 119, in worker\n",
      "    result = (True, func(*args, **kwds))\n",
      "  File \"/usr/local/lib/python3.5/dist-packages/requests/sessions.py\", line 508, in request\n",
      "    resp = self.send(prep, **send_kwargs)\n",
      "  File \"/usr/local/lib/python3.5/dist-packages/requests/sessions.py\", line 640, in send\n",
      "    history = [resp for resp in gen] if allow_redirects else []\n",
      "  File \"<ipython-input-4-93d937c4c510>\", line 3, in get_text\n",
      "    r = requests.get(link)\n",
      "  File \"/usr/lib/python3.5/multiprocessing/pool.py\", line 44, in mapstar\n",
      "    return list(map(*args))\n",
      "  File \"/usr/local/lib/python3.5/dist-packages/requests/sessions.py\", line 508, in request\n",
      "    resp = self.send(prep, **send_kwargs)\n",
      "  File \"/usr/local/lib/python3.5/dist-packages/requests/api.py\", line 72, in get\n",
      "    return request('get', url, params=params, **kwargs)\n",
      "  File \"/usr/local/lib/python3.5/dist-packages/requests/sessions.py\", line 640, in send\n",
      "    history = [resp for resp in gen] if allow_redirects else []\n",
      "  File \"<ipython-input-8-0c1ccebeb060>\", line 4, in get_info\n",
      "    title,text = get_text(link_time[0])\n",
      "  File \"/usr/local/lib/python3.5/dist-packages/requests/sessions.py\", line 640, in <listcomp>\n",
      "    history = [resp for resp in gen] if allow_redirects else []\n",
      "  File \"/usr/local/lib/python3.5/dist-packages/requests/sessions.py\", line 640, in <listcomp>\n",
      "    history = [resp for resp in gen] if allow_redirects else []\n",
      "  File \"/usr/local/lib/python3.5/dist-packages/requests/api.py\", line 58, in request\n",
      "    return session.request(method=method, url=url, **kwargs)\n",
      "  File \"<ipython-input-4-93d937c4c510>\", line 3, in get_text\n",
      "    r = requests.get(link)\n",
      "  File \"/usr/local/lib/python3.5/dist-packages/requests/sessions.py\", line 218, in resolve_redirects\n",
      "    **adapter_kwargs\n",
      "  File \"/usr/local/lib/python3.5/dist-packages/requests/sessions.py\", line 508, in request\n",
      "    resp = self.send(prep, **send_kwargs)\n",
      "  File \"/usr/local/lib/python3.5/dist-packages/requests/sessions.py\", line 658, in send\n",
      "    r.content\n",
      "  File \"/usr/local/lib/python3.5/dist-packages/requests/api.py\", line 72, in get\n",
      "    return request('get', url, params=params, **kwargs)\n",
      "  File \"/usr/local/lib/python3.5/dist-packages/requests/sessions.py\", line 618, in send\n",
      "    r = adapter.send(request, **kwargs)\n",
      "  File \"/usr/local/lib/python3.5/dist-packages/requests/api.py\", line 58, in request\n",
      "    return session.request(method=method, url=url, **kwargs)\n",
      "  File \"/usr/local/lib/python3.5/dist-packages/requests/sessions.py\", line 218, in resolve_redirects\n",
      "    **adapter_kwargs\n",
      "  File \"/usr/local/lib/python3.5/dist-packages/requests/models.py\", line 823, in content\n",
      "    self._content = bytes().join(self.iter_content(CONTENT_CHUNK_SIZE)) or bytes()\n",
      "  File \"/usr/local/lib/python3.5/dist-packages/requests/sessions.py\", line 508, in request\n",
      "    resp = self.send(prep, **send_kwargs)\n",
      "  File \"/usr/local/lib/python3.5/dist-packages/requests/adapters.py\", line 440, in send\n",
      "    timeout=timeout\n",
      "  File \"/usr/local/lib/python3.5/dist-packages/requests/models.py\", line 745, in generate\n",
      "    for chunk in self.raw.stream(chunk_size, decode_content=True):\n",
      "  File \"/usr/local/lib/python3.5/dist-packages/requests/sessions.py\", line 618, in send\n",
      "    r = adapter.send(request, **kwargs)\n",
      "  File \"/usr/local/lib/python3.5/dist-packages/requests/adapters.py\", line 440, in send\n",
      "    timeout=timeout\n",
      "  File \"/usr/local/lib/python3.5/dist-packages/requests/sessions.py\", line 618, in send\n",
      "    r = adapter.send(request, **kwargs)\n",
      "  File \"/usr/local/lib/python3.5/dist-packages/urllib3/connectionpool.py\", line 601, in urlopen\n",
      "    chunked=chunked)\n",
      "  File \"/usr/local/lib/python3.5/dist-packages/urllib3/response.py\", line 436, in stream\n",
      "    data = self.read(amt=amt, decode_content=decode_content)\n",
      "  File \"/usr/local/lib/python3.5/dist-packages/requests/adapters.py\", line 440, in send\n",
      "    timeout=timeout\n",
      "  File \"/usr/local/lib/python3.5/dist-packages/urllib3/connectionpool.py\", line 601, in urlopen\n",
      "    chunked=chunked)\n",
      "  File \"/usr/local/lib/python3.5/dist-packages/urllib3/connectionpool.py\", line 357, in _make_request\n",
      "    conn.request(method, url, **httplib_request_kw)\n",
      "  File \"/usr/local/lib/python3.5/dist-packages/urllib3/response.py\", line 384, in read\n",
      "    data = self._fp.read(amt)\n",
      "  File \"/usr/local/lib/python3.5/dist-packages/urllib3/connectionpool.py\", line 601, in urlopen\n",
      "    chunked=chunked)\n",
      "  File \"/usr/lib/python3.5/http/client.py\", line 1106, in request\n",
      "    self._send_request(method, url, body, headers)\n",
      "  File \"/usr/local/lib/python3.5/dist-packages/urllib3/connectionpool.py\", line 357, in _make_request\n",
      "    conn.request(method, url, **httplib_request_kw)\n",
      "  File \"/usr/local/lib/python3.5/dist-packages/urllib3/connectionpool.py\", line 383, in _make_request\n",
      "    httplib_response = conn.getresponse()\n",
      "  File \"/usr/lib/python3.5/http/client.py\", line 448, in read\n",
      "    n = self.readinto(b)\n",
      "  File \"/usr/lib/python3.5/http/client.py\", line 1106, in request\n",
      "    self._send_request(method, url, body, headers)\n",
      "  File \"/usr/lib/python3.5/http/client.py\", line 1151, in _send_request\n",
      "    self.endheaders(body)\n"
     ]
    },
    {
     "name": "stderr",
     "output_type": "stream",
     "text": [
      "  File \"/usr/lib/python3.5/http/client.py\", line 1197, in getresponse\n",
      "    response.begin()\n",
      "  File \"/usr/lib/python3.5/http/client.py\", line 1151, in _send_request\n",
      "    self.endheaders(body)\n",
      "  File \"/usr/lib/python3.5/http/client.py\", line 297, in begin\n",
      "    version, status, reason = self._read_status()\n",
      "  File \"/usr/lib/python3.5/http/client.py\", line 1102, in endheaders\n",
      "    self._send_output(message_body)\n",
      "  File \"/usr/lib/python3.5/http/client.py\", line 934, in _send_output\n",
      "    self.send(msg)\n",
      "  File \"/usr/lib/python3.5/http/client.py\", line 1102, in endheaders\n",
      "    self._send_output(message_body)\n",
      "  File \"/usr/lib/python3.5/http/client.py\", line 258, in _read_status\n",
      "    line = str(self.fp.readline(_MAXLINE + 1), \"iso-8859-1\")\n",
      "  File \"/usr/lib/python3.5/http/client.py\", line 934, in _send_output\n",
      "    self.send(msg)\n",
      "  File \"/usr/lib/python3.5/http/client.py\", line 488, in readinto\n",
      "    n = self.fp.readinto(b)\n",
      "  File \"/usr/lib/python3.5/http/client.py\", line 877, in send\n",
      "    self.connect()\n",
      "  File \"/usr/local/lib/python3.5/dist-packages/urllib3/connection.py\", line 166, in connect\n",
      "    conn = self._new_conn()\n",
      "  File \"/usr/lib/python3.5/socket.py\", line 575, in readinto\n",
      "    return self._sock.recv_into(b)\n",
      "  File \"/usr/lib/python3.5/http/client.py\", line 877, in send\n",
      "    self.connect()\n",
      "  File \"/usr/lib/python3.5/socket.py\", line 575, in readinto\n",
      "    return self._sock.recv_into(b)\n",
      "  File \"/usr/local/lib/python3.5/dist-packages/urllib3/connection.py\", line 141, in _new_conn\n",
      "    (self.host, self.port), self.timeout, **extra_kw)\n",
      "  File \"/usr/local/lib/python3.5/dist-packages/urllib3/contrib/pyopenssl.py\", line 280, in recv_into\n",
      "    return self.connection.recv_into(*args, **kwargs)\n",
      "  File \"/usr/local/lib/python3.5/dist-packages/urllib3/util/connection.py\", line 60, in create_connection\n",
      "    for res in socket.getaddrinfo(host, port, family, socket.SOCK_STREAM):\n",
      "  File \"/usr/local/lib/python3.5/dist-packages/urllib3/contrib/pyopenssl.py\", line 280, in recv_into\n",
      "    return self.connection.recv_into(*args, **kwargs)\n",
      "  File \"/usr/lib/python3.5/socket.py\", line 732, in getaddrinfo\n",
      "    for res in _socket.getaddrinfo(host, port, family, type, proto, flags):\n",
      "  File \"/usr/local/lib/python3.5/dist-packages/urllib3/connection.py\", line 166, in connect\n",
      "    conn = self._new_conn()\n",
      "KeyboardInterrupt\n",
      "  File \"/usr/lib/python3/dist-packages/OpenSSL/SSL.py\", line 1348, in recv_into\n",
      "    result = _lib.SSL_read(self._ssl, buf, nbytes)\n",
      "  File \"/usr/local/lib/python3.5/dist-packages/urllib3/connection.py\", line 141, in _new_conn\n",
      "    (self.host, self.port), self.timeout, **extra_kw)\n",
      "  File \"/usr/lib/python3/dist-packages/OpenSSL/SSL.py\", line 1348, in recv_into\n",
      "    result = _lib.SSL_read(self._ssl, buf, nbytes)\n",
      "KeyboardInterrupt\n",
      "  File \"/usr/local/lib/python3.5/dist-packages/urllib3/util/connection.py\", line 60, in create_connection\n",
      "    for res in socket.getaddrinfo(host, port, family, socket.SOCK_STREAM):\n",
      "KeyboardInterrupt\n",
      "  File \"/usr/lib/python3.5/socket.py\", line 732, in getaddrinfo\n",
      "    for res in _socket.getaddrinfo(host, port, family, type, proto, flags):\n",
      "KeyboardInterrupt\n"
     ]
    }
   ],
   "source": [
    "start = time.time()\n",
    "from functools import partial\n",
    "for y in years:\n",
    "    for m in months:\n",
    "        for d in tqdm(days):\n",
    "            try:\n",
    "                print(y, m, d)\n",
    "                datetime.datetime(year=int(y),month=int(m),day=int(d))\n",
    "                r = requests.get(link.format(y, m, d), timeout=5)\n",
    "                if r.ok: # check if page found\n",
    "                    soup = BS(r.content, 'html.parser')\n",
    "                    span_list = soup.find_all('div' , attrs={'class':\"headlineMed\"})\n",
    "                    header = str(soup.find_all('title')).split()\n",
    "                    day, month, year = header[6], header[7], header[8]\n",
    "\n",
    "                    links_times = [[str(el).split('>')[1].split(\"=\")[1].replace('\"', ''), str(el).split()[-2]] for el in span_list \n",
    "                                   if not str(el).split('>')[1].split(\"=\")[1].replace('\"', '').startswith('http://www.reuters.com/news/video')]\n",
    "                    \n",
    "\n",
    "                    infer = partial(get_info, date=[day, month, year])\n",
    "                    \n",
    "                    pool = Pool(processes=cpu_count())\n",
    "                    \n",
    "                    pool.map(infer, links_times)\n",
    "                    pool.close()\n",
    "                    pool.join()\n",
    "                    print(start - time.time())\n",
    "                    #except:\n",
    "                        #print(\"Terminating the pool\")\n",
    "                        #pool.terminate() \n",
    "            except HTTPError:\n",
    "                print(\"No page found by this link!\",r.status)\n",
    "                continue\n",
    "            except ValueError:\n",
    "                print(\"Day doesn't exist\")\n",
    "                continue\n",
    "                    \n",
    "print(\"DONE\")"
   ]
  },
  {
   "cell_type": "code",
   "execution_count": null,
   "metadata": {},
   "outputs": [],
   "source": [
    "try:\n",
    "    r = requests.get('https://www.reuters.com/resources/archive/us/20140111.html')\n",
    "    r.raise_for_status()\n",
    "except HTTPError:\n",
    "    print(\"No page found by this link! \"+ str(r.status_code))"
   ]
  },
  {
   "cell_type": "code",
   "execution_count": null,
   "metadata": {},
   "outputs": [],
   "source": [
    "r.ok"
   ]
  },
  {
   "cell_type": "code",
   "execution_count": null,
   "metadata": {},
   "outputs": [],
   "source": [
    "d = ['01', 'May', '2014']\n",
    "t = '11:59PM'\n",
    "date = datetime.datetime.strptime(\"{} {} {} {}\".format(d[1], d[0], d[-1], t), '%b %d %Y %I:%M%p')"
   ]
  },
  {
   "cell_type": "code",
   "execution_count": null,
   "metadata": {},
   "outputs": [],
   "source": [
    "date"
   ]
  },
  {
   "cell_type": "code",
   "execution_count": null,
   "metadata": {},
   "outputs": [],
   "source": [
    "def d(d):\n",
    "    print(d*2)\n",
    "    return d\n",
    "pool = Pool(processes=100)\n",
    "pool.map(d, [1, 2, 3, 4, 5, 6, 7, 8, 9, 10, 11, 12, 13, 14, 15, 16, 17]*100)\n",
    "pool.close()\n",
    "pool.join()"
   ]
  },
  {
   "cell_type": "code",
   "execution_count": 10,
   "metadata": {},
   "outputs": [
    {
     "name": "stdout",
     "output_type": "stream",
     "text": [
      "4\n"
     ]
    }
   ],
   "source": []
  },
  {
   "cell_type": "code",
   "execution_count": null,
   "metadata": {},
   "outputs": [],
   "source": []
  }
 ],
 "metadata": {
  "kernelspec": {
   "display_name": "Python 3",
   "language": "python",
   "name": "python3"
  },
  "language_info": {
   "codemirror_mode": {
    "name": "ipython",
    "version": 3
   },
   "file_extension": ".py",
   "mimetype": "text/x-python",
   "name": "python",
   "nbconvert_exporter": "python",
   "pygments_lexer": "ipython3",
   "version": "3.5.2"
  }
 },
 "nbformat": 4,
 "nbformat_minor": 2
}
