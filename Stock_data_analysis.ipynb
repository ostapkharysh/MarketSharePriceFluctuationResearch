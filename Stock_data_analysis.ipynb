{
 "cells": [
  {
   "cell_type": "code",
   "execution_count": 1,
   "metadata": {},
   "outputs": [],
   "source": [
    "import pandas as pd\n",
    "import datetime"
   ]
  },
  {
   "cell_type": "code",
   "execution_count": 2,
   "metadata": {},
   "outputs": [],
   "source": [
    "intraday = pd.DataFrame(columns=['date', 'price'])"
   ]
  },
  {
   "cell_type": "code",
   "execution_count": 3,
   "metadata": {},
   "outputs": [],
   "source": [
    "with open(\"additional_data/4_aapl.txt\", \"r\") as stock:\n",
    "    for line in stock:\n",
    "        el = line.split(\" \")[0]+\" \"+ line.split(\" \")[1]\n",
    "        data = datetime.datetime.strptime(line.split(\" \")[0]+\" \"+ line.split(\" \")[1], '%Y-%m-%d %H:%M:%S')\n",
    "        intraday = intraday.append({'date': data, 'price': float(line.split(\" \")[-1].strip())}, ignore_index=True)"
   ]
  },
  {
   "cell_type": "code",
   "execution_count": 4,
   "metadata": {},
   "outputs": [
    {
     "data": {
      "text/html": [
       "<div>\n",
       "<style scoped>\n",
       "    .dataframe tbody tr th:only-of-type {\n",
       "        vertical-align: middle;\n",
       "    }\n",
       "\n",
       "    .dataframe tbody tr th {\n",
       "        vertical-align: top;\n",
       "    }\n",
       "\n",
       "    .dataframe thead th {\n",
       "        text-align: right;\n",
       "    }\n",
       "</style>\n",
       "<table border=\"1\" class=\"dataframe\">\n",
       "  <thead>\n",
       "    <tr style=\"text-align: right;\">\n",
       "      <th></th>\n",
       "      <th>date</th>\n",
       "      <th>price</th>\n",
       "    </tr>\n",
       "  </thead>\n",
       "  <tbody>\n",
       "    <tr>\n",
       "      <th>0</th>\n",
       "      <td>2016-01-04 09:45:00</td>\n",
       "      <td>100.021</td>\n",
       "    </tr>\n",
       "    <tr>\n",
       "      <th>1</th>\n",
       "      <td>2016-01-04 09:46:00</td>\n",
       "      <td>100.129</td>\n",
       "    </tr>\n",
       "    <tr>\n",
       "      <th>2</th>\n",
       "      <td>2016-01-04 09:47:00</td>\n",
       "      <td>100.399</td>\n",
       "    </tr>\n",
       "    <tr>\n",
       "      <th>3</th>\n",
       "      <td>2016-01-04 09:48:00</td>\n",
       "      <td>100.286</td>\n",
       "    </tr>\n",
       "    <tr>\n",
       "      <th>4</th>\n",
       "      <td>2016-01-04 09:49:00</td>\n",
       "      <td>100.343</td>\n",
       "    </tr>\n",
       "  </tbody>\n",
       "</table>\n",
       "</div>"
      ],
      "text/plain": [
       "                 date    price\n",
       "0 2016-01-04 09:45:00  100.021\n",
       "1 2016-01-04 09:46:00  100.129\n",
       "2 2016-01-04 09:47:00  100.399\n",
       "3 2016-01-04 09:48:00  100.286\n",
       "4 2016-01-04 09:49:00  100.343"
      ]
     },
     "execution_count": 4,
     "metadata": {},
     "output_type": "execute_result"
    }
   ],
   "source": [
    "intraday.head()"
   ]
  },
  {
   "cell_type": "code",
   "execution_count": 5,
   "metadata": {},
   "outputs": [
    {
     "data": {
      "text/plain": [
       "<matplotlib.figure.Figure at 0x7f03d9ae3c18>"
      ]
     },
     "metadata": {},
     "output_type": "display_data"
    }
   ],
   "source": [
    "import matplotlib.pyplot as plt\n",
    "import matplotlib\n",
    "matplotlib.rcParams['figure.figsize'] = (20.0, 10.0)\n",
    "\n",
    "\n",
    "period_df = intraday#[(intraday['date'] > '2016-02-01') & (intraday['date'] < '2016-03-01')]\n",
    "\n",
    "plt.plot(period_df['date'], period_df['price'].astype(float))\n",
    "# beautify the x-labels\n",
    "plt.gcf().autofmt_xdate()\n",
    "\n",
    "plt.show()"
   ]
  },
  {
   "cell_type": "code",
   "execution_count": 6,
   "metadata": {},
   "outputs": [
    {
     "data": {
      "text/html": [
       "<div>\n",
       "<style scoped>\n",
       "    .dataframe tbody tr th:only-of-type {\n",
       "        vertical-align: middle;\n",
       "    }\n",
       "\n",
       "    .dataframe tbody tr th {\n",
       "        vertical-align: top;\n",
       "    }\n",
       "\n",
       "    .dataframe thead th {\n",
       "        text-align: right;\n",
       "    }\n",
       "</style>\n",
       "<table border=\"1\" class=\"dataframe\">\n",
       "  <thead>\n",
       "    <tr style=\"text-align: right;\">\n",
       "      <th></th>\n",
       "      <th>date</th>\n",
       "      <th>price</th>\n",
       "    </tr>\n",
       "  </thead>\n",
       "  <tbody>\n",
       "    <tr>\n",
       "      <th>0</th>\n",
       "      <td>2016-01-04 09:45:00</td>\n",
       "      <td>100.021</td>\n",
       "    </tr>\n",
       "    <tr>\n",
       "      <th>1</th>\n",
       "      <td>2016-01-04 09:46:00</td>\n",
       "      <td>100.129</td>\n",
       "    </tr>\n",
       "    <tr>\n",
       "      <th>2</th>\n",
       "      <td>2016-01-04 09:47:00</td>\n",
       "      <td>100.399</td>\n",
       "    </tr>\n",
       "    <tr>\n",
       "      <th>3</th>\n",
       "      <td>2016-01-04 09:48:00</td>\n",
       "      <td>100.286</td>\n",
       "    </tr>\n",
       "    <tr>\n",
       "      <th>4</th>\n",
       "      <td>2016-01-04 09:49:00</td>\n",
       "      <td>100.343</td>\n",
       "    </tr>\n",
       "  </tbody>\n",
       "</table>\n",
       "</div>"
      ],
      "text/plain": [
       "                 date    price\n",
       "0 2016-01-04 09:45:00  100.021\n",
       "1 2016-01-04 09:46:00  100.129\n",
       "2 2016-01-04 09:47:00  100.399\n",
       "3 2016-01-04 09:48:00  100.286\n",
       "4 2016-01-04 09:49:00  100.343"
      ]
     },
     "execution_count": 6,
     "metadata": {},
     "output_type": "execute_result"
    }
   ],
   "source": [
    "period_df.head()"
   ]
  },
  {
   "cell_type": "code",
   "execution_count": 7,
   "metadata": {},
   "outputs": [],
   "source": [
    "daily = pd.DataFrame(columns=['date', 'open', 'high', 'low', 'close'])\n",
    "\n",
    "d = intraday['date'].values[0]\n",
    "\n",
    "\n",
    "cur_day = pd.to_datetime(d).date().day\n",
    "prices = list()\n",
    "for idx, el in enumerate(intraday['date'].values):\n",
    "    if pd.to_datetime(el).date().day == cur_day:\n",
    "        prices.append(intraday['price'].values[idx])\n",
    "    else:\n",
    "        daily = daily.append({'date': pd.to_datetime(intraday['date'].values[idx-1]), 'open': prices[0], 'high': max(prices), 'low': min(prices), 'close': prices[-1]}, ignore_index=True)\n",
    "        prices = list()\n",
    "        prices.append(intraday['price'].values[idx])\n",
    "        cur_day = pd.to_datetime(el).date().day"
   ]
  },
  {
   "cell_type": "code",
   "execution_count": 8,
   "metadata": {},
   "outputs": [
    {
     "data": {
      "text/html": [
       "<div>\n",
       "<style scoped>\n",
       "    .dataframe tbody tr th:only-of-type {\n",
       "        vertical-align: middle;\n",
       "    }\n",
       "\n",
       "    .dataframe tbody tr th {\n",
       "        vertical-align: top;\n",
       "    }\n",
       "\n",
       "    .dataframe thead th {\n",
       "        text-align: right;\n",
       "    }\n",
       "</style>\n",
       "<table border=\"1\" class=\"dataframe\">\n",
       "  <thead>\n",
       "    <tr style=\"text-align: right;\">\n",
       "      <th></th>\n",
       "      <th>date</th>\n",
       "      <th>open</th>\n",
       "      <th>high</th>\n",
       "      <th>low</th>\n",
       "      <th>close</th>\n",
       "    </tr>\n",
       "  </thead>\n",
       "  <tbody>\n",
       "    <tr>\n",
       "      <th>0</th>\n",
       "      <td>2016-01-04 15:45:00</td>\n",
       "      <td>100.0210</td>\n",
       "      <td>102.6220</td>\n",
       "      <td>99.8168</td>\n",
       "      <td>102.1300</td>\n",
       "    </tr>\n",
       "    <tr>\n",
       "      <th>1</th>\n",
       "      <td>2016-01-05 15:45:00</td>\n",
       "      <td>102.0840</td>\n",
       "      <td>102.1540</td>\n",
       "      <td>99.7876</td>\n",
       "      <td>100.0120</td>\n",
       "    </tr>\n",
       "    <tr>\n",
       "      <th>2</th>\n",
       "      <td>2016-01-06 15:45:00</td>\n",
       "      <td>98.3461</td>\n",
       "      <td>99.6902</td>\n",
       "      <td>97.4120</td>\n",
       "      <td>97.8785</td>\n",
       "    </tr>\n",
       "    <tr>\n",
       "      <th>3</th>\n",
       "      <td>2016-01-07 15:45:00</td>\n",
       "      <td>95.9694</td>\n",
       "      <td>97.4889</td>\n",
       "      <td>94.0896</td>\n",
       "      <td>94.6545</td>\n",
       "    </tr>\n",
       "    <tr>\n",
       "      <th>4</th>\n",
       "      <td>2016-01-08 15:45:00</td>\n",
       "      <td>95.2097</td>\n",
       "      <td>96.5120</td>\n",
       "      <td>94.2844</td>\n",
       "      <td>94.6253</td>\n",
       "    </tr>\n",
       "  </tbody>\n",
       "</table>\n",
       "</div>"
      ],
      "text/plain": [
       "                 date      open      high      low     close\n",
       "0 2016-01-04 15:45:00  100.0210  102.6220  99.8168  102.1300\n",
       "1 2016-01-05 15:45:00  102.0840  102.1540  99.7876  100.0120\n",
       "2 2016-01-06 15:45:00   98.3461   99.6902  97.4120   97.8785\n",
       "3 2016-01-07 15:45:00   95.9694   97.4889  94.0896   94.6545\n",
       "4 2016-01-08 15:45:00   95.2097   96.5120  94.2844   94.6253"
      ]
     },
     "execution_count": 8,
     "metadata": {},
     "output_type": "execute_result"
    }
   ],
   "source": [
    "daily.head()"
   ]
  },
  {
   "cell_type": "code",
   "execution_count": 9,
   "metadata": {
    "scrolled": false
   },
   "outputs": [
    {
     "name": "stdout",
     "output_type": "stream",
     "text": [
      "Populating the interactive namespace from numpy and matplotlib\n"
     ]
    },
    {
     "data": {
      "text/plain": [
       "[<matplotlib.lines.Line2D at 0x7f03d4f846d8>]"
      ]
     },
     "execution_count": 9,
     "metadata": {},
     "output_type": "execute_result"
    },
    {
     "data": {
      "image/png": "[encoded data removed]",
      "text/plain": [
       "<matplotlib.figure.Figure at 0x7f040479a588>"
      ]
     },
     "metadata": {},
     "output_type": "display_data"
    }
   ],
   "source": [
    "import matplotlib.pyplot as plt   # Import matplotlib\n",
    "# This line is necessary for the plot to appear in a Jupyter notebook\n",
    "%matplotlib inline\n",
    "# Control the default size of figures in this Jupyter notebook\n",
    "%pylab inline\n",
    "pylab.rcParams['figure.figsize'] = (15, 9)   # Change the size of plots\n",
    "plt.grid(True)\n",
    "#daily[\"close\"].plot(grid = True) # Plot the adjusted closing price of AAPL\n",
    "\n",
    "plt.plot(daily['date'], daily['close'])"
   ]
  },
  {
   "cell_type": "code",
   "execution_count": 10,
   "metadata": {},
   "outputs": [
    {
     "data": {
      "text/html": [
       "<div>\n",
       "<style scoped>\n",
       "    .dataframe tbody tr th:only-of-type {\n",
       "        vertical-align: middle;\n",
       "    }\n",
       "\n",
       "    .dataframe tbody tr th {\n",
       "        vertical-align: top;\n",
       "    }\n",
       "\n",
       "    .dataframe thead th {\n",
       "        text-align: right;\n",
       "    }\n",
       "</style>\n",
       "<table border=\"1\" class=\"dataframe\">\n",
       "  <thead>\n",
       "    <tr style=\"text-align: right;\">\n",
       "      <th></th>\n",
       "      <th>date</th>\n",
       "      <th>open</th>\n",
       "      <th>high</th>\n",
       "      <th>low</th>\n",
       "      <th>close</th>\n",
       "    </tr>\n",
       "  </thead>\n",
       "  <tbody>\n",
       "    <tr>\n",
       "      <th>0</th>\n",
       "      <td>2016-01-04 15:45:00</td>\n",
       "      <td>100.0210</td>\n",
       "      <td>102.6220</td>\n",
       "      <td>99.8168</td>\n",
       "      <td>102.1300</td>\n",
       "    </tr>\n",
       "    <tr>\n",
       "      <th>1</th>\n",
       "      <td>2016-01-05 15:45:00</td>\n",
       "      <td>102.0840</td>\n",
       "      <td>102.1540</td>\n",
       "      <td>99.7876</td>\n",
       "      <td>100.0120</td>\n",
       "    </tr>\n",
       "    <tr>\n",
       "      <th>2</th>\n",
       "      <td>2016-01-06 15:45:00</td>\n",
       "      <td>98.3461</td>\n",
       "      <td>99.6902</td>\n",
       "      <td>97.4120</td>\n",
       "      <td>97.8785</td>\n",
       "    </tr>\n",
       "    <tr>\n",
       "      <th>3</th>\n",
       "      <td>2016-01-07 15:45:00</td>\n",
       "      <td>95.9694</td>\n",
       "      <td>97.4889</td>\n",
       "      <td>94.0896</td>\n",
       "      <td>94.6545</td>\n",
       "    </tr>\n",
       "    <tr>\n",
       "      <th>4</th>\n",
       "      <td>2016-01-08 15:45:00</td>\n",
       "      <td>95.2097</td>\n",
       "      <td>96.5120</td>\n",
       "      <td>94.2844</td>\n",
       "      <td>94.6253</td>\n",
       "    </tr>\n",
       "  </tbody>\n",
       "</table>\n",
       "</div>"
      ],
      "text/plain": [
       "                 date      open      high      low     close\n",
       "0 2016-01-04 15:45:00  100.0210  102.6220  99.8168  102.1300\n",
       "1 2016-01-05 15:45:00  102.0840  102.1540  99.7876  100.0120\n",
       "2 2016-01-06 15:45:00   98.3461   99.6902  97.4120   97.8785\n",
       "3 2016-01-07 15:45:00   95.9694   97.4889  94.0896   94.6545\n",
       "4 2016-01-08 15:45:00   95.2097   96.5120  94.2844   94.6253"
      ]
     },
     "execution_count": 10,
     "metadata": {},
     "output_type": "execute_result"
    }
   ],
   "source": [
    "daily.head()"
   ]
  },
  {
   "cell_type": "code",
   "execution_count": 11,
   "metadata": {
    "scrolled": true
   },
   "outputs": [
    {
     "name": "stderr",
     "output_type": "stream",
     "text": [
      "/home/ostapkharysh/.local/lib/python3.5/site-packages/ipykernel_launcher.py:14: FutureWarning: Comparing Series of datetimes with 'datetime.date'.  Currently, the\n",
      "'datetime.date' is coerced to a datetime. In the future pandas will\n",
      "not coerce, and a TypeError will be raised. To retain the current\n",
      "behavior, convert the 'datetime.date' to a datetime with\n",
      "'pd.Timestamp'.\n",
      "  \n"
     ]
    },
    {
     "data": {
      "image/png": "[encoded data removed]",
      "text/plain": [
       "<matplotlib.figure.Figure at 0x7f03d4f06240>"
      ]
     },
     "metadata": {},
     "output_type": "display_data"
    }
   ],
   "source": [
    "import pandas as pd\n",
    "import matplotlib.pyplot as plt\n",
    "import datetime\n",
    "from matplotlib.finance import candlestick_ohlc\n",
    "\n",
    "import matplotlib.dates as mdates\n",
    "\n",
    "\n",
    "df = daily.copy()\n",
    "\n",
    "start = datetime.datetime.strptime(\"2016-01-01\", '%Y-%m-%d').date()\n",
    "finish = datetime.datetime.strptime(\"2016-04-01\", '%Y-%m-%d').date()\n",
    "\n",
    "df = df[(df['date'] > start) & (df['date'] < finish)]\n",
    "\n",
    "# Converting date to pandas datetime format\n",
    "df['date'] = pd.to_datetime(df['date'])\n",
    "df[\"date\"] = df[\"date\"].apply(mdates.date2num)\n",
    "\n",
    "ohlc= df[['date', 'open', 'high', 'low','close']].copy()\n",
    "\n",
    "ohlc['SMA20'] = ohlc[\"close\"].rolling(20).mean()\n",
    "f1, ax = plt.subplots(figsize = (15,5))\n",
    "\n",
    "# plot the candlesticks\n",
    "candlestick_ohlc(ax, ohlc.values, width=.7, colorup='green', colordown='red')\n",
    "#ax.plot(ohlc['date'], ohlc['SMA5'], color = 'green', label = 'SMA5')\n",
    "ax.plot(ohlc['date'], ohlc['SMA20'], color = 'blue', label = 'SMA20')\n",
    "ax.plot(ohlc['date'], ohlc['close'], color = \"brown\", label = 'close')\n",
    "\n",
    "ax.xaxis.set_major_formatter(mdates.DateFormatter('%Y-%m'))\n",
    "# Saving image\n",
    "#plt.savefig('OHLC.png')\n",
    "\n",
    "plt.show()\n"
   ]
  },
  {
   "cell_type": "code",
   "execution_count": 12,
   "metadata": {},
   "outputs": [],
   "source": [
    "import sqlite3\n",
    "\n",
    "conn = sqlite3.connect(\"////media/ostapkharysh/SP_PHD_U3/database/NO_title.db\")\n",
    "c = conn.cursor()\n",
    "\n",
    "\n",
    "sql = '''SELECT DATE, TONE, DOCUMENTIDENTIFIER FROM news where date > 20160101000000 and date < 20160701000000'''\n",
    "unf_TONE = pd.DataFrame({\"date\": [], \"tone\": []})\n",
    "res = c.execute(sql)\n",
    "for el in res:\n",
    "    unf_TONE = unf_TONE.append({'date': el[0], 'tone': el[1].split(',')[0], 'source': el[2]}, ignore_index=True)"
   ]
  },
  {
   "cell_type": "code",
   "execution_count": 13,
   "metadata": {},
   "outputs": [
    {
     "data": {
      "text/html": [
       "<div>\n",
       "<style scoped>\n",
       "    .dataframe tbody tr th:only-of-type {\n",
       "        vertical-align: middle;\n",
       "    }\n",
       "\n",
       "    .dataframe tbody tr th {\n",
       "        vertical-align: top;\n",
       "    }\n",
       "\n",
       "    .dataframe thead th {\n",
       "        text-align: right;\n",
       "    }\n",
       "</style>\n",
       "<table border=\"1\" class=\"dataframe\">\n",
       "  <thead>\n",
       "    <tr style=\"text-align: right;\">\n",
       "      <th></th>\n",
       "      <th>date</th>\n",
       "      <th>tone</th>\n",
       "      <th>source</th>\n",
       "    </tr>\n",
       "  </thead>\n",
       "  <tbody>\n",
       "    <tr>\n",
       "      <th>0</th>\n",
       "      <td>20160101001500</td>\n",
       "      <td>-0.656814449917899</td>\n",
       "      <td>http://www.deseretnews.com/article/865644657/C...</td>\n",
       "    </tr>\n",
       "    <tr>\n",
       "      <th>1</th>\n",
       "      <td>20160101001500</td>\n",
       "      <td>1.0183299389002</td>\n",
       "      <td>http://www.havenews.com/article/ZZ/20151231/SH...</td>\n",
       "    </tr>\n",
       "    <tr>\n",
       "      <th>2</th>\n",
       "      <td>20160101001500</td>\n",
       "      <td>-5.27065527065527</td>\n",
       "      <td>http://www.rockdalecitizen.com/news/local/magn...</td>\n",
       "    </tr>\n",
       "    <tr>\n",
       "      <th>3</th>\n",
       "      <td>20160101001500</td>\n",
       "      <td>-1.92982456140351</td>\n",
       "      <td>http://www.businessfinancenews.com/27117-how-u...</td>\n",
       "    </tr>\n",
       "    <tr>\n",
       "      <th>4</th>\n",
       "      <td>20160101001500</td>\n",
       "      <td>-2.93193717277487</td>\n",
       "      <td>http://news.morningstar.com/all/dow-jones/us-m...</td>\n",
       "    </tr>\n",
       "  </tbody>\n",
       "</table>\n",
       "</div>"
      ],
      "text/plain": [
       "             date                tone  \\\n",
       "0  20160101001500  -0.656814449917899   \n",
       "1  20160101001500     1.0183299389002   \n",
       "2  20160101001500   -5.27065527065527   \n",
       "3  20160101001500   -1.92982456140351   \n",
       "4  20160101001500   -2.93193717277487   \n",
       "\n",
       "                                              source  \n",
       "0  http://www.deseretnews.com/article/865644657/C...  \n",
       "1  http://www.havenews.com/article/ZZ/20151231/SH...  \n",
       "2  http://www.rockdalecitizen.com/news/local/magn...  \n",
       "3  http://www.businessfinancenews.com/27117-how-u...  \n",
       "4  http://news.morningstar.com/all/dow-jones/us-m...  "
      ]
     },
     "execution_count": 13,
     "metadata": {},
     "output_type": "execute_result"
    }
   ],
   "source": [
    "unf_TONE.head()"
   ]
  },
  {
   "cell_type": "code",
   "execution_count": 14,
   "metadata": {},
   "outputs": [
    {
     "data": {
      "text/plain": [
       "491411"
      ]
     },
     "execution_count": 14,
     "metadata": {},
     "output_type": "execute_result"
    }
   ],
   "source": [
    "len(unf_TONE)"
   ]
  },
  {
   "cell_type": "code",
   "execution_count": 15,
   "metadata": {},
   "outputs": [],
   "source": [
    "TONE = pd.DataFrame({\"date\": [], \"tone\": []})\n",
    "\n",
    "for idx, el in enumerate(unf_TONE.values):\n",
    "    if 'apple' in el[2]:\n",
    "        TONE = TONE.append({\"date\": datetime.datetime.strptime(el[0], '%Y%m%d%H%M%S'), \"tone\" : float(el[1])}, ignore_index=True )"
   ]
  },
  {
   "cell_type": "code",
   "execution_count": 16,
   "metadata": {},
   "outputs": [
    {
     "data": {
      "text/plain": [
       "173965"
      ]
     },
     "execution_count": 16,
     "metadata": {},
     "output_type": "execute_result"
    }
   ],
   "source": [
    "len(TONE)"
   ]
  },
  {
   "cell_type": "code",
   "execution_count": 17,
   "metadata": {},
   "outputs": [
    {
     "data": {
      "text/html": [
       "<div>\n",
       "<style scoped>\n",
       "    .dataframe tbody tr th:only-of-type {\n",
       "        vertical-align: middle;\n",
       "    }\n",
       "\n",
       "    .dataframe tbody tr th {\n",
       "        vertical-align: top;\n",
       "    }\n",
       "\n",
       "    .dataframe thead th {\n",
       "        text-align: right;\n",
       "    }\n",
       "</style>\n",
       "<table border=\"1\" class=\"dataframe\">\n",
       "  <thead>\n",
       "    <tr style=\"text-align: right;\">\n",
       "      <th></th>\n",
       "      <th>date</th>\n",
       "      <th>tone</th>\n",
       "    </tr>\n",
       "  </thead>\n",
       "  <tbody>\n",
       "    <tr>\n",
       "      <th>0</th>\n",
       "      <td>2016-01-01 00:15:00</td>\n",
       "      <td>0.625000</td>\n",
       "    </tr>\n",
       "    <tr>\n",
       "      <th>1</th>\n",
       "      <td>2016-01-01 00:30:00</td>\n",
       "      <td>-5.526770</td>\n",
       "    </tr>\n",
       "    <tr>\n",
       "      <th>2</th>\n",
       "      <td>2016-01-01 00:30:00</td>\n",
       "      <td>-3.017833</td>\n",
       "    </tr>\n",
       "    <tr>\n",
       "      <th>3</th>\n",
       "      <td>2016-01-01 00:30:00</td>\n",
       "      <td>-5.526770</td>\n",
       "    </tr>\n",
       "    <tr>\n",
       "      <th>4</th>\n",
       "      <td>2016-01-01 00:45:00</td>\n",
       "      <td>0.625000</td>\n",
       "    </tr>\n",
       "  </tbody>\n",
       "</table>\n",
       "</div>"
      ],
      "text/plain": [
       "                 date      tone\n",
       "0 2016-01-01 00:15:00  0.625000\n",
       "1 2016-01-01 00:30:00 -5.526770\n",
       "2 2016-01-01 00:30:00 -3.017833\n",
       "3 2016-01-01 00:30:00 -5.526770\n",
       "4 2016-01-01 00:45:00  0.625000"
      ]
     },
     "execution_count": 17,
     "metadata": {},
     "output_type": "execute_result"
    }
   ],
   "source": [
    "TONE.head()"
   ]
  },
  {
   "cell_type": "code",
   "execution_count": 18,
   "metadata": {},
   "outputs": [
    {
     "name": "stdout",
     "output_type": "stream",
     "text": [
      "2016-01-01 00:15:00\n"
     ]
    }
   ],
   "source": [
    "TONE_15_M = pd.DataFrame({'date': [], 'tone': []})\n",
    "d = TONE.values[0][0]\n",
    "tones = list()\n",
    "print(d)\n",
    "for el in TONE.values:\n",
    "    if el[0] == d:\n",
    "        tones.append(float(el[1]))\n",
    "    else:\n",
    "        TONE_15_M =TONE_15_M.append({'date': d, 'tone': float(sum(tones)/len(tones))},  ignore_index=True)\n",
    "        d = el[0]\n",
    "        tones.append(float(el[1]))\n",
    "TONE_15_M = TONE_15_M.append({'date': d, 'tone': float(sum(tones)/len(tones))}, ignore_index=True)"
   ]
  },
  {
   "cell_type": "code",
   "execution_count": 19,
   "metadata": {},
   "outputs": [
    {
     "data": {
      "text/html": [
       "<div>\n",
       "<style scoped>\n",
       "    .dataframe tbody tr th:only-of-type {\n",
       "        vertical-align: middle;\n",
       "    }\n",
       "\n",
       "    .dataframe tbody tr th {\n",
       "        vertical-align: top;\n",
       "    }\n",
       "\n",
       "    .dataframe thead th {\n",
       "        text-align: right;\n",
       "    }\n",
       "</style>\n",
       "<table border=\"1\" class=\"dataframe\">\n",
       "  <thead>\n",
       "    <tr style=\"text-align: right;\">\n",
       "      <th></th>\n",
       "      <th>date</th>\n",
       "      <th>tone</th>\n",
       "    </tr>\n",
       "  </thead>\n",
       "  <tbody>\n",
       "    <tr>\n",
       "      <th>16443</th>\n",
       "      <td>2016-06-19 11:15:00</td>\n",
       "      <td>-0.735818</td>\n",
       "    </tr>\n",
       "    <tr>\n",
       "      <th>16444</th>\n",
       "      <td>2016-06-21 23:30:00</td>\n",
       "      <td>-0.735783</td>\n",
       "    </tr>\n",
       "    <tr>\n",
       "      <th>16445</th>\n",
       "      <td>2016-06-24 11:30:00</td>\n",
       "      <td>-0.735782</td>\n",
       "    </tr>\n",
       "    <tr>\n",
       "      <th>16446</th>\n",
       "      <td>2016-06-26 23:30:00</td>\n",
       "      <td>-0.735770</td>\n",
       "    </tr>\n",
       "    <tr>\n",
       "      <th>16447</th>\n",
       "      <td>2016-06-29 13:15:00</td>\n",
       "      <td>-0.735716</td>\n",
       "    </tr>\n",
       "  </tbody>\n",
       "</table>\n",
       "</div>"
      ],
      "text/plain": [
       "                     date      tone\n",
       "16443 2016-06-19 11:15:00 -0.735818\n",
       "16444 2016-06-21 23:30:00 -0.735783\n",
       "16445 2016-06-24 11:30:00 -0.735782\n",
       "16446 2016-06-26 23:30:00 -0.735770\n",
       "16447 2016-06-29 13:15:00 -0.735716"
      ]
     },
     "execution_count": 19,
     "metadata": {},
     "output_type": "execute_result"
    }
   ],
   "source": [
    "TONE_15_M.tail()"
   ]
  },
  {
   "cell_type": "code",
   "execution_count": 20,
   "metadata": {},
   "outputs": [
    {
     "data": {
      "text/html": [
       "<div>\n",
       "<style scoped>\n",
       "    .dataframe tbody tr th:only-of-type {\n",
       "        vertical-align: middle;\n",
       "    }\n",
       "\n",
       "    .dataframe tbody tr th {\n",
       "        vertical-align: top;\n",
       "    }\n",
       "\n",
       "    .dataframe thead th {\n",
       "        text-align: right;\n",
       "    }\n",
       "</style>\n",
       "<table border=\"1\" class=\"dataframe\">\n",
       "  <thead>\n",
       "    <tr style=\"text-align: right;\">\n",
       "      <th></th>\n",
       "      <th>date</th>\n",
       "      <th>price</th>\n",
       "    </tr>\n",
       "  </thead>\n",
       "  <tbody>\n",
       "    <tr>\n",
       "      <th>0</th>\n",
       "      <td>2016-01-04 09:45:00</td>\n",
       "      <td>100.021</td>\n",
       "    </tr>\n",
       "    <tr>\n",
       "      <th>1</th>\n",
       "      <td>2016-01-04 09:46:00</td>\n",
       "      <td>100.129</td>\n",
       "    </tr>\n",
       "    <tr>\n",
       "      <th>2</th>\n",
       "      <td>2016-01-04 09:47:00</td>\n",
       "      <td>100.399</td>\n",
       "    </tr>\n",
       "    <tr>\n",
       "      <th>3</th>\n",
       "      <td>2016-01-04 09:48:00</td>\n",
       "      <td>100.286</td>\n",
       "    </tr>\n",
       "    <tr>\n",
       "      <th>4</th>\n",
       "      <td>2016-01-04 09:49:00</td>\n",
       "      <td>100.343</td>\n",
       "    </tr>\n",
       "  </tbody>\n",
       "</table>\n",
       "</div>"
      ],
      "text/plain": [
       "                 date    price\n",
       "0 2016-01-04 09:45:00  100.021\n",
       "1 2016-01-04 09:46:00  100.129\n",
       "2 2016-01-04 09:47:00  100.399\n",
       "3 2016-01-04 09:48:00  100.286\n",
       "4 2016-01-04 09:49:00  100.343"
      ]
     },
     "execution_count": 20,
     "metadata": {},
     "output_type": "execute_result"
    }
   ],
   "source": [
    "intraday.head()"
   ]
  },
  {
   "cell_type": "markdown",
   "metadata": {},
   "source": [
    "### Tone visualization"
   ]
  },
  {
   "cell_type": "code",
   "execution_count": 22,
   "metadata": {},
   "outputs": [
    {
     "name": "stdout",
     "output_type": "stream",
     "text": [
      "3125\n",
      "3125\n",
      "2016-01-04 09:45:00\n"
     ]
    },
    {
     "data": {
      "image/png": "[encoded data removed]",
      "text/plain": [
       "<matplotlib.figure.Figure at 0x7f03d4d2c9e8>"
      ]
     },
     "metadata": {},
     "output_type": "display_data"
    }
   ],
   "source": [
    "import numpy as np\n",
    "df_tone = TONE_15_M\n",
    "\n",
    "start = datetime.datetime.strptime(\"2016-01-04 09:00:00\", '%Y-%m-%d %H:%M:%S')\n",
    "finish = datetime.datetime.strptime(\"2016-06-30 18:00:00\", '%Y-%m-%d %H:%M:%S')\n",
    "\n",
    "step = datetime.timedelta(minutes=15)\n",
    "t = start\n",
    "\n",
    "time = list()\n",
    "while t < finish:\n",
    "    time.append(t)\n",
    "    t+=step\n",
    "\n",
    "    \n",
    "df_tone = df_tone[(df_tone['date'] >= start) & (df_tone['date'] < finish)]\n",
    "days = intraday[(intraday['date'] >= start) & (intraday['date'] < finish)]\n",
    "\n",
    "day = pd.DataFrame({'date':[], 'price': []})\n",
    "f = start\n",
    "while f < finish:\n",
    "    if f in days.values:\n",
    "        day = day.append({'date': f, 'price': days.loc[days['date'] == f].values[0][1]}, ignore_index=True)\n",
    "    f+=step\n",
    "\n",
    "#day['price'] = day['price']-(sum(day['price'])/len(day['price']))\n",
    "\n",
    "lack_tone = list(set(time) - set(list(df_tone['date'])))\n",
    "lack_intraday = list(set(time) - set(list(intraday['date'])))\n",
    "\n",
    "for x in lack_tone:\n",
    "    df_tone = df_tone.append({'date': x, 'tone': np.nan}, ignore_index=True)\n",
    "    \n",
    "for x in lack_intraday:\n",
    "    #day = day.append({'date': x, 'price': np.nan}, ignore_index=True)\n",
    "    df_tone = df_tone[df_tone['date'] != x]\n",
    "    time.remove(x)\n",
    "print(len(df_tone))\n",
    "print(len(day))\n",
    "    \n",
    "df_tone = df_tone.sort_values(by=['date'])    \n",
    "day = day.sort_values(by=['date'])\n",
    "\n",
    "\n",
    "# Converting date to pandas datetime format\n",
    "df_tone['date'] = pd.to_datetime(df_tone['date'])\n",
    "df_tone['date'] = df_tone[\"date\"].apply(mdates.date2num)\n",
    "\n",
    "day[\"date\"] = pd.to_datetime(day[\"date\"])\n",
    "day[\"date\"] = day[\"date\"].apply(mdates.date2num)\n",
    "\n",
    "\n",
    "f1, ax1 = plt.subplots(figsize = (15,5))\n",
    "ax1.xaxis.set_major_formatter(mdates.DateFormatter('%Y-%m-%d %H-%M-%S'))\n",
    "\n",
    "ax1.set_ylabel('tone', color='blue')\n",
    "ax1.plot(time, df_tone['tone'], color = 'blue')\n",
    "ax1.tick_params(axis='y', labelcolor='blue')\n",
    "time_labels = [str(t) for t in time if time.index(t) % 50 ==0]\n",
    "ax1.set_xlabel('time', color='green')\n",
    "ax1.xaxis.set_ticks(time_labels)\n",
    "ax1.set_xticklabels(time_labels, rotation='vertical', fontdict=None, minor=False)\n",
    "print(time[0])\n",
    "\n",
    "\n",
    "ax2 = ax1.twinx()  \n",
    "ax2.set_ylabel('price', color='red')\n",
    "ax2.plot(time, day['price'], color='red')\n",
    "ax2.tick_params(axis='y', labelcolor='red')"
   ]
  },
  {
   "cell_type": "code",
   "execution_count": null,
   "metadata": {},
   "outputs": [],
   "source": []
  }
 ],
 "metadata": {
  "kernelspec": {
   "display_name": "Python 3",
   "language": "python",
   "name": "python3"
  },
  "language_info": {
   "codemirror_mode": {
    "name": "ipython",
    "version": 3
   },
   "file_extension": ".py",
   "mimetype": "text/x-python",
   "name": "python",
   "nbconvert_exporter": "python",
   "pygments_lexer": "ipython3",
   "version": "3.5.2"
  }
 },
 "nbformat": 4,
 "nbformat_minor": 2
}
