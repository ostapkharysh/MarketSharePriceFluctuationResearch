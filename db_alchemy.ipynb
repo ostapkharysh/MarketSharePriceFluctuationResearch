{
 "cells": [
  {
   "cell_type": "code",
   "execution_count": 1,
   "metadata": {},
   "outputs": [],
   "source": [
    "db_link = 'sqlite:////home/ostapkharysh/Documents/bt_data/DB/news_info.db'"
   ]
  },
  {
   "cell_type": "code",
   "execution_count": 2,
   "metadata": {},
   "outputs": [],
   "source": [
    "import os\n",
    "import sys\n",
    "from sqlalchemy import Column, ForeignKey, Integer, String\n",
    "from sqlalchemy.ext.declarative import declarative_base\n",
    "from sqlalchemy.orm import relationship\n",
    "from sqlalchemy import create_engine\n",
    " \n",
    "Base = declarative_base()\n",
    " \n",
    "class Agency(Base):\n",
    "    __tablename__ = 'agency'\n",
    "    # define columns for the table agency\n",
    "    id = Column(Integer, primary_key=True)\n",
    "    name = Column(String(250), nullable=False)\n",
    " \n",
    "class News(Base):\n",
    "    __tablename__ = 'news'\n",
    "    # define columns for the table news.\n",
    "    id = Column(Integer, primary_key=True)\n",
    "    date_time = Column(String(250))\n",
    "    title = Column(String(250))\n",
    "    article_text = Column(String(1000))\n",
    "    link = Column(String(250), unique=True)  #nullable=False\n",
    "    agency_id = Column(Integer, ForeignKey('agency.id'))\n",
    "    agency = relationship(Agency)\n",
    "  \n",
    " \n",
    "# Create an engine that stores data in the local directory's\n",
    "engine = create_engine(db_link)\n",
    " \n",
    "# Create all tables in the engine.\n",
    "Base.metadata.create_all(engine)"
   ]
  },
  {
   "cell_type": "code",
   "execution_count": 11,
   "metadata": {},
   "outputs": [],
   "source": [
    "from sqlalchemy import create_engine\n",
    "from sqlalchemy.orm import sessionmaker\n",
    "from sqlalchemy.exc import IntegrityError\n",
    "#from 'filename' import Base, Agency, News\n",
    "\n",
    "\n",
    "def add_agency(agency_name):\n",
    "    \n",
    "    engine = create_engine(db_link)\n",
    "    # Bind the engine to the metadata of the Base class so that the\n",
    "    # declaratives can be accessed through a DBSession instance\n",
    "    Base.metadata.bind = engine\n",
    "     \n",
    "    DBSession = sessionmaker(bind=engine)\n",
    "    \n",
    "    # A DBSession() instance establishes all conversations with the database\n",
    "    # and represents a \"staging zone\" for all the objects loaded into the\n",
    "    # database session object. Any change made against the objects in the\n",
    "    # session won't be persisted into the database until you call\n",
    "    # session.commit(). If you're not happy about the changes, you can\n",
    "    # revert all of them back to the last commit by calling\n",
    "    # session.rollback()\n",
    "    \n",
    "    session = DBSession()\n",
    "    \n",
    "    data = session.query(Agency).all()\n",
    "    if agency_name in [el.name for el in data]:\n",
    "        return \"There is already a Table with such name: {}\".format(agency_name)\n",
    "\n",
    " \n",
    "    # Insert a Agency in the agency table\n",
    "    new_agency = Agency(name=agency_name)\n",
    "    session.add(new_agency)\n",
    "    session.commit()\n",
    "    return \"The new table {} is created.\".format(agency_name)\n",
    "    \n",
    "def add_news(d_t, ttl, ar_txt, lnk, agency_name):\n",
    "    \n",
    "    # Insert an news in the address table\n",
    "    engine = create_engine(db_link)\n",
    "    Base.metadata.bind = engine\n",
    "    DBSession = sessionmaker(bind=engine)\n",
    "    session = DBSession()\n",
    "    \n",
    "    try:\n",
    "        \n",
    "        cur_agency = session.query(Agency).filter_by(name=agency_name).first()\n",
    "        new_news = News(date_time=d_t, title= ttl, article_text=ar_txt, link=lnk, agency=cur_agency)\n",
    "        session.add(new_news)\n",
    "        session.commit()\n",
    "        \n",
    "    except IntegrityError:\n",
    "        session.rollback()\n",
    "        return 'The link provided seems to exist in DB: {}'.format(lnk)\n",
    "    \n",
    "    except InvalidRequestError:\n",
    "        session.rollback()\n",
    "        return 'You are requesting access to the non-existing source'\n",
    "    \n",
    "    \n",
    "        \n",
    "    return \"The news has been successfully added\""
   ]
  },
  {
   "cell_type": "code",
   "execution_count": 6,
   "metadata": {},
   "outputs": [
    {
     "name": "stdout",
     "output_type": "stream",
     "text": [
      "There is already a Table with such name: Reuters\n",
      "There is already a Table with such name: Guardian\n"
     ]
    }
   ],
   "source": [
    "print(add_agency('Reuters'))\n",
    "print(add_agency('Guardian'))"
   ]
  },
  {
   "cell_type": "code",
   "execution_count": 13,
   "metadata": {},
   "outputs": [
    {
     "data": {
      "text/plain": [
       "'The link provided seems to exist in DB: https/ivent-zi-vsratou-nasvou-na-iaku-vsi-pidpusuiutsia'"
      ]
     },
     "execution_count": 13,
     "metadata": {},
     "output_type": "execute_result"
    }
   ],
   "source": [
    "add_news('2018.01.01', \"A Manhattan bitch stole the deer from the client's flat\",'There was a time when bitches were rulling the world, but this time has passed' \n",
    "                ,'https/ivent-zi-vsratou-nasvou-na-iaku-vsi-pidpusuiutsia', 'Reuters') "
   ]
  },
  {
   "cell_type": "code",
   "execution_count": 5,
   "metadata": {},
   "outputs": [],
   "source": [
    "from sqlalchemy import create_engine\n",
    "from sqlalchemy.orm import sessionmaker"
   ]
  },
  {
   "cell_type": "code",
   "execution_count": 6,
   "metadata": {},
   "outputs": [],
   "source": [
    "engine = create_engine(db_link)\n",
    "Base.metadata.bind = engine"
   ]
  },
  {
   "cell_type": "code",
   "execution_count": 21,
   "metadata": {},
   "outputs": [],
   "source": [
    "DBSession = sessionmaker()\n",
    "DBSession.bind = engine\n",
    "session = DBSession()\n",
    "# Make a query to find all Persons in the database\n",
    "d = session.query(Agency).all()\n",
    "n = [el.name for el in d]"
   ]
  },
  {
   "cell_type": "code",
   "execution_count": 28,
   "metadata": {},
   "outputs": [
    {
     "data": {
      "text/plain": [
       "<__main__.Agency at 0x7fdd6a7bf2b0>"
      ]
     },
     "execution_count": 28,
     "metadata": {},
     "output_type": "execute_result"
    }
   ],
   "source": [
    "session.query(Agency).filter_by(name='Reuters').first() "
   ]
  },
  {
   "cell_type": "code",
   "execution_count": 11,
   "metadata": {},
   "outputs": [
    {
     "ename": "AttributeError",
     "evalue": "'Query' object has no attribute 'name'",
     "output_type": "error",
     "traceback": [
      "\u001b[0;31m---------------------------------------------------------------------------\u001b[0m",
      "\u001b[0;31mAttributeError\u001b[0m                            Traceback (most recent call last)",
      "\u001b[0;32m<ipython-input-11-75e578f58fa5>\u001b[0m in \u001b[0;36m<module>\u001b[0;34m()\u001b[0m\n\u001b[1;32m      1\u001b[0m \u001b[0;31m# Return the first Person from all Persons in the database\u001b[0m\u001b[0;34m\u001b[0m\u001b[0;34m\u001b[0m\u001b[0m\n\u001b[1;32m      2\u001b[0m \u001b[0magency\u001b[0m \u001b[0;34m=\u001b[0m \u001b[0msession\u001b[0m\u001b[0;34m.\u001b[0m\u001b[0mquery\u001b[0m\u001b[0;34m(\u001b[0m\u001b[0mAgency\u001b[0m\u001b[0;34m)\u001b[0m\u001b[0;34m\u001b[0m\u001b[0m\n\u001b[0;32m----> 3\u001b[0;31m \u001b[0magency\u001b[0m\u001b[0;34m.\u001b[0m\u001b[0mname\u001b[0m\u001b[0;34m\u001b[0m\u001b[0m\n\u001b[0m",
      "\u001b[0;31mAttributeError\u001b[0m: 'Query' object has no attribute 'name'"
     ]
    }
   ],
   "source": [
    "# Return the first Person from all Persons in the database\n",
    "agency = session.query(Agency).first()\n",
    "agency.name"
   ]
  },
  {
   "cell_type": "code",
   "execution_count": 9,
   "metadata": {},
   "outputs": [
    {
     "data": {
      "text/plain": [
       "[<__main__.News at 0x7f47c384d908>]"
      ]
     },
     "execution_count": 9,
     "metadata": {},
     "output_type": "execute_result"
    }
   ],
   "source": [
    "# Find all Address whose person field is pointing to the person object\n",
    "session.query(News).filter(News.agency == agency).all()"
   ]
  },
  {
   "cell_type": "code",
   "execution_count": 10,
   "metadata": {},
   "outputs": [
    {
     "data": {
      "text/plain": [
       "'2018.01.01'"
      ]
     },
     "execution_count": 10,
     "metadata": {},
     "output_type": "execute_result"
    }
   ],
   "source": [
    "news = session.query(News).filter(News.agency == agency).one()\n",
    "news.date_time"
   ]
  },
  {
   "cell_type": "code",
   "execution_count": null,
   "metadata": {},
   "outputs": [],
   "source": []
  }
 ],
 "metadata": {
  "kernelspec": {
   "display_name": "Python 3",
   "language": "python",
   "name": "python3"
  },
  "language_info": {
   "codemirror_mode": {
    "name": "ipython",
    "version": 3
   },
   "file_extension": ".py",
   "mimetype": "text/x-python",
   "name": "python",
   "nbconvert_exporter": "python",
   "pygments_lexer": "ipython3",
   "version": "3.5.2"
  }
 },
 "nbformat": 4,
 "nbformat_minor": 2
}
