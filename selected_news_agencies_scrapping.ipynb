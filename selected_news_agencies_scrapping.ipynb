{
 "cells": [
  {
   "cell_type": "code",
   "execution_count": 86,
   "metadata": {},
   "outputs": [],
   "source": [
    "import pandas as pd\n",
    "from newsapi import NewsApiClient\n",
    "newsapi = NewsApiClient(api_key='0763606ae56d49e08902365e0dbcb239')"
   ]
  },
  {
   "cell_type": "code",
   "execution_count": 87,
   "metadata": {},
   "outputs": [],
   "source": [
    "df = pd.DataFrame(data=pd.read_csv('News_agencies.csv'))\n",
    "df_sp = pd.DataFrame(data=pd.read_csv('s&p500.csv'))"
   ]
  },
  {
   "cell_type": "code",
   "execution_count": 89,
   "metadata": {},
   "outputs": [
    {
     "name": "stdout",
     "output_type": "stream",
     "text": [
      "51\n"
     ]
    },
    {
     "data": {
      "text/plain": [
       "'Apple Inc.'"
      ]
     },
     "execution_count": 89,
     "metadata": {},
     "output_type": "execute_result"
    }
   ],
   "source": [
    "count = 0 \n",
    "for el in df_sp['Name']:\n",
    "    if el == 'Apple Inc.':\n",
    "        print(count)\n",
    "    count+=1\n",
    "\n",
    "d = df_sp.iloc[51,0]\n",
    "d"
   ]
  },
  {
   "cell_type": "code",
   "execution_count": 90,
   "metadata": {},
   "outputs": [
    {
     "name": "stdout",
     "output_type": "stream",
     "text": [
      "['abc-news', 'the-wall-street-journal', 'bloomberg', 'cnbc', 'cnn', 'financial-times', 'financial-post', 'the-new-york-times', 'bbc-news', 'business-insider', 'the-economist', 'fox-news', 'associated-press', 'google-news', 'al-jazeera-english', 'the-guardian-uk']\n"
     ]
    }
   ],
   "source": [
    "print(list(df['news_id']))\n",
    "\n",
    "news_agencies = \"\".join([el+','  if el !=list(df['news_id'])[-1] else el for el in list(df['news_id'])])"
   ]
  },
  {
   "cell_type": "code",
   "execution_count": 96,
   "metadata": {},
   "outputs": [],
   "source": [
    "with open('Apple.csv', 'a') as csvfile:\n",
    "    fieldnames = ['link', 'time']\n",
    "    writer = csv.DictWriter(csvfile, fieldnames=fieldnames)\n",
    "    writer.writeheader()\n",
    "    for i in range(1,10):\n",
    "        all_articles = newsapi.get_everything(q='Apple',\n",
    "                                          sources=news_agencies,   #'bbc-news,the-verge'\n",
    "                                          #domains='bbc.co.uk,techcrunch.com',\n",
    "                                          from_param='2018-09-05',\n",
    "                                          to='2018-10-02',\n",
    "                                          language='en',\n",
    "                                          sort_by='relevancy',\n",
    "                                          page_size = 100,\n",
    "                                          page=i)\n",
    "        data = [[el['url'], el['publishedAt']] for el in all_articles['articles']]\n",
    "        for el in data:\n",
    "            writer.writerow({'link': el[0],\n",
    "                         'time': el[1]})"
   ]
  },
  {
   "cell_type": "code",
   "execution_count": null,
   "metadata": {},
   "outputs": [],
   "source": [
    "def conv_to_date(el):\n",
    "    el = el.split('T')\n",
    "    print(el)\n",
    "    el = el[0]+\" \"+el[1].replace('Z', '')\n",
    "    return datetime.strptime(el, '%Y-%m-%d %H:%M:%S')"
   ]
  }
 ],
 "metadata": {
  "kernelspec": {
   "display_name": "Python 3",
   "language": "python",
   "name": "python3"
  },
  "language_info": {
   "codemirror_mode": {
    "name": "ipython",
    "version": 3
   },
   "file_extension": ".py",
   "mimetype": "text/x-python",
   "name": "python",
   "nbconvert_exporter": "python",
   "pygments_lexer": "ipython3",
   "version": "3.5.2"
  }
 },
 "nbformat": 4,
 "nbformat_minor": 2
}
